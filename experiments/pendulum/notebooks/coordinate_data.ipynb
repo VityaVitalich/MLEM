{
 "cells": [
  {
   "cell_type": "code",
   "execution_count": 1,
   "metadata": {},
   "outputs": [],
   "source": [
    "import numpy as np \n",
    "import pickle\n",
    "import pandas as pd\n",
    "from coordinate_constructor import create_dataset\n",
    "from tqdm import tqdm\n",
    "\n",
    "np.random.seed(42)\n"
   ]
  },
  {
   "cell_type": "code",
   "execution_count": 2,
   "metadata": {},
   "outputs": [
    {
     "name": "stderr",
     "output_type": "stream",
     "text": [
      "100%|██████████| 100000/100000 [06:43<00:00, 247.57it/s]\n"
     ]
    }
   ],
   "source": [
    "ds = create_dataset(100000)"
   ]
  },
  {
   "cell_type": "code",
   "execution_count": 3,
   "metadata": {},
   "outputs": [
    {
     "name": "stderr",
     "output_type": "stream",
     "text": [
      "100000it [00:03, 30656.84it/s]\n"
     ]
    }
   ],
   "source": [
    "out_dic = {'event_time': [], 'flag': [], 'trx_count': [], 'pad_category': [], 'x': [], 'y': []}\n",
    "\n",
    "\n",
    "for j, obj in tqdm(enumerate(ds)):\n",
    "    x, y, t = obj[0]\n",
    "    l = obj[1]\n",
    "\n",
    "    out_dic['event_time'].append(list(t))\n",
    "    out_dic['flag'].append(l)\n",
    "    out_dic['trx_count'].append(len(t))\n",
    "    out_dic['pad_category'].append([0]*256)\n",
    "    out_dic['x'].append(list(x / l))\n",
    "    out_dic['y'].append(list(y / l))"
   ]
  },
  {
   "cell_type": "code",
   "execution_count": 4,
   "metadata": {},
   "outputs": [],
   "source": [
    "df = pd.DataFrame(out_dic)\n",
    "df['pendulum_id'] = np.arange(len(df))"
   ]
  },
  {
   "cell_type": "code",
   "execution_count": 5,
   "metadata": {},
   "outputs": [
    {
     "data": {
      "text/html": [
       "<div>\n",
       "<style scoped>\n",
       "    .dataframe tbody tr th:only-of-type {\n",
       "        vertical-align: middle;\n",
       "    }\n",
       "\n",
       "    .dataframe tbody tr th {\n",
       "        vertical-align: top;\n",
       "    }\n",
       "\n",
       "    .dataframe thead th {\n",
       "        text-align: right;\n",
       "    }\n",
       "</style>\n",
       "<table border=\"1\" class=\"dataframe\">\n",
       "  <thead>\n",
       "    <tr style=\"text-align: right;\">\n",
       "      <th></th>\n",
       "      <th>event_time</th>\n",
       "      <th>flag</th>\n",
       "      <th>trx_count</th>\n",
       "      <th>pad_category</th>\n",
       "      <th>x</th>\n",
       "      <th>y</th>\n",
       "      <th>pendulum_id</th>\n",
       "    </tr>\n",
       "  </thead>\n",
       "  <tbody>\n",
       "    <tr>\n",
       "      <th>0</th>\n",
       "      <td>[0.06086283691839688, 0.07202048770225249, 0.2...</td>\n",
       "      <td>2.185431</td>\n",
       "      <td>99</td>\n",
       "      <td>[0, 0, 0, 0, 0, 0, 0, 0, 0, 0, 0, 0, 0, 0, 0, ...</td>\n",
       "      <td>[0.4015762927243535, 0.3344843758469082, -0.45...</td>\n",
       "      <td>[0.9158255735246557, 0.9424012957940499, 0.892...</td>\n",
       "      <td>0</td>\n",
       "    </tr>\n",
       "    <tr>\n",
       "      <th>1</th>\n",
       "      <td>[0.0726108258193494, 0.08414476108936249, 0.16...</td>\n",
       "      <td>3.228931</td>\n",
       "      <td>94</td>\n",
       "      <td>[0, 0, 0, 0, 0, 0, 0, 0, 0, 0, 0, 0, 0, 0, 0, ...</td>\n",
       "      <td>[0.9304597803322765, 0.9367802291598812, 0.968...</td>\n",
       "      <td>[-0.36639404632719097, -0.34991827939557607, -...</td>\n",
       "      <td>1</td>\n",
       "    </tr>\n",
       "    <tr>\n",
       "      <th>2</th>\n",
       "      <td>[0.15522971205784214, 0.27044895926332435, 0.4...</td>\n",
       "      <td>3.878920</td>\n",
       "      <td>63</td>\n",
       "      <td>[0, 0, 0, 0, 0, 0, 0, 0, 0, 0, 0, 0, 0, 0, 0, ...</td>\n",
       "      <td>[0.8434040490608509, 0.910996391649336, 0.9558...</td>\n",
       "      <td>[-0.537279824698231, -0.4124143237108643, -0.2...</td>\n",
       "      <td>2</td>\n",
       "    </tr>\n",
       "    <tr>\n",
       "      <th>3</th>\n",
       "      <td>[0.19307811219162907, 0.2117723519667045, 0.22...</td>\n",
       "      <td>4.984866</td>\n",
       "      <td>92</td>\n",
       "      <td>[0, 0, 0, 0, 0, 0, 0, 0, 0, 0, 0, 0, 0, 0, 0, ...</td>\n",
       "      <td>[0.46897397942180297, 0.5723326709689674, 0.61...</td>\n",
       "      <td>[-0.8832119828361018, -0.820021532486512, -0.7...</td>\n",
       "      <td>3</td>\n",
       "    </tr>\n",
       "    <tr>\n",
       "      <th>4</th>\n",
       "      <td>[0.09009287687924147, 0.21141374143986502, 0.3...</td>\n",
       "      <td>4.722532</td>\n",
       "      <td>73</td>\n",
       "      <td>[0, 0, 0, 0, 0, 0, 0, 0, 0, 0, 0, 0, 0, 0, 0, ...</td>\n",
       "      <td>[0.5326887873321751, 0.3976757867093064, 0.291...</td>\n",
       "      <td>[0.8463112050839081, 0.9175260043536283, 0.956...</td>\n",
       "      <td>4</td>\n",
       "    </tr>\n",
       "  </tbody>\n",
       "</table>\n",
       "</div>"
      ],
      "text/plain": [
       "                                          event_time      flag  trx_count  \\\n",
       "0  [0.06086283691839688, 0.07202048770225249, 0.2...  2.185431         99   \n",
       "1  [0.0726108258193494, 0.08414476108936249, 0.16...  3.228931         94   \n",
       "2  [0.15522971205784214, 0.27044895926332435, 0.4...  3.878920         63   \n",
       "3  [0.19307811219162907, 0.2117723519667045, 0.22...  4.984866         92   \n",
       "4  [0.09009287687924147, 0.21141374143986502, 0.3...  4.722532         73   \n",
       "\n",
       "                                        pad_category  \\\n",
       "0  [0, 0, 0, 0, 0, 0, 0, 0, 0, 0, 0, 0, 0, 0, 0, ...   \n",
       "1  [0, 0, 0, 0, 0, 0, 0, 0, 0, 0, 0, 0, 0, 0, 0, ...   \n",
       "2  [0, 0, 0, 0, 0, 0, 0, 0, 0, 0, 0, 0, 0, 0, 0, ...   \n",
       "3  [0, 0, 0, 0, 0, 0, 0, 0, 0, 0, 0, 0, 0, 0, 0, ...   \n",
       "4  [0, 0, 0, 0, 0, 0, 0, 0, 0, 0, 0, 0, 0, 0, 0, ...   \n",
       "\n",
       "                                                   x  \\\n",
       "0  [0.4015762927243535, 0.3344843758469082, -0.45...   \n",
       "1  [0.9304597803322765, 0.9367802291598812, 0.968...   \n",
       "2  [0.8434040490608509, 0.910996391649336, 0.9558...   \n",
       "3  [0.46897397942180297, 0.5723326709689674, 0.61...   \n",
       "4  [0.5326887873321751, 0.3976757867093064, 0.291...   \n",
       "\n",
       "                                                   y  pendulum_id  \n",
       "0  [0.9158255735246557, 0.9424012957940499, 0.892...            0  \n",
       "1  [-0.36639404632719097, -0.34991827939557607, -...            1  \n",
       "2  [-0.537279824698231, -0.4124143237108643, -0.2...            2  \n",
       "3  [-0.8832119828361018, -0.820021532486512, -0.7...            3  \n",
       "4  [0.8463112050839081, 0.9175260043536283, 0.956...            4  "
      ]
     },
     "execution_count": 5,
     "metadata": {},
     "output_type": "execute_result"
    }
   ],
   "source": [
    "df.head()"
   ]
  },
  {
   "cell_type": "code",
   "execution_count": 6,
   "metadata": {},
   "outputs": [],
   "source": [
    "df.loc[:1000].to_parquet('../data/test_hawkes_coordinate_100k.parquet')\n",
    "df.loc[1000:].to_parquet('../data/train_hawkes_coordinate_100k.parquet')"
   ]
  },
  {
   "cell_type": "code",
   "execution_count": 33,
   "metadata": {},
   "outputs": [],
   "source": [
    "df['min_y'] = df['y'].apply(min)"
   ]
  },
  {
   "cell_type": "code",
   "execution_count": 34,
   "metadata": {},
   "outputs": [
    {
     "data": {
      "text/plain": [
       "array([[1.        , 0.05054011],\n",
       "       [0.05054011, 1.        ]])"
      ]
     },
     "execution_count": 34,
     "metadata": {},
     "output_type": "execute_result"
    }
   ],
   "source": [
    "np.corrcoef(df['min_y'].values, df['flag'].values)"
   ]
  },
  {
   "cell_type": "code",
   "execution_count": 7,
   "metadata": {},
   "outputs": [],
   "source": [
    "mean = df.loc[1000:]['flag'].mean()"
   ]
  },
  {
   "cell_type": "code",
   "execution_count": 8,
   "metadata": {},
   "outputs": [
    {
     "data": {
      "text/plain": [
       "1.7249891377672095"
      ]
     },
     "execution_count": 8,
     "metadata": {},
     "output_type": "execute_result"
    }
   ],
   "source": [
    "((df.loc[:1000]['flag'] - mean)**2).mean()"
   ]
  },
  {
   "cell_type": "code",
   "execution_count": null,
   "metadata": {},
   "outputs": [],
   "source": []
  }
 ],
 "metadata": {
  "kernelspec": {
   "display_name": "Python 3",
   "language": "python",
   "name": "python3"
  },
  "language_info": {
   "codemirror_mode": {
    "name": "ipython",
    "version": 3
   },
   "file_extension": ".py",
   "mimetype": "text/x-python",
   "name": "python",
   "nbconvert_exporter": "python",
   "pygments_lexer": "ipython3",
   "version": "3.10.12"
  }
 },
 "nbformat": 4,
 "nbformat_minor": 2
}
