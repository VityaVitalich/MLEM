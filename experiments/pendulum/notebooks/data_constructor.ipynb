{
 "cells": [
  {
   "cell_type": "code",
   "execution_count": 1,
   "metadata": {},
   "outputs": [],
   "source": [
    "import math\n",
    "import numpy as np\n",
    "from scipy.integrate import solve_ivp\n",
    "import matplotlib.pyplot as plt\n",
    "import os\n",
    "from tqdm import tqdm\n",
    "import pandas as pd\n",
    "from PIL import Image\n",
    "import asyncio\n",
    "import pickle\n",
    "from async_constructor import create_dataset, get_arrs\n",
    "import scipy.stats\n",
    "import utils\n",
    "import torch\n",
    "from sklearn.metrics import mean_squared_error\n",
    "\n",
    "np.random.seed(42)"
   ]
  },
  {
   "cell_type": "code",
   "execution_count": 2,
   "metadata": {},
   "outputs": [],
   "source": [
    "name = '../data/hawkes_16.pickle'\n",
    "with open(name, 'rb') as f:\n",
    "    out = pickle.load(f)"
   ]
  },
  {
   "cell_type": "code",
   "execution_count": 5,
   "metadata": {},
   "outputs": [],
   "source": [
    "for i in range(len(out)):\n",
    "    out[i] = np.vstack(out[i])"
   ]
  },
  {
   "cell_type": "code",
   "execution_count": 6,
   "metadata": {},
   "outputs": [
    {
     "name": "stderr",
     "output_type": "stream",
     "text": [
      "  0%|          | 28/9000 [00:00<00:32, 274.32it/s]"
     ]
    },
    {
     "name": "stderr",
     "output_type": "stream",
     "text": [
      "100%|██████████| 9000/9000 [00:32<00:00, 275.76it/s]\n"
     ]
    }
   ],
   "source": [
    "ds = create_dataset(9000)"
   ]
  },
  {
   "cell_type": "code",
   "execution_count": 15,
   "metadata": {},
   "outputs": [
    {
     "name": "stderr",
     "output_type": "stream",
     "text": [
      "9000it [00:24, 360.57it/s]\n"
     ]
    }
   ],
   "source": [
    "out_dic = {'event_time': [], 'flag': [], 'trx_count': [], 'pad_category': []}\n",
    "\n",
    "for i in range(256):\n",
    "    out_dic[i] = []\n",
    "\n",
    "for j, obj in tqdm(enumerate(ds)):\n",
    "    x, y, t = obj[0]\n",
    "    l = obj[1]\n",
    "\n",
    "    arr = out[j]\n",
    "    for i in range(256):\n",
    "        out_dic[i].append(list(arr[:,i].astype(int)))\n",
    "\n",
    "    out_dic['event_time'].append(list(t))\n",
    "    out_dic['flag'].append(l)\n",
    "    out_dic['trx_count'].append(len(t))\n",
    "    out_dic['pad_category'].append([0]*256)"
   ]
  },
  {
   "cell_type": "code",
   "execution_count": 16,
   "metadata": {},
   "outputs": [],
   "source": [
    "df = pd.DataFrame(out_dic)"
   ]
  },
  {
   "cell_type": "code",
   "execution_count": 17,
   "metadata": {},
   "outputs": [],
   "source": [
    "df['pendulum_id'] = np.arange(len(df))"
   ]
  },
  {
   "cell_type": "code",
   "execution_count": 18,
   "metadata": {},
   "outputs": [
    {
     "data": {
      "text/html": [
       "<div>\n",
       "<style scoped>\n",
       "    .dataframe tbody tr th:only-of-type {\n",
       "        vertical-align: middle;\n",
       "    }\n",
       "\n",
       "    .dataframe tbody tr th {\n",
       "        vertical-align: top;\n",
       "    }\n",
       "\n",
       "    .dataframe thead th {\n",
       "        text-align: right;\n",
       "    }\n",
       "</style>\n",
       "<table border=\"1\" class=\"dataframe\">\n",
       "  <thead>\n",
       "    <tr style=\"text-align: right;\">\n",
       "      <th></th>\n",
       "      <th>event_time</th>\n",
       "      <th>flag</th>\n",
       "      <th>trx_count</th>\n",
       "      <th>pad_category</th>\n",
       "      <th>0</th>\n",
       "      <th>1</th>\n",
       "      <th>2</th>\n",
       "      <th>3</th>\n",
       "      <th>4</th>\n",
       "      <th>5</th>\n",
       "      <th>...</th>\n",
       "      <th>247</th>\n",
       "      <th>248</th>\n",
       "      <th>249</th>\n",
       "      <th>250</th>\n",
       "      <th>251</th>\n",
       "      <th>252</th>\n",
       "      <th>253</th>\n",
       "      <th>254</th>\n",
       "      <th>255</th>\n",
       "      <th>pendulum_id</th>\n",
       "    </tr>\n",
       "  </thead>\n",
       "  <tbody>\n",
       "    <tr>\n",
       "      <th>0</th>\n",
       "      <td>[0.09129425537759533, 0.10792134282020369, 0.3...</td>\n",
       "      <td>2.185431</td>\n",
       "      <td>61</td>\n",
       "      <td>[0, 0, 0, 0, 0, 0, 0, 0, 0, 0, 0, 0, 0, 0, 0, ...</td>\n",
       "      <td>[1, 1, 1, 1, 1, 1, 1, 1, 1, 1, 1, 1, 1, 1, 1, ...</td>\n",
       "      <td>[1, 1, 1, 1, 1, 1, 1, 1, 1, 1, 1, 1, 1, 1, 1, ...</td>\n",
       "      <td>[1, 1, 1, 1, 1, 1, 1, 1, 1, 1, 1, 1, 1, 1, 1, ...</td>\n",
       "      <td>[1, 1, 1, 1, 1, 1, 1, 1, 1, 1, 1, 1, 1, 1, 1, ...</td>\n",
       "      <td>[1, 1, 1, 1, 1, 1, 1, 1, 1, 1, 1, 1, 1, 1, 1, ...</td>\n",
       "      <td>[1, 1, 1, 1, 1, 1, 1, 1, 1, 1, 1, 1, 1, 1, 1, ...</td>\n",
       "      <td>...</td>\n",
       "      <td>[1, 1, 1, 1, 1, 1, 1, 1, 1, 1, 1, 1, 1, 1, 1, ...</td>\n",
       "      <td>[1, 1, 1, 1, 1, 1, 1, 1, 1, 1, 1, 1, 1, 1, 1, ...</td>\n",
       "      <td>[1, 1, 1, 1, 1, 1, 1, 1, 1, 1, 1, 1, 1, 1, 1, ...</td>\n",
       "      <td>[1, 1, 1, 1, 1, 1, 1, 1, 1, 1, 1, 1, 1, 1, 1, ...</td>\n",
       "      <td>[1, 1, 1, 1, 1, 1, 1, 1, 1, 1, 1, 1, 1, 1, 1, ...</td>\n",
       "      <td>[1, 1, 1, 1, 1, 1, 1, 1, 1, 1, 1, 1, 1, 1, 1, ...</td>\n",
       "      <td>[1, 1, 1, 1, 1, 1, 1, 1, 1, 1, 1, 1, 1, 1, 1, ...</td>\n",
       "      <td>[1, 1, 1, 1, 1, 1, 1, 1, 1, 1, 1, 1, 1, 1, 1, ...</td>\n",
       "      <td>[1, 1, 1, 1, 1, 1, 1, 1, 1, 1, 1, 1, 1, 1, 1, ...</td>\n",
       "      <td>0</td>\n",
       "    </tr>\n",
       "    <tr>\n",
       "      <th>1</th>\n",
       "      <td>[0.02511673382758245, 0.0654999279317425, 0.10...</td>\n",
       "      <td>0.531285</td>\n",
       "      <td>64</td>\n",
       "      <td>[0, 0, 0, 0, 0, 0, 0, 0, 0, 0, 0, 0, 0, 0, 0, ...</td>\n",
       "      <td>[1, 1, 1, 1, 1, 1, 1, 1, 1, 1, 1, 1, 1, 1, 1, ...</td>\n",
       "      <td>[1, 1, 1, 1, 1, 1, 1, 1, 1, 1, 1, 1, 1, 1, 1, ...</td>\n",
       "      <td>[1, 1, 1, 1, 1, 1, 1, 1, 1, 1, 1, 1, 1, 1, 1, ...</td>\n",
       "      <td>[1, 1, 1, 1, 1, 1, 1, 1, 1, 1, 1, 1, 1, 1, 1, ...</td>\n",
       "      <td>[1, 1, 1, 1, 1, 1, 1, 1, 1, 1, 1, 1, 1, 1, 1, ...</td>\n",
       "      <td>[1, 1, 1, 1, 1, 1, 1, 1, 1, 1, 1, 1, 1, 1, 1, ...</td>\n",
       "      <td>...</td>\n",
       "      <td>[1, 1, 1, 1, 1, 1, 1, 1, 1, 1, 1, 1, 1, 1, 1, ...</td>\n",
       "      <td>[1, 1, 1, 1, 1, 1, 1, 1, 1, 1, 1, 1, 1, 1, 1, ...</td>\n",
       "      <td>[1, 1, 1, 1, 1, 1, 1, 1, 1, 1, 1, 1, 1, 1, 1, ...</td>\n",
       "      <td>[1, 1, 1, 1, 1, 1, 1, 1, 1, 1, 1, 1, 1, 1, 1, ...</td>\n",
       "      <td>[1, 1, 1, 1, 1, 1, 1, 1, 1, 1, 1, 1, 1, 1, 1, ...</td>\n",
       "      <td>[1, 1, 1, 1, 1, 1, 1, 1, 1, 1, 1, 1, 1, 1, 1, ...</td>\n",
       "      <td>[1, 1, 1, 1, 1, 1, 1, 1, 1, 1, 1, 1, 1, 1, 1, ...</td>\n",
       "      <td>[1, 1, 1, 1, 1, 1, 1, 1, 1, 1, 1, 1, 1, 1, 1, ...</td>\n",
       "      <td>[1, 1, 1, 1, 1, 1, 1, 1, 1, 1, 1, 1, 1, 1, 1, ...</td>\n",
       "      <td>1</td>\n",
       "    </tr>\n",
       "    <tr>\n",
       "      <th>2</th>\n",
       "      <td>[0.135003424835367, 0.2538551460338464, 0.2873...</td>\n",
       "      <td>1.130378</td>\n",
       "      <td>67</td>\n",
       "      <td>[0, 0, 0, 0, 0, 0, 0, 0, 0, 0, 0, 0, 0, 0, 0, ...</td>\n",
       "      <td>[1, 1, 1, 1, 1, 1, 1, 1, 1, 1, 1, 1, 1, 1, 1, ...</td>\n",
       "      <td>[1, 1, 1, 1, 1, 1, 1, 1, 1, 1, 1, 1, 1, 1, 1, ...</td>\n",
       "      <td>[1, 1, 1, 1, 1, 1, 1, 1, 1, 1, 1, 1, 1, 1, 1, ...</td>\n",
       "      <td>[1, 1, 1, 1, 1, 1, 1, 1, 1, 1, 1, 1, 1, 1, 1, ...</td>\n",
       "      <td>[1, 1, 1, 1, 1, 1, 1, 1, 1, 1, 1, 1, 1, 1, 1, ...</td>\n",
       "      <td>[1, 1, 1, 1, 1, 1, 1, 1, 1, 1, 1, 1, 1, 1, 1, ...</td>\n",
       "      <td>...</td>\n",
       "      <td>[1, 1, 1, 1, 1, 1, 1, 1, 1, 1, 1, 1, 1, 1, 1, ...</td>\n",
       "      <td>[1, 1, 1, 1, 1, 1, 1, 1, 1, 1, 1, 1, 1, 1, 1, ...</td>\n",
       "      <td>[1, 1, 1, 1, 1, 1, 1, 1, 1, 1, 1, 1, 1, 1, 1, ...</td>\n",
       "      <td>[1, 1, 1, 1, 1, 1, 1, 1, 1, 1, 1, 1, 1, 1, 1, ...</td>\n",
       "      <td>[1, 1, 1, 1, 1, 1, 1, 1, 1, 1, 1, 1, 1, 1, 1, ...</td>\n",
       "      <td>[1, 1, 1, 1, 1, 1, 1, 1, 1, 1, 1, 1, 1, 1, 1, ...</td>\n",
       "      <td>[1, 1, 1, 1, 1, 1, 1, 1, 1, 1, 1, 1, 1, 1, 1, ...</td>\n",
       "      <td>[1, 1, 1, 1, 1, 1, 1, 1, 1, 1, 1, 1, 1, 1, 1, ...</td>\n",
       "      <td>[1, 1, 1, 1, 1, 1, 1, 1, 1, 1, 1, 1, 1, 1, 1, ...</td>\n",
       "      <td>2</td>\n",
       "    </tr>\n",
       "    <tr>\n",
       "      <th>3</th>\n",
       "      <td>[0.22587905145459264, 0.22694736582862945, 0.2...</td>\n",
       "      <td>2.773636</td>\n",
       "      <td>41</td>\n",
       "      <td>[0, 0, 0, 0, 0, 0, 0, 0, 0, 0, 0, 0, 0, 0, 0, ...</td>\n",
       "      <td>[1, 1, 1, 1, 1, 1, 1, 1, 1, 1, 1, 1, 1, 1, 1, ...</td>\n",
       "      <td>[1, 1, 1, 1, 1, 1, 1, 1, 1, 1, 1, 1, 1, 1, 1, ...</td>\n",
       "      <td>[1, 1, 1, 1, 1, 1, 1, 1, 1, 1, 1, 1, 1, 1, 1, ...</td>\n",
       "      <td>[1, 1, 1, 1, 1, 1, 1, 1, 1, 1, 1, 1, 1, 1, 1, ...</td>\n",
       "      <td>[1, 1, 1, 1, 1, 1, 1, 1, 1, 1, 1, 1, 1, 1, 1, ...</td>\n",
       "      <td>[1, 1, 1, 1, 1, 1, 1, 1, 1, 1, 1, 1, 1, 1, 1, ...</td>\n",
       "      <td>...</td>\n",
       "      <td>[1, 1, 1, 1, 1, 1, 1, 1, 1, 1, 1, 1, 1, 1, 1, ...</td>\n",
       "      <td>[1, 1, 1, 1, 1, 1, 1, 1, 1, 1, 1, 1, 1, 1, 1, ...</td>\n",
       "      <td>[1, 1, 1, 1, 1, 1, 1, 1, 1, 1, 1, 1, 1, 1, 1, ...</td>\n",
       "      <td>[1, 1, 1, 1, 1, 1, 1, 1, 1, 1, 1, 1, 1, 1, 1, ...</td>\n",
       "      <td>[1, 1, 1, 1, 1, 1, 1, 1, 1, 1, 1, 1, 1, 1, 1, ...</td>\n",
       "      <td>[1, 1, 1, 1, 1, 1, 1, 1, 1, 1, 1, 1, 1, 1, 1, ...</td>\n",
       "      <td>[1, 1, 1, 1, 1, 1, 1, 1, 1, 1, 1, 1, 1, 1, 1, ...</td>\n",
       "      <td>[1, 1, 1, 1, 1, 1, 1, 1, 1, 1, 1, 1, 1, 1, 1, ...</td>\n",
       "      <td>[1, 1, 1, 1, 1, 1, 1, 1, 1, 1, 1, 1, 1, 1, 1, ...</td>\n",
       "      <td>3</td>\n",
       "    </tr>\n",
       "    <tr>\n",
       "      <th>4</th>\n",
       "      <td>[0.02084041614360645, 0.06358095875309012, 0.0...</td>\n",
       "      <td>2.550455</td>\n",
       "      <td>47</td>\n",
       "      <td>[0, 0, 0, 0, 0, 0, 0, 0, 0, 0, 0, 0, 0, 0, 0, ...</td>\n",
       "      <td>[1, 1, 1, 1, 1, 1, 1, 1, 1, 1, 1, 1, 1, 1, 1, ...</td>\n",
       "      <td>[1, 1, 1, 1, 1, 1, 1, 1, 1, 1, 1, 1, 1, 1, 1, ...</td>\n",
       "      <td>[1, 1, 1, 1, 1, 1, 1, 1, 1, 1, 1, 1, 1, 1, 1, ...</td>\n",
       "      <td>[1, 1, 1, 1, 1, 1, 1, 1, 1, 1, 1, 1, 1, 1, 1, ...</td>\n",
       "      <td>[1, 1, 1, 1, 1, 1, 1, 1, 1, 1, 1, 1, 1, 1, 1, ...</td>\n",
       "      <td>[1, 1, 1, 1, 1, 1, 1, 1, 1, 1, 1, 1, 1, 1, 1, ...</td>\n",
       "      <td>...</td>\n",
       "      <td>[1, 1, 1, 1, 1, 1, 1, 1, 1, 1, 1, 1, 1, 1, 1, ...</td>\n",
       "      <td>[1, 1, 1, 1, 1, 1, 1, 1, 1, 1, 1, 1, 1, 1, 1, ...</td>\n",
       "      <td>[1, 1, 1, 1, 1, 1, 1, 1, 1, 1, 1, 1, 1, 1, 1, ...</td>\n",
       "      <td>[1, 1, 1, 1, 1, 1, 1, 1, 1, 1, 1, 1, 1, 1, 1, ...</td>\n",
       "      <td>[1, 1, 1, 1, 1, 1, 1, 1, 1, 1, 1, 1, 1, 1, 1, ...</td>\n",
       "      <td>[1, 1, 1, 1, 1, 1, 1, 1, 1, 1, 1, 1, 1, 1, 1, ...</td>\n",
       "      <td>[1, 1, 1, 1, 1, 1, 1, 1, 1, 1, 1, 1, 1, 1, 1, ...</td>\n",
       "      <td>[1, 1, 1, 1, 1, 1, 1, 1, 1, 1, 1, 1, 1, 1, 1, ...</td>\n",
       "      <td>[1, 1, 1, 1, 1, 1, 1, 1, 1, 1, 1, 1, 1, 1, 1, ...</td>\n",
       "      <td>4</td>\n",
       "    </tr>\n",
       "  </tbody>\n",
       "</table>\n",
       "<p>5 rows × 261 columns</p>\n",
       "</div>"
      ],
      "text/plain": [
       "                                          event_time      flag  trx_count  \\\n",
       "0  [0.09129425537759533, 0.10792134282020369, 0.3...  2.185431         61   \n",
       "1  [0.02511673382758245, 0.0654999279317425, 0.10...  0.531285         64   \n",
       "2  [0.135003424835367, 0.2538551460338464, 0.2873...  1.130378         67   \n",
       "3  [0.22587905145459264, 0.22694736582862945, 0.2...  2.773636         41   \n",
       "4  [0.02084041614360645, 0.06358095875309012, 0.0...  2.550455         47   \n",
       "\n",
       "                                        pad_category  \\\n",
       "0  [0, 0, 0, 0, 0, 0, 0, 0, 0, 0, 0, 0, 0, 0, 0, ...   \n",
       "1  [0, 0, 0, 0, 0, 0, 0, 0, 0, 0, 0, 0, 0, 0, 0, ...   \n",
       "2  [0, 0, 0, 0, 0, 0, 0, 0, 0, 0, 0, 0, 0, 0, 0, ...   \n",
       "3  [0, 0, 0, 0, 0, 0, 0, 0, 0, 0, 0, 0, 0, 0, 0, ...   \n",
       "4  [0, 0, 0, 0, 0, 0, 0, 0, 0, 0, 0, 0, 0, 0, 0, ...   \n",
       "\n",
       "                                                   0  \\\n",
       "0  [1, 1, 1, 1, 1, 1, 1, 1, 1, 1, 1, 1, 1, 1, 1, ...   \n",
       "1  [1, 1, 1, 1, 1, 1, 1, 1, 1, 1, 1, 1, 1, 1, 1, ...   \n",
       "2  [1, 1, 1, 1, 1, 1, 1, 1, 1, 1, 1, 1, 1, 1, 1, ...   \n",
       "3  [1, 1, 1, 1, 1, 1, 1, 1, 1, 1, 1, 1, 1, 1, 1, ...   \n",
       "4  [1, 1, 1, 1, 1, 1, 1, 1, 1, 1, 1, 1, 1, 1, 1, ...   \n",
       "\n",
       "                                                   1  \\\n",
       "0  [1, 1, 1, 1, 1, 1, 1, 1, 1, 1, 1, 1, 1, 1, 1, ...   \n",
       "1  [1, 1, 1, 1, 1, 1, 1, 1, 1, 1, 1, 1, 1, 1, 1, ...   \n",
       "2  [1, 1, 1, 1, 1, 1, 1, 1, 1, 1, 1, 1, 1, 1, 1, ...   \n",
       "3  [1, 1, 1, 1, 1, 1, 1, 1, 1, 1, 1, 1, 1, 1, 1, ...   \n",
       "4  [1, 1, 1, 1, 1, 1, 1, 1, 1, 1, 1, 1, 1, 1, 1, ...   \n",
       "\n",
       "                                                   2  \\\n",
       "0  [1, 1, 1, 1, 1, 1, 1, 1, 1, 1, 1, 1, 1, 1, 1, ...   \n",
       "1  [1, 1, 1, 1, 1, 1, 1, 1, 1, 1, 1, 1, 1, 1, 1, ...   \n",
       "2  [1, 1, 1, 1, 1, 1, 1, 1, 1, 1, 1, 1, 1, 1, 1, ...   \n",
       "3  [1, 1, 1, 1, 1, 1, 1, 1, 1, 1, 1, 1, 1, 1, 1, ...   \n",
       "4  [1, 1, 1, 1, 1, 1, 1, 1, 1, 1, 1, 1, 1, 1, 1, ...   \n",
       "\n",
       "                                                   3  \\\n",
       "0  [1, 1, 1, 1, 1, 1, 1, 1, 1, 1, 1, 1, 1, 1, 1, ...   \n",
       "1  [1, 1, 1, 1, 1, 1, 1, 1, 1, 1, 1, 1, 1, 1, 1, ...   \n",
       "2  [1, 1, 1, 1, 1, 1, 1, 1, 1, 1, 1, 1, 1, 1, 1, ...   \n",
       "3  [1, 1, 1, 1, 1, 1, 1, 1, 1, 1, 1, 1, 1, 1, 1, ...   \n",
       "4  [1, 1, 1, 1, 1, 1, 1, 1, 1, 1, 1, 1, 1, 1, 1, ...   \n",
       "\n",
       "                                                   4  \\\n",
       "0  [1, 1, 1, 1, 1, 1, 1, 1, 1, 1, 1, 1, 1, 1, 1, ...   \n",
       "1  [1, 1, 1, 1, 1, 1, 1, 1, 1, 1, 1, 1, 1, 1, 1, ...   \n",
       "2  [1, 1, 1, 1, 1, 1, 1, 1, 1, 1, 1, 1, 1, 1, 1, ...   \n",
       "3  [1, 1, 1, 1, 1, 1, 1, 1, 1, 1, 1, 1, 1, 1, 1, ...   \n",
       "4  [1, 1, 1, 1, 1, 1, 1, 1, 1, 1, 1, 1, 1, 1, 1, ...   \n",
       "\n",
       "                                                   5  ...  \\\n",
       "0  [1, 1, 1, 1, 1, 1, 1, 1, 1, 1, 1, 1, 1, 1, 1, ...  ...   \n",
       "1  [1, 1, 1, 1, 1, 1, 1, 1, 1, 1, 1, 1, 1, 1, 1, ...  ...   \n",
       "2  [1, 1, 1, 1, 1, 1, 1, 1, 1, 1, 1, 1, 1, 1, 1, ...  ...   \n",
       "3  [1, 1, 1, 1, 1, 1, 1, 1, 1, 1, 1, 1, 1, 1, 1, ...  ...   \n",
       "4  [1, 1, 1, 1, 1, 1, 1, 1, 1, 1, 1, 1, 1, 1, 1, ...  ...   \n",
       "\n",
       "                                                 247  \\\n",
       "0  [1, 1, 1, 1, 1, 1, 1, 1, 1, 1, 1, 1, 1, 1, 1, ...   \n",
       "1  [1, 1, 1, 1, 1, 1, 1, 1, 1, 1, 1, 1, 1, 1, 1, ...   \n",
       "2  [1, 1, 1, 1, 1, 1, 1, 1, 1, 1, 1, 1, 1, 1, 1, ...   \n",
       "3  [1, 1, 1, 1, 1, 1, 1, 1, 1, 1, 1, 1, 1, 1, 1, ...   \n",
       "4  [1, 1, 1, 1, 1, 1, 1, 1, 1, 1, 1, 1, 1, 1, 1, ...   \n",
       "\n",
       "                                                 248  \\\n",
       "0  [1, 1, 1, 1, 1, 1, 1, 1, 1, 1, 1, 1, 1, 1, 1, ...   \n",
       "1  [1, 1, 1, 1, 1, 1, 1, 1, 1, 1, 1, 1, 1, 1, 1, ...   \n",
       "2  [1, 1, 1, 1, 1, 1, 1, 1, 1, 1, 1, 1, 1, 1, 1, ...   \n",
       "3  [1, 1, 1, 1, 1, 1, 1, 1, 1, 1, 1, 1, 1, 1, 1, ...   \n",
       "4  [1, 1, 1, 1, 1, 1, 1, 1, 1, 1, 1, 1, 1, 1, 1, ...   \n",
       "\n",
       "                                                 249  \\\n",
       "0  [1, 1, 1, 1, 1, 1, 1, 1, 1, 1, 1, 1, 1, 1, 1, ...   \n",
       "1  [1, 1, 1, 1, 1, 1, 1, 1, 1, 1, 1, 1, 1, 1, 1, ...   \n",
       "2  [1, 1, 1, 1, 1, 1, 1, 1, 1, 1, 1, 1, 1, 1, 1, ...   \n",
       "3  [1, 1, 1, 1, 1, 1, 1, 1, 1, 1, 1, 1, 1, 1, 1, ...   \n",
       "4  [1, 1, 1, 1, 1, 1, 1, 1, 1, 1, 1, 1, 1, 1, 1, ...   \n",
       "\n",
       "                                                 250  \\\n",
       "0  [1, 1, 1, 1, 1, 1, 1, 1, 1, 1, 1, 1, 1, 1, 1, ...   \n",
       "1  [1, 1, 1, 1, 1, 1, 1, 1, 1, 1, 1, 1, 1, 1, 1, ...   \n",
       "2  [1, 1, 1, 1, 1, 1, 1, 1, 1, 1, 1, 1, 1, 1, 1, ...   \n",
       "3  [1, 1, 1, 1, 1, 1, 1, 1, 1, 1, 1, 1, 1, 1, 1, ...   \n",
       "4  [1, 1, 1, 1, 1, 1, 1, 1, 1, 1, 1, 1, 1, 1, 1, ...   \n",
       "\n",
       "                                                 251  \\\n",
       "0  [1, 1, 1, 1, 1, 1, 1, 1, 1, 1, 1, 1, 1, 1, 1, ...   \n",
       "1  [1, 1, 1, 1, 1, 1, 1, 1, 1, 1, 1, 1, 1, 1, 1, ...   \n",
       "2  [1, 1, 1, 1, 1, 1, 1, 1, 1, 1, 1, 1, 1, 1, 1, ...   \n",
       "3  [1, 1, 1, 1, 1, 1, 1, 1, 1, 1, 1, 1, 1, 1, 1, ...   \n",
       "4  [1, 1, 1, 1, 1, 1, 1, 1, 1, 1, 1, 1, 1, 1, 1, ...   \n",
       "\n",
       "                                                 252  \\\n",
       "0  [1, 1, 1, 1, 1, 1, 1, 1, 1, 1, 1, 1, 1, 1, 1, ...   \n",
       "1  [1, 1, 1, 1, 1, 1, 1, 1, 1, 1, 1, 1, 1, 1, 1, ...   \n",
       "2  [1, 1, 1, 1, 1, 1, 1, 1, 1, 1, 1, 1, 1, 1, 1, ...   \n",
       "3  [1, 1, 1, 1, 1, 1, 1, 1, 1, 1, 1, 1, 1, 1, 1, ...   \n",
       "4  [1, 1, 1, 1, 1, 1, 1, 1, 1, 1, 1, 1, 1, 1, 1, ...   \n",
       "\n",
       "                                                 253  \\\n",
       "0  [1, 1, 1, 1, 1, 1, 1, 1, 1, 1, 1, 1, 1, 1, 1, ...   \n",
       "1  [1, 1, 1, 1, 1, 1, 1, 1, 1, 1, 1, 1, 1, 1, 1, ...   \n",
       "2  [1, 1, 1, 1, 1, 1, 1, 1, 1, 1, 1, 1, 1, 1, 1, ...   \n",
       "3  [1, 1, 1, 1, 1, 1, 1, 1, 1, 1, 1, 1, 1, 1, 1, ...   \n",
       "4  [1, 1, 1, 1, 1, 1, 1, 1, 1, 1, 1, 1, 1, 1, 1, ...   \n",
       "\n",
       "                                                 254  \\\n",
       "0  [1, 1, 1, 1, 1, 1, 1, 1, 1, 1, 1, 1, 1, 1, 1, ...   \n",
       "1  [1, 1, 1, 1, 1, 1, 1, 1, 1, 1, 1, 1, 1, 1, 1, ...   \n",
       "2  [1, 1, 1, 1, 1, 1, 1, 1, 1, 1, 1, 1, 1, 1, 1, ...   \n",
       "3  [1, 1, 1, 1, 1, 1, 1, 1, 1, 1, 1, 1, 1, 1, 1, ...   \n",
       "4  [1, 1, 1, 1, 1, 1, 1, 1, 1, 1, 1, 1, 1, 1, 1, ...   \n",
       "\n",
       "                                                 255 pendulum_id  \n",
       "0  [1, 1, 1, 1, 1, 1, 1, 1, 1, 1, 1, 1, 1, 1, 1, ...           0  \n",
       "1  [1, 1, 1, 1, 1, 1, 1, 1, 1, 1, 1, 1, 1, 1, 1, ...           1  \n",
       "2  [1, 1, 1, 1, 1, 1, 1, 1, 1, 1, 1, 1, 1, 1, 1, ...           2  \n",
       "3  [1, 1, 1, 1, 1, 1, 1, 1, 1, 1, 1, 1, 1, 1, 1, ...           3  \n",
       "4  [1, 1, 1, 1, 1, 1, 1, 1, 1, 1, 1, 1, 1, 1, 1, ...           4  \n",
       "\n",
       "[5 rows x 261 columns]"
      ]
     },
     "execution_count": 18,
     "metadata": {},
     "output_type": "execute_result"
    }
   ],
   "source": [
    "df.head()"
   ]
  },
  {
   "cell_type": "code",
   "execution_count": 19,
   "metadata": {},
   "outputs": [
    {
     "name": "stderr",
     "output_type": "stream",
     "text": [
      "/usr/local/lib/python3.10/dist-packages/pandas/io/parquet.py:189: UserWarning: The DataFrame has column names of mixed type. They will be converted to strings and not roundtrip correctly.\n",
      "  table = self.api.Table.from_pandas(df, **from_pandas_kwargs)\n"
     ]
    }
   ],
   "source": [
    "df.loc[:1000].to_parquet('../data/test_hawkes_16.parquet')"
   ]
  },
  {
   "cell_type": "code",
   "execution_count": 20,
   "metadata": {},
   "outputs": [],
   "source": [
    "df.loc[1000:].to_parquet('../data/train_hawkes_16.parquet')"
   ]
  },
  {
   "cell_type": "code",
   "execution_count": 2,
   "metadata": {},
   "outputs": [],
   "source": [
    "test = pd.read_parquet('../data/test_hawkes_16.parquet')\n",
    "train = pd.read_parquet('../data/train_hawkes_16.parquet')"
   ]
  },
  {
   "cell_type": "code",
   "execution_count": 3,
   "metadata": {},
   "outputs": [
    {
     "data": {
      "text/plain": [
       "1.6301901660054905"
      ]
     },
     "execution_count": 3,
     "metadata": {},
     "output_type": "execute_result"
    }
   ],
   "source": [
    "((test['flag'] - train['flag'].mean())**2).mean()"
   ]
  },
  {
   "cell_type": "code",
   "execution_count": null,
   "metadata": {},
   "outputs": [],
   "source": []
  },
  {
   "cell_type": "code",
   "execution_count": 4,
   "metadata": {},
   "outputs": [],
   "source": [
    "df = pd.read_parquet('../ckpt/test3-our-gru-TR/seed_0/reconstructed_data.parquet')"
   ]
  },
  {
   "cell_type": "code",
   "execution_count": 14,
   "metadata": {},
   "outputs": [
    {
     "data": {
      "text/plain": [
       "tensor([   nan,    inf,   -inf, 3.1400])"
      ]
     },
     "execution_count": 14,
     "metadata": {},
     "output_type": "execute_result"
    }
   ],
   "source": [
    "x = torch.tensor([float('nan'), float('inf'), -float('inf'), 3.14])\n",
    "x"
   ]
  },
  {
   "cell_type": "code",
   "execution_count": 16,
   "metadata": {},
   "outputs": [
    {
     "data": {
      "text/plain": [
       "tensor([0.0000, 0.0000, 0.0000, 3.1400])"
      ]
     },
     "execution_count": 16,
     "metadata": {},
     "output_type": "execute_result"
    }
   ],
   "source": [
    "torch.nan_to_num(x, nan=0.0, posinf=0.0, neginf=0.0)"
   ]
  },
  {
   "cell_type": "markdown",
   "metadata": {},
   "source": []
  },
  {
   "cell_type": "code",
   "execution_count": 6,
   "metadata": {},
   "outputs": [
    {
     "name": "stdout",
     "output_type": "stream",
     "text": [
      "87\n"
     ]
    }
   ],
   "source": [
    "# https://skill-lync.com/student-projects/Simulation-of-a-Simple-Pendulum-on-Python-95518\n",
    "\n",
    "def sim_pen_eq(t,theta):\n",
    "\tdtheta2_dt = (-b/m)*theta[1] + (-g/L)*np.sin(theta[0])\n",
    "\tdtheta1_dt = theta[1]\n",
    "\treturn [dtheta1_dt, dtheta2_dt]\n",
    "\n",
    "# Initial and end values\n",
    "st = 0          # Start time (s)\n",
    "et = 5       # End time (s)\n",
    "ts = 0.1        # Time step (s)\n",
    "g = 9.81        # Acceleration due to gravity (m/s^2)\n",
    "L = 1           # Length of pendulum (m)\n",
    "b = 0.5         # Damping factor (kg/s)\n",
    "m = 1           # Mass of bob (kg)\n",
    "mu = 15\n",
    "alpha = 0.2\n",
    "\n",
    "# main\n",
    "\n",
    "theta1_ini = 0                 # Initial angular displacement (rad)\n",
    "theta2_ini = 3                 # Initial angular velocity (rad/s)\n",
    "theta_ini = [theta1_ini, theta2_ini]\n",
    "t_span = [st,et+ts]\n",
    "\n",
    "\n",
    "def hawkes_intensity(mu, alpha, points, t):\n",
    "    \"\"\"Find the hawkes intensity:\n",
    "    mu + alpha * sum( np.exp(-(t-s)) for s in points if s<=t )\n",
    "    \"\"\"\n",
    "    p = np.array(points)\n",
    "    p = p[p <= t]\n",
    "    p = np.exp(p - t) * alpha\n",
    "    return mu + np.sum(p)\n",
    "    #return mu + alpha * sum( np.exp(s - t) for s in points if s <= t )\n",
    "\n",
    "assert(np.isclose(1, hawkes_intensity(1,2,[],5)))\n",
    "assert(np.isclose(2, hawkes_intensity(0,2,[5],5)))\n",
    "assert(np.isclose(4, hawkes_intensity(2,2,[4.9999999],5)))\n",
    "assert(np.isclose(2, hawkes_intensity(0,2,[4.9999999, 8],5)))\n",
    "assert(np.isclose(1, hawkes_intensity(1,2,[5, 8],4)))\n",
    "\n",
    "def simulate_hawkes(mu, alpha, st, et):\n",
    "    t = st\n",
    "    points = []\n",
    "    all_samples = []\n",
    "    while t < et:\n",
    "        m = hawkes_intensity(mu, alpha, points, t)\n",
    "        s = np.random.exponential(scale = 1/m)\n",
    "        ratio = hawkes_intensity(mu, alpha, points, t + s) / m\n",
    "        if t + s >= et:\n",
    "             break\n",
    "        if ratio >= np.random.uniform():\n",
    "            points.append(t + s)\n",
    "        all_samples.append(t + s)\n",
    "        t = t + s\n",
    "    return points, all_samples\n",
    "\n",
    "\n",
    "points, all_samples = simulate_hawkes(mu, alpha, st, et)\n",
    "print(len(points))\n",
    "\n",
    "t_ir = points\n",
    "#t_ir = np.sort(np.random.uniform(st, et+ts, 100))\n",
    "sim_points = len(points)\n"
   ]
  },
  {
   "cell_type": "code",
   "execution_count": 7,
   "metadata": {},
   "outputs": [
    {
     "data": {
      "image/png": "[encoded data removed]",
      "text/plain": [
       "<Figure size 1600x100 with 1 Axes>"
      ]
     },
     "metadata": {},
     "output_type": "display_data"
    }
   ],
   "source": [
    "from utils import plot_series\n",
    "\n",
    "plot_series(points, 'test', window=[0, 5])"
   ]
  },
  {
   "cell_type": "code",
   "execution_count": 8,
   "metadata": {},
   "outputs": [],
   "source": [
    "theta12 = solve_ivp(sim_pen_eq, t_span, theta_ini, t_eval = t_ir)\n",
    "theta1 = theta12.y[0,:]\n",
    "theta2 = theta12.y[1,:]"
   ]
  },
  {
   "cell_type": "code",
   "execution_count": 9,
   "metadata": {},
   "outputs": [
    {
     "data": {
      "image/png": "[encoded data removed]",
      "text/plain": [
       "<Figure size 640x480 with 1 Axes>"
      ]
     },
     "metadata": {},
     "output_type": "display_data"
    }
   ],
   "source": [
    "plt.plot(t_ir,theta1,label='Angular Displacement (rad)')\n",
    "plt.plot(t_ir,theta2,label='Angular velocity (rad/s)')\n",
    "plt.xlabel('Time(s)')\n",
    "plt.ylabel('Angular Disp.(rad) and Angular Vel.(rad/s)')\n",
    "plt.legend()\n",
    "plt.show()"
   ]
  },
  {
   "cell_type": "code",
   "execution_count": 10,
   "metadata": {},
   "outputs": [
    {
     "data": {
      "image/png": "[encoded data removed]",
      "text/plain": [
       "<Figure size 640x480 with 1 Axes>"
      ]
     },
     "metadata": {},
     "output_type": "display_data"
    }
   ],
   "source": [
    "\n",
    "plt.plot(t_ir,theta1,label='Angular Displacement (rad)')\n",
    "plt.plot(t_ir,theta2,label='Angular velocity (rad/s)')\n",
    "plt.xlabel('Time(s)')\n",
    "plt.ylabel('Angular Disp.(rad) and Angular Vel.(rad/s)')\n",
    "plt.legend()\n",
    "plt.show()"
   ]
  },
  {
   "cell_type": "code",
   "execution_count": 11,
   "metadata": {},
   "outputs": [],
   "source": [
    "# Simulation\n",
    "\n",
    "x = L*np.sin(theta1)\n",
    "y = -L*np.cos(theta1)\n",
    "\n",
    "\n",
    "# for point in l:\n",
    "#     plt.figure()\n",
    "#     plt.plot(x[point],y[point],'bo',markersize=20)\n",
    "#     plt.plot([0,x[point]], [0,y[point]])\n",
    "#     plt.xlim(-L-0.5,L+0.5)\n",
    "#     plt.ylim(-L-0.5,L+0.5)\n",
    "#     plt.xlabel('x-direction')\n",
    "#     plt.ylabel('y-direction')\n",
    "#     filenumber = point\n",
    "#     filenumber=format(filenumber,\"05\")\n",
    "#     filename=\"image{}.png\".format(filenumber)\n",
    "#     plt.savefig(filename)\n",
    "#     plt.close()"
   ]
  },
  {
   "cell_type": "code",
   "execution_count": 18,
   "metadata": {},
   "outputs": [
    {
     "data": {
      "text/plain": [
       "(87, 2)"
      ]
     },
     "execution_count": 18,
     "metadata": {},
     "output_type": "execute_result"
    }
   ],
   "source": [
    "np.vstack([x, y]).T.shape"
   ]
  },
  {
   "cell_type": "code",
   "execution_count": null,
   "metadata": {},
   "outputs": [],
   "source": []
  },
  {
   "cell_type": "code",
   "execution_count": null,
   "metadata": {},
   "outputs": [],
   "source": []
  },
  {
   "cell_type": "code",
   "execution_count": 139,
   "metadata": {},
   "outputs": [
    {
     "name": "stderr",
     "output_type": "stream",
     "text": [
      "/tmp/ipykernel_1212400/1457111851.py:4: UserWarning: color is redundantly defined by the 'color' keyword argument and the fmt string \"bo\" (-> color='b'). The keyword argument will take precedence.\n",
      "  plt.plot(x[point], y[point], 'bo', markersize=8, color='black')\n"
     ]
    },
    {
     "data": {
      "image/png": "[encoded data removed]",
      "text/plain": [
       "<Figure size 160x160 with 1 Axes>"
      ]
     },
     "metadata": {},
     "output_type": "display_data"
    }
   ],
   "source": [
    "# Create the plot with a small size\n",
    "point = 3\n",
    "plt.figure(figsize=(1.6, 1.6))  # 16x16 pixels at 100 dpi\n",
    "plt.plot(x[point], y[point], 'bo', markersize=8, color='black')\n",
    "#plt.plot([0, x[point]], [0, y[point]])\n",
    "plt.xlim(-L - 0.5, L + 0.5)\n",
    "plt.ylim(-L - 0.5, L + 0.5)\n",
    "#plt.axis('off')  # Turn off axes\n",
    "\n",
    "# Save the plot as a PNG file with a specific dpi\n",
    "plt.savefig('plot.png', dpi=10)\n"
   ]
  },
  {
   "cell_type": "code",
   "execution_count": 138,
   "metadata": {},
   "outputs": [],
   "source": [
    "\n",
    "# Load the saved image using PIL and convert it to black and white\n",
    "img = Image.open('plot.png').convert('1')\n",
    "img_array = np.array(img)\n"
   ]
  },
  {
   "cell_type": "code",
   "execution_count": 139,
   "metadata": {},
   "outputs": [
    {
     "data": {
      "text/plain": [
       "(32, 32)"
      ]
     },
     "execution_count": 139,
     "metadata": {},
     "output_type": "execute_result"
    }
   ],
   "source": [
    "img_array.shape"
   ]
  },
  {
   "cell_type": "code",
   "execution_count": 79,
   "metadata": {},
   "outputs": [
    {
     "data": {
      "image/png": "[encoded data removed]",
      "text/plain": [
       "<Figure size 640x480 with 1 Axes>"
      ]
     },
     "metadata": {},
     "output_type": "display_data"
    }
   ],
   "source": [
    "\n",
    "# Display the black and white image\n",
    "plt.figure()\n",
    "plt.imshow(img_array, cmap='gray')\n",
    "#plt.axis('off')\n",
    "plt.show()"
   ]
  },
  {
   "cell_type": "code",
   "execution_count": 23,
   "metadata": {},
   "outputs": [],
   "source": [
    "def sim_pen_eq(t,theta):\n",
    "    dtheta2_dt = (-b/m)*theta[1] + (-g/L)*np.sin(theta[0])\n",
    "    dtheta1_dt = theta[1]\n",
    "    return [dtheta1_dt, dtheta2_dt]\n",
    "\n",
    "def create_sample(L):\n",
    "    # https://skill-lync.com/student-projects/Simulation-of-a-Simple-Pendulum-on-Python-95518\n",
    "\n",
    "\n",
    "    # main\n",
    "\n",
    "    theta1_ini = np.random.uniform(1, 9)                 # Initial angular displacement (rad)\n",
    "    theta2_ini = np.random.uniform(1, 9)                   # Initial angular velocity (rad/s)\n",
    "    theta_ini = [theta1_ini, theta2_ini]\n",
    "    t_span = [st,et+ts]\n",
    "    sim_points = 100\n",
    "\n",
    "    t_ir = np.sort(np.random.uniform(st, et+ts, sim_points))\n",
    "    theta12 = solve_ivp(sim_pen_eq, t_span, theta_ini, t_eval = t_ir)\n",
    "    theta1 = theta12.y[0,:]\n",
    "    theta2 = theta12.y[1,:]\n",
    "\n",
    "    # return x, y \n",
    "    # or we could return angles ...\n",
    "    x = L*np.sin(theta1)\n",
    "    y = -L*np.cos(theta1)\n",
    "\n",
    "    return x, y, t_ir"
   ]
  },
  {
   "cell_type": "code",
   "execution_count": 24,
   "metadata": {},
   "outputs": [],
   "source": [
    "# Initial and end values\n",
    "st = 0          # Start time (s)\n",
    "et = 5       # End time (s)\n",
    "ts = 0.1        # Time step (s)\n",
    "g = 9.81        # Acceleration due to gravity (m/s^2)\n",
    "b = 0.5         # Damping factor (kg/s)\n",
    "m = 1           # Mass of bob (kg)\n",
    "\n",
    "\n",
    "def create_dataset(size):\n",
    "    \n",
    "    output = []\n",
    "\n",
    "    for i in tqdm(range(size)):\n",
    "        L = np.random.uniform(0.5, 5)\n",
    "        sample = create_sample(L)\n",
    "        output.append((sample, L))\n",
    "    \n",
    "    return output\n",
    "\n",
    "\n",
    "async def point_to_image(x, y, L):\n",
    "    \n",
    "    arrs = []\n",
    "    for point in range(len(x)):\n",
    "        plt.figure(figsize=(3.2, 3.2))  # 16x16 pixels at 100 dpi\n",
    "        plt.plot(x[point], y[point], 'bo', markersize=8, color='black')\n",
    "        #plt.plot([0, x[point]], [0, y[point]])\n",
    "        plt.xlim(-L - 0.5, L + 0.5)\n",
    "        plt.ylim(-L - 0.5, L + 0.5)\n",
    "        plt.axis('off')  # Turn off axes\n",
    "        # Save the plot as a PNG file with a specific dpi\n",
    "        plt.savefig('plot.png', dpi=10)\n",
    "        plt.close()\n",
    "        # Load the saved image using PIL and convert it to black and white\n",
    "        img = Image.open('plot.png').convert('1')\n",
    "        img_array = np.array(img)\n",
    "        arrs.append(img_array.flatten())\n",
    "\n",
    "    await arrs"
   ]
  },
  {
   "cell_type": "code",
   "execution_count": 30,
   "metadata": {},
   "outputs": [],
   "source": [
    "async def get_all_arrs(ds):\n",
    "    tasks = []\n",
    "    for obj in ds:\n",
    "        x, y, t = obj[0]\n",
    "        l = obj[1]\n",
    "        tasks.append(np.vstack(point_to_image(x, y, l)))\n",
    "\n",
    "    await asyncio.gather(*tasks)\n"
   ]
  },
  {
   "cell_type": "code",
   "execution_count": 32,
   "metadata": {},
   "outputs": [
    {
     "name": "stderr",
     "output_type": "stream",
     "text": [
      "100%|██████████| 100/100 [00:00<00:00, 430.67it/s]\n"
     ]
    }
   ],
   "source": [
    "ds = create_dataset(100)"
   ]
  },
  {
   "cell_type": "code",
   "execution_count": 33,
   "metadata": {},
   "outputs": [
    {
     "ename": "RuntimeError",
     "evalue": "This event loop is already running",
     "output_type": "error",
     "traceback": [
      "\u001b[0;31m---------------------------------------------------------------------------\u001b[0m",
      "\u001b[0;31mRuntimeError\u001b[0m                              Traceback (most recent call last)",
      "\u001b[1;32m/home/event_seq/experiments/pendulum/notebooks/data_constructor.ipynb Cell 14\u001b[0m line \u001b[0;36m2\n\u001b[1;32m      <a href='vscode-notebook-cell://attached-container%2B7b22636f6e7461696e65724e616d65223a222f76765f6576656e74227d@ssh-remote%2Bmidas.skoltech.ru/home/event_seq/experiments/pendulum/notebooks/data_constructor.ipynb#X32sdnNjb2RlLXJlbW90ZQ%3D%3D?line=0'>1</a>\u001b[0m loop \u001b[39m=\u001b[39m asyncio\u001b[39m.\u001b[39mget_event_loop()\n\u001b[0;32m----> <a href='vscode-notebook-cell://attached-container%2B7b22636f6e7461696e65724e616d65223a222f76765f6576656e74227d@ssh-remote%2Bmidas.skoltech.ru/home/event_seq/experiments/pendulum/notebooks/data_constructor.ipynb#X32sdnNjb2RlLXJlbW90ZQ%3D%3D?line=1'>2</a>\u001b[0m out \u001b[39m=\u001b[39m loop\u001b[39m.\u001b[39;49mrun_until_complete(get_all_arrs(ds))\n",
      "File \u001b[0;32m/usr/lib/python3.10/asyncio/base_events.py:625\u001b[0m, in \u001b[0;36mBaseEventLoop.run_until_complete\u001b[0;34m(self, future)\u001b[0m\n\u001b[1;32m    614\u001b[0m \u001b[39m\u001b[39m\u001b[39m\"\"\"Run until the Future is done.\u001b[39;00m\n\u001b[1;32m    615\u001b[0m \n\u001b[1;32m    616\u001b[0m \u001b[39mIf the argument is a coroutine, it is wrapped in a Task.\u001b[39;00m\n\u001b[0;32m   (...)\u001b[0m\n\u001b[1;32m    622\u001b[0m \u001b[39mReturn the Future's result, or raise its exception.\u001b[39;00m\n\u001b[1;32m    623\u001b[0m \u001b[39m\"\"\"\u001b[39;00m\n\u001b[1;32m    624\u001b[0m \u001b[39mself\u001b[39m\u001b[39m.\u001b[39m_check_closed()\n\u001b[0;32m--> 625\u001b[0m \u001b[39mself\u001b[39;49m\u001b[39m.\u001b[39;49m_check_running()\n\u001b[1;32m    627\u001b[0m new_task \u001b[39m=\u001b[39m \u001b[39mnot\u001b[39;00m futures\u001b[39m.\u001b[39misfuture(future)\n\u001b[1;32m    628\u001b[0m future \u001b[39m=\u001b[39m tasks\u001b[39m.\u001b[39mensure_future(future, loop\u001b[39m=\u001b[39m\u001b[39mself\u001b[39m)\n",
      "File \u001b[0;32m/usr/lib/python3.10/asyncio/base_events.py:584\u001b[0m, in \u001b[0;36mBaseEventLoop._check_running\u001b[0;34m(self)\u001b[0m\n\u001b[1;32m    582\u001b[0m \u001b[39mdef\u001b[39;00m \u001b[39m_check_running\u001b[39m(\u001b[39mself\u001b[39m):\n\u001b[1;32m    583\u001b[0m     \u001b[39mif\u001b[39;00m \u001b[39mself\u001b[39m\u001b[39m.\u001b[39mis_running():\n\u001b[0;32m--> 584\u001b[0m         \u001b[39mraise\u001b[39;00m \u001b[39mRuntimeError\u001b[39;00m(\u001b[39m'\u001b[39m\u001b[39mThis event loop is already running\u001b[39m\u001b[39m'\u001b[39m)\n\u001b[1;32m    585\u001b[0m     \u001b[39mif\u001b[39;00m events\u001b[39m.\u001b[39m_get_running_loop() \u001b[39mis\u001b[39;00m \u001b[39mnot\u001b[39;00m \u001b[39mNone\u001b[39;00m:\n\u001b[1;32m    586\u001b[0m         \u001b[39mraise\u001b[39;00m \u001b[39mRuntimeError\u001b[39;00m(\n\u001b[1;32m    587\u001b[0m             \u001b[39m'\u001b[39m\u001b[39mCannot run the event loop while another loop is running\u001b[39m\u001b[39m'\u001b[39m)\n",
      "\u001b[0;31mRuntimeError\u001b[0m: This event loop is already running"
     ]
    }
   ],
   "source": [
    "loop = asyncio.get_event_loop()\n",
    "out = loop.run_until_complete(get_all_arrs(ds))"
   ]
  },
  {
   "cell_type": "code",
   "execution_count": 26,
   "metadata": {},
   "outputs": [
    {
     "name": "stderr",
     "output_type": "stream",
     "text": [
      "  0%|          | 0/10000 [00:00<?, ?it/s]"
     ]
    },
    {
     "name": "stderr",
     "output_type": "stream",
     "text": [
      "/tmp/ipykernel_702326/1369941581.py:26: UserWarning: color is redundantly defined by the 'color' keyword argument and the fmt string \"bo\" (-> color='b'). The keyword argument will take precedence.\n",
      "  plt.plot(x[point], y[point], 'bo', markersize=8, color='black')\n",
      "  0%|          | 12/10000 [00:27<6:19:33,  2.28s/it]\n"
     ]
    },
    {
     "ename": "KeyboardInterrupt",
     "evalue": "",
     "output_type": "error",
     "traceback": [
      "\u001b[0;31m---------------------------------------------------------------------------\u001b[0m",
      "\u001b[0;31mKeyboardInterrupt\u001b[0m                         Traceback (most recent call last)",
      "\u001b[1;32m/home/event_seq/experiments/pendulum/notebooks/data_constructor.ipynb Cell 13\u001b[0m line \u001b[0;36m1\n\u001b[1;32m      <a href='vscode-notebook-cell://attached-container%2B7b22636f6e7461696e65724e616d65223a222f76765f6576656e74227d@ssh-remote%2Bmidas.skoltech.ru/home/event_seq/experiments/pendulum/notebooks/data_constructor.ipynb#X20sdnNjb2RlLXJlbW90ZQ%3D%3D?line=6'>7</a>\u001b[0m x, y, t \u001b[39m=\u001b[39m obj[\u001b[39m0\u001b[39m]\n\u001b[1;32m      <a href='vscode-notebook-cell://attached-container%2B7b22636f6e7461696e65724e616d65223a222f76765f6576656e74227d@ssh-remote%2Bmidas.skoltech.ru/home/event_seq/experiments/pendulum/notebooks/data_constructor.ipynb#X20sdnNjb2RlLXJlbW90ZQ%3D%3D?line=7'>8</a>\u001b[0m l \u001b[39m=\u001b[39m obj[\u001b[39m1\u001b[39m]\n\u001b[0;32m---> <a href='vscode-notebook-cell://attached-container%2B7b22636f6e7461696e65724e616d65223a222f76765f6576656e74227d@ssh-remote%2Bmidas.skoltech.ru/home/event_seq/experiments/pendulum/notebooks/data_constructor.ipynb#X20sdnNjb2RlLXJlbW90ZQ%3D%3D?line=9'>10</a>\u001b[0m arr \u001b[39m=\u001b[39m point_to_image(x, y, l)\n\u001b[1;32m     <a href='vscode-notebook-cell://attached-container%2B7b22636f6e7461696e65724e616d65223a222f76765f6576656e74227d@ssh-remote%2Bmidas.skoltech.ru/home/event_seq/experiments/pendulum/notebooks/data_constructor.ipynb#X20sdnNjb2RlLXJlbW90ZQ%3D%3D?line=10'>11</a>\u001b[0m arr \u001b[39m=\u001b[39m np\u001b[39m.\u001b[39mvstack(arr)\n\u001b[1;32m     <a href='vscode-notebook-cell://attached-container%2B7b22636f6e7461696e65724e616d65223a222f76765f6576656e74227d@ssh-remote%2Bmidas.skoltech.ru/home/event_seq/experiments/pendulum/notebooks/data_constructor.ipynb#X20sdnNjb2RlLXJlbW90ZQ%3D%3D?line=11'>12</a>\u001b[0m \u001b[39mfor\u001b[39;00m i \u001b[39min\u001b[39;00m \u001b[39mrange\u001b[39m(\u001b[39m1024\u001b[39m):\n",
      "\u001b[1;32m/home/event_seq/experiments/pendulum/notebooks/data_constructor.ipynb Cell 13\u001b[0m line \u001b[0;36m2\n\u001b[1;32m     <a href='vscode-notebook-cell://attached-container%2B7b22636f6e7461696e65724e616d65223a222f76765f6576656e74227d@ssh-remote%2Bmidas.skoltech.ru/home/event_seq/experiments/pendulum/notebooks/data_constructor.ipynb#X20sdnNjb2RlLXJlbW90ZQ%3D%3D?line=23'>24</a>\u001b[0m \u001b[39mfor\u001b[39;00m point \u001b[39min\u001b[39;00m \u001b[39mrange\u001b[39m(\u001b[39mlen\u001b[39m(x)):\n\u001b[1;32m     <a href='vscode-notebook-cell://attached-container%2B7b22636f6e7461696e65724e616d65223a222f76765f6576656e74227d@ssh-remote%2Bmidas.skoltech.ru/home/event_seq/experiments/pendulum/notebooks/data_constructor.ipynb#X20sdnNjb2RlLXJlbW90ZQ%3D%3D?line=24'>25</a>\u001b[0m     plt\u001b[39m.\u001b[39mfigure(figsize\u001b[39m=\u001b[39m(\u001b[39m3.2\u001b[39m, \u001b[39m3.2\u001b[39m))  \u001b[39m# 16x16 pixels at 100 dpi\u001b[39;00m\n\u001b[0;32m---> <a href='vscode-notebook-cell://attached-container%2B7b22636f6e7461696e65724e616d65223a222f76765f6576656e74227d@ssh-remote%2Bmidas.skoltech.ru/home/event_seq/experiments/pendulum/notebooks/data_constructor.ipynb#X20sdnNjb2RlLXJlbW90ZQ%3D%3D?line=25'>26</a>\u001b[0m     plt\u001b[39m.\u001b[39;49mplot(x[point], y[point], \u001b[39m'\u001b[39;49m\u001b[39mbo\u001b[39;49m\u001b[39m'\u001b[39;49m, markersize\u001b[39m=\u001b[39;49m\u001b[39m8\u001b[39;49m, color\u001b[39m=\u001b[39;49m\u001b[39m'\u001b[39;49m\u001b[39mblack\u001b[39;49m\u001b[39m'\u001b[39;49m)\n\u001b[1;32m     <a href='vscode-notebook-cell://attached-container%2B7b22636f6e7461696e65724e616d65223a222f76765f6576656e74227d@ssh-remote%2Bmidas.skoltech.ru/home/event_seq/experiments/pendulum/notebooks/data_constructor.ipynb#X20sdnNjb2RlLXJlbW90ZQ%3D%3D?line=26'>27</a>\u001b[0m     \u001b[39m#plt.plot([0, x[point]], [0, y[point]])\u001b[39;00m\n\u001b[1;32m     <a href='vscode-notebook-cell://attached-container%2B7b22636f6e7461696e65724e616d65223a222f76765f6576656e74227d@ssh-remote%2Bmidas.skoltech.ru/home/event_seq/experiments/pendulum/notebooks/data_constructor.ipynb#X20sdnNjb2RlLXJlbW90ZQ%3D%3D?line=27'>28</a>\u001b[0m     plt\u001b[39m.\u001b[39mxlim(\u001b[39m-\u001b[39mL \u001b[39m-\u001b[39m \u001b[39m0.5\u001b[39m, L \u001b[39m+\u001b[39m \u001b[39m0.5\u001b[39m)\n",
      "File \u001b[0;32m/usr/local/lib/python3.10/dist-packages/matplotlib/pyplot.py:2812\u001b[0m, in \u001b[0;36mplot\u001b[0;34m(scalex, scaley, data, *args, **kwargs)\u001b[0m\n\u001b[1;32m   2810\u001b[0m \u001b[39m@_copy_docstring_and_deprecators\u001b[39m(Axes\u001b[39m.\u001b[39mplot)\n\u001b[1;32m   2811\u001b[0m \u001b[39mdef\u001b[39;00m \u001b[39mplot\u001b[39m(\u001b[39m*\u001b[39margs, scalex\u001b[39m=\u001b[39m\u001b[39mTrue\u001b[39;00m, scaley\u001b[39m=\u001b[39m\u001b[39mTrue\u001b[39;00m, data\u001b[39m=\u001b[39m\u001b[39mNone\u001b[39;00m, \u001b[39m*\u001b[39m\u001b[39m*\u001b[39mkwargs):\n\u001b[0;32m-> 2812\u001b[0m     \u001b[39mreturn\u001b[39;00m gca()\u001b[39m.\u001b[39mplot(\n\u001b[1;32m   2813\u001b[0m         \u001b[39m*\u001b[39margs, scalex\u001b[39m=\u001b[39mscalex, scaley\u001b[39m=\u001b[39mscaley,\n\u001b[1;32m   2814\u001b[0m         \u001b[39m*\u001b[39m\u001b[39m*\u001b[39m({\u001b[39m\"\u001b[39m\u001b[39mdata\u001b[39m\u001b[39m\"\u001b[39m: data} \u001b[39mif\u001b[39;00m data \u001b[39mis\u001b[39;00m \u001b[39mnot\u001b[39;00m \u001b[39mNone\u001b[39;00m \u001b[39melse\u001b[39;00m {}), \u001b[39m*\u001b[39m\u001b[39m*\u001b[39mkwargs)\n",
      "File \u001b[0;32m/usr/local/lib/python3.10/dist-packages/matplotlib/pyplot.py:2309\u001b[0m, in \u001b[0;36mgca\u001b[0;34m()\u001b[0m\n\u001b[1;32m   2307\u001b[0m \u001b[39m@_copy_docstring_and_deprecators\u001b[39m(Figure\u001b[39m.\u001b[39mgca)\n\u001b[1;32m   2308\u001b[0m \u001b[39mdef\u001b[39;00m \u001b[39mgca\u001b[39m():\n\u001b[0;32m-> 2309\u001b[0m     \u001b[39mreturn\u001b[39;00m gcf()\u001b[39m.\u001b[39;49mgca()\n",
      "File \u001b[0;32m/usr/local/lib/python3.10/dist-packages/matplotlib/figure.py:1660\u001b[0m, in \u001b[0;36mFigureBase.gca\u001b[0;34m(self)\u001b[0m\n\u001b[1;32m   1650\u001b[0m \u001b[39m\u001b[39m\u001b[39m\"\"\"\u001b[39;00m\n\u001b[1;32m   1651\u001b[0m \u001b[39mGet the current Axes.\u001b[39;00m\n\u001b[1;32m   1652\u001b[0m \n\u001b[0;32m   (...)\u001b[0m\n\u001b[1;32m   1657\u001b[0m \u001b[39mwhether `.pyplot.get_fignums()` is empty.)\u001b[39;00m\n\u001b[1;32m   1658\u001b[0m \u001b[39m\"\"\"\u001b[39;00m\n\u001b[1;32m   1659\u001b[0m ax \u001b[39m=\u001b[39m \u001b[39mself\u001b[39m\u001b[39m.\u001b[39m_axstack\u001b[39m.\u001b[39mcurrent()\n\u001b[0;32m-> 1660\u001b[0m \u001b[39mreturn\u001b[39;00m ax \u001b[39mif\u001b[39;00m ax \u001b[39mis\u001b[39;00m \u001b[39mnot\u001b[39;00m \u001b[39mNone\u001b[39;00m \u001b[39melse\u001b[39;00m \u001b[39mself\u001b[39;49m\u001b[39m.\u001b[39;49madd_subplot()\n",
      "File \u001b[0;32m/usr/local/lib/python3.10/dist-packages/matplotlib/figure.py:768\u001b[0m, in \u001b[0;36mFigureBase.add_subplot\u001b[0;34m(self, *args, **kwargs)\u001b[0m\n\u001b[1;32m    765\u001b[0m         args \u001b[39m=\u001b[39m \u001b[39mtuple\u001b[39m(\u001b[39mmap\u001b[39m(\u001b[39mint\u001b[39m, \u001b[39mstr\u001b[39m(args[\u001b[39m0\u001b[39m])))\n\u001b[1;32m    766\u001b[0m     projection_class, pkw \u001b[39m=\u001b[39m \u001b[39mself\u001b[39m\u001b[39m.\u001b[39m_process_projection_requirements(\n\u001b[1;32m    767\u001b[0m         \u001b[39m*\u001b[39margs, \u001b[39m*\u001b[39m\u001b[39m*\u001b[39mkwargs)\n\u001b[0;32m--> 768\u001b[0m     ax \u001b[39m=\u001b[39m projection_class(\u001b[39mself\u001b[39;49m, \u001b[39m*\u001b[39;49margs, \u001b[39m*\u001b[39;49m\u001b[39m*\u001b[39;49mpkw)\n\u001b[1;32m    769\u001b[0m     key \u001b[39m=\u001b[39m (projection_class, pkw)\n\u001b[1;32m    770\u001b[0m \u001b[39mreturn\u001b[39;00m \u001b[39mself\u001b[39m\u001b[39m.\u001b[39m_add_axes_internal(ax, key)\n",
      "File \u001b[0;32m/usr/local/lib/python3.10/dist-packages/matplotlib/axes/_base.py:683\u001b[0m, in \u001b[0;36m_AxesBase.__init__\u001b[0;34m(self, fig, facecolor, frameon, sharex, sharey, label, xscale, yscale, box_aspect, *args, **kwargs)\u001b[0m\n\u001b[1;32m    680\u001b[0m \u001b[39mself\u001b[39m\u001b[39m.\u001b[39mset_axisbelow(mpl\u001b[39m.\u001b[39mrcParams[\u001b[39m'\u001b[39m\u001b[39maxes.axisbelow\u001b[39m\u001b[39m'\u001b[39m])\n\u001b[1;32m    682\u001b[0m \u001b[39mself\u001b[39m\u001b[39m.\u001b[39m_rasterization_zorder \u001b[39m=\u001b[39m \u001b[39mNone\u001b[39;00m\n\u001b[0;32m--> 683\u001b[0m \u001b[39mself\u001b[39;49m\u001b[39m.\u001b[39;49mclear()\n\u001b[1;32m    685\u001b[0m \u001b[39m# funcs used to format x and y - fall back on major formatters\u001b[39;00m\n\u001b[1;32m    686\u001b[0m \u001b[39mself\u001b[39m\u001b[39m.\u001b[39mfmt_xdata \u001b[39m=\u001b[39m \u001b[39mNone\u001b[39;00m\n",
      "File \u001b[0;32m/usr/local/lib/python3.10/dist-packages/matplotlib/axes/_base.py:1395\u001b[0m, in \u001b[0;36m_AxesBase.clear\u001b[0;34m(self)\u001b[0m\n\u001b[1;32m   1393\u001b[0m     \u001b[39mself\u001b[39m\u001b[39m.\u001b[39mcla()\n\u001b[1;32m   1394\u001b[0m \u001b[39melse\u001b[39;00m:\n\u001b[0;32m-> 1395\u001b[0m     \u001b[39mself\u001b[39;49m\u001b[39m.\u001b[39;49m__clear()\n",
      "File \u001b[0;32m/usr/local/lib/python3.10/dist-packages/matplotlib/axes/_base.py:1312\u001b[0m, in \u001b[0;36m_AxesBase.__clear\u001b[0;34m(self)\u001b[0m\n\u001b[1;32m   1309\u001b[0m \u001b[39mself\u001b[39m\u001b[39m.\u001b[39mlegend_ \u001b[39m=\u001b[39m \u001b[39mNone\u001b[39;00m\n\u001b[1;32m   1310\u001b[0m \u001b[39mself\u001b[39m\u001b[39m.\u001b[39mcontainers \u001b[39m=\u001b[39m []\n\u001b[0;32m-> 1312\u001b[0m \u001b[39mself\u001b[39;49m\u001b[39m.\u001b[39;49mgrid(\u001b[39mFalse\u001b[39;49;00m)  \u001b[39m# Disable grid on init to use rcParameter\u001b[39;00m\n\u001b[1;32m   1313\u001b[0m \u001b[39mself\u001b[39m\u001b[39m.\u001b[39mgrid(\u001b[39mself\u001b[39m\u001b[39m.\u001b[39m_gridOn, which\u001b[39m=\u001b[39mmpl\u001b[39m.\u001b[39mrcParams[\u001b[39m'\u001b[39m\u001b[39maxes.grid.which\u001b[39m\u001b[39m'\u001b[39m],\n\u001b[1;32m   1314\u001b[0m           axis\u001b[39m=\u001b[39mmpl\u001b[39m.\u001b[39mrcParams[\u001b[39m'\u001b[39m\u001b[39maxes.grid.axis\u001b[39m\u001b[39m'\u001b[39m])\n\u001b[1;32m   1315\u001b[0m props \u001b[39m=\u001b[39m font_manager\u001b[39m.\u001b[39mFontProperties(\n\u001b[1;32m   1316\u001b[0m     size\u001b[39m=\u001b[39mmpl\u001b[39m.\u001b[39mrcParams[\u001b[39m'\u001b[39m\u001b[39maxes.titlesize\u001b[39m\u001b[39m'\u001b[39m],\n\u001b[1;32m   1317\u001b[0m     weight\u001b[39m=\u001b[39mmpl\u001b[39m.\u001b[39mrcParams[\u001b[39m'\u001b[39m\u001b[39maxes.titleweight\u001b[39m\u001b[39m'\u001b[39m])\n",
      "File \u001b[0;32m/usr/local/lib/python3.10/dist-packages/matplotlib/axes/_base.py:3194\u001b[0m, in \u001b[0;36m_AxesBase.grid\u001b[0;34m(self, visible, which, axis, **kwargs)\u001b[0m\n\u001b[1;32m   3192\u001b[0m _api\u001b[39m.\u001b[39mcheck_in_list([\u001b[39m'\u001b[39m\u001b[39mx\u001b[39m\u001b[39m'\u001b[39m, \u001b[39m'\u001b[39m\u001b[39my\u001b[39m\u001b[39m'\u001b[39m, \u001b[39m'\u001b[39m\u001b[39mboth\u001b[39m\u001b[39m'\u001b[39m], axis\u001b[39m=\u001b[39maxis)\n\u001b[1;32m   3193\u001b[0m \u001b[39mif\u001b[39;00m axis \u001b[39min\u001b[39;00m [\u001b[39m'\u001b[39m\u001b[39mx\u001b[39m\u001b[39m'\u001b[39m, \u001b[39m'\u001b[39m\u001b[39mboth\u001b[39m\u001b[39m'\u001b[39m]:\n\u001b[0;32m-> 3194\u001b[0m     \u001b[39mself\u001b[39;49m\u001b[39m.\u001b[39;49mxaxis\u001b[39m.\u001b[39;49mgrid(visible, which\u001b[39m=\u001b[39;49mwhich, \u001b[39m*\u001b[39;49m\u001b[39m*\u001b[39;49mkwargs)\n\u001b[1;32m   3195\u001b[0m \u001b[39mif\u001b[39;00m axis \u001b[39min\u001b[39;00m [\u001b[39m'\u001b[39m\u001b[39my\u001b[39m\u001b[39m'\u001b[39m, \u001b[39m'\u001b[39m\u001b[39mboth\u001b[39m\u001b[39m'\u001b[39m]:\n\u001b[1;32m   3196\u001b[0m     \u001b[39mself\u001b[39m\u001b[39m.\u001b[39myaxis\u001b[39m.\u001b[39mgrid(visible, which\u001b[39m=\u001b[39mwhich, \u001b[39m*\u001b[39m\u001b[39m*\u001b[39mkwargs)\n",
      "File \u001b[0;32m/usr/local/lib/python3.10/dist-packages/matplotlib/axis.py:1660\u001b[0m, in \u001b[0;36mAxis.grid\u001b[0;34m(self, visible, which, **kwargs)\u001b[0m\n\u001b[1;32m   1657\u001b[0m \u001b[39mif\u001b[39;00m which \u001b[39min\u001b[39;00m [\u001b[39m'\u001b[39m\u001b[39mmajor\u001b[39m\u001b[39m'\u001b[39m, \u001b[39m'\u001b[39m\u001b[39mboth\u001b[39m\u001b[39m'\u001b[39m]:\n\u001b[1;32m   1658\u001b[0m     gridkw[\u001b[39m'\u001b[39m\u001b[39mgridOn\u001b[39m\u001b[39m'\u001b[39m] \u001b[39m=\u001b[39m (\u001b[39mnot\u001b[39;00m \u001b[39mself\u001b[39m\u001b[39m.\u001b[39m_major_tick_kw[\u001b[39m'\u001b[39m\u001b[39mgridOn\u001b[39m\u001b[39m'\u001b[39m]\n\u001b[1;32m   1659\u001b[0m                         \u001b[39mif\u001b[39;00m visible \u001b[39mis\u001b[39;00m \u001b[39mNone\u001b[39;00m \u001b[39melse\u001b[39;00m visible)\n\u001b[0;32m-> 1660\u001b[0m     \u001b[39mself\u001b[39;49m\u001b[39m.\u001b[39;49mset_tick_params(which\u001b[39m=\u001b[39;49m\u001b[39m'\u001b[39;49m\u001b[39mmajor\u001b[39;49m\u001b[39m'\u001b[39;49m, \u001b[39m*\u001b[39;49m\u001b[39m*\u001b[39;49mgridkw)\n\u001b[1;32m   1661\u001b[0m \u001b[39mself\u001b[39m\u001b[39m.\u001b[39mstale \u001b[39m=\u001b[39m \u001b[39mTrue\u001b[39;00m\n",
      "File \u001b[0;32m/usr/local/lib/python3.10/dist-packages/matplotlib/axis.py:947\u001b[0m, in \u001b[0;36mAxis.set_tick_params\u001b[0;34m(self, which, reset, **kwargs)\u001b[0m\n\u001b[1;32m    945\u001b[0m \u001b[39mif\u001b[39;00m which \u001b[39min\u001b[39;00m [\u001b[39m'\u001b[39m\u001b[39mmajor\u001b[39m\u001b[39m'\u001b[39m, \u001b[39m'\u001b[39m\u001b[39mboth\u001b[39m\u001b[39m'\u001b[39m]:\n\u001b[1;32m    946\u001b[0m     \u001b[39mself\u001b[39m\u001b[39m.\u001b[39m_major_tick_kw\u001b[39m.\u001b[39mupdate(kwtrans)\n\u001b[0;32m--> 947\u001b[0m     \u001b[39mfor\u001b[39;00m tick \u001b[39min\u001b[39;00m \u001b[39mself\u001b[39;49m\u001b[39m.\u001b[39;49mmajorTicks:\n\u001b[1;32m    948\u001b[0m         tick\u001b[39m.\u001b[39m_apply_params(\u001b[39m*\u001b[39m\u001b[39m*\u001b[39mkwtrans)\n\u001b[1;32m    949\u001b[0m \u001b[39mif\u001b[39;00m which \u001b[39min\u001b[39;00m [\u001b[39m'\u001b[39m\u001b[39mminor\u001b[39m\u001b[39m'\u001b[39m, \u001b[39m'\u001b[39m\u001b[39mboth\u001b[39m\u001b[39m'\u001b[39m]:\n",
      "File \u001b[0;32m/usr/local/lib/python3.10/dist-packages/matplotlib/axis.py:594\u001b[0m, in \u001b[0;36m_LazyTickList.__get__\u001b[0;34m(self, instance, cls)\u001b[0m\n\u001b[1;32m    592\u001b[0m \u001b[39mif\u001b[39;00m \u001b[39mself\u001b[39m\u001b[39m.\u001b[39m_major:\n\u001b[1;32m    593\u001b[0m     instance\u001b[39m.\u001b[39mmajorTicks \u001b[39m=\u001b[39m []\n\u001b[0;32m--> 594\u001b[0m     tick \u001b[39m=\u001b[39m instance\u001b[39m.\u001b[39;49m_get_tick(major\u001b[39m=\u001b[39;49m\u001b[39mTrue\u001b[39;49;00m)\n\u001b[1;32m    595\u001b[0m     instance\u001b[39m.\u001b[39mmajorTicks\u001b[39m.\u001b[39mappend(tick)\n\u001b[1;32m    596\u001b[0m     \u001b[39mreturn\u001b[39;00m instance\u001b[39m.\u001b[39mmajorTicks\n",
      "File \u001b[0;32m/usr/local/lib/python3.10/dist-packages/matplotlib/axis.py:1551\u001b[0m, in \u001b[0;36mAxis._get_tick\u001b[0;34m(self, major)\u001b[0m\n\u001b[1;32m   1547\u001b[0m     \u001b[39mraise\u001b[39;00m \u001b[39mNotImplementedError\u001b[39;00m(\n\u001b[1;32m   1548\u001b[0m         \u001b[39mf\u001b[39m\u001b[39m\"\u001b[39m\u001b[39mThe Axis subclass \u001b[39m\u001b[39m{\u001b[39;00m\u001b[39mself\u001b[39m\u001b[39m.\u001b[39m\u001b[39m__class__\u001b[39m\u001b[39m.\u001b[39m\u001b[39m__name__\u001b[39m\u001b[39m}\u001b[39;00m\u001b[39m must define \u001b[39m\u001b[39m\"\u001b[39m\n\u001b[1;32m   1549\u001b[0m         \u001b[39m\"\u001b[39m\u001b[39m_tick_class or reimplement _get_tick()\u001b[39m\u001b[39m\"\u001b[39m)\n\u001b[1;32m   1550\u001b[0m tick_kw \u001b[39m=\u001b[39m \u001b[39mself\u001b[39m\u001b[39m.\u001b[39m_major_tick_kw \u001b[39mif\u001b[39;00m major \u001b[39melse\u001b[39;00m \u001b[39mself\u001b[39m\u001b[39m.\u001b[39m_minor_tick_kw\n\u001b[0;32m-> 1551\u001b[0m \u001b[39mreturn\u001b[39;00m \u001b[39mself\u001b[39;49m\u001b[39m.\u001b[39;49m_tick_class(\u001b[39mself\u001b[39;49m\u001b[39m.\u001b[39;49maxes, \u001b[39m0\u001b[39;49m, major\u001b[39m=\u001b[39;49mmajor, \u001b[39m*\u001b[39;49m\u001b[39m*\u001b[39;49mtick_kw)\n",
      "File \u001b[0;32m/usr/local/lib/python3.10/dist-packages/matplotlib/axis.py:433\u001b[0m, in \u001b[0;36mXTick.__init__\u001b[0;34m(self, *args, **kwargs)\u001b[0m\n\u001b[1;32m    428\u001b[0m \u001b[39mself\u001b[39m\u001b[39m.\u001b[39mlabel1\u001b[39m.\u001b[39mset(\n\u001b[1;32m    429\u001b[0m     x\u001b[39m=\u001b[39m\u001b[39m0\u001b[39m, y\u001b[39m=\u001b[39m\u001b[39m0\u001b[39m,\n\u001b[1;32m    430\u001b[0m     verticalalignment\u001b[39m=\u001b[39mva, horizontalalignment\u001b[39m=\u001b[39mha, transform\u001b[39m=\u001b[39mtrans,\n\u001b[1;32m    431\u001b[0m )\n\u001b[1;32m    432\u001b[0m trans, va, ha \u001b[39m=\u001b[39m \u001b[39mself\u001b[39m\u001b[39m.\u001b[39m_get_text2_transform()\n\u001b[0;32m--> 433\u001b[0m \u001b[39mself\u001b[39;49m\u001b[39m.\u001b[39;49mlabel2\u001b[39m.\u001b[39;49mset(\n\u001b[1;32m    434\u001b[0m     x\u001b[39m=\u001b[39;49m\u001b[39m0\u001b[39;49m, y\u001b[39m=\u001b[39;49m\u001b[39m1\u001b[39;49m,\n\u001b[1;32m    435\u001b[0m     verticalalignment\u001b[39m=\u001b[39;49mva, horizontalalignment\u001b[39m=\u001b[39;49mha, transform\u001b[39m=\u001b[39;49mtrans,\n\u001b[1;32m    436\u001b[0m )\n",
      "File \u001b[0;32m/usr/local/lib/python3.10/dist-packages/matplotlib/artist.py:147\u001b[0m, in \u001b[0;36mArtist.__init_subclass__.<locals>.<lambda>\u001b[0;34m(self, **kwargs)\u001b[0m\n\u001b[1;32m    139\u001b[0m \u001b[39mif\u001b[39;00m \u001b[39mnot\u001b[39;00m \u001b[39mhasattr\u001b[39m(\u001b[39mcls\u001b[39m\u001b[39m.\u001b[39mset, \u001b[39m'\u001b[39m\u001b[39m_autogenerated_signature\u001b[39m\u001b[39m'\u001b[39m):\n\u001b[1;32m    140\u001b[0m     \u001b[39m# Don't overwrite cls.set if the subclass or one of its parents\u001b[39;00m\n\u001b[1;32m    141\u001b[0m     \u001b[39m# has defined a set method set itself.\u001b[39;00m\n\u001b[1;32m    142\u001b[0m     \u001b[39m# If there was no explicit definition, cls.set is inherited from\u001b[39;00m\n\u001b[1;32m    143\u001b[0m     \u001b[39m# the hierarchy of auto-generated set methods, which hold the\u001b[39;00m\n\u001b[1;32m    144\u001b[0m     \u001b[39m# flag _autogenerated_signature.\u001b[39;00m\n\u001b[1;32m    145\u001b[0m     \u001b[39mreturn\u001b[39;00m\n\u001b[0;32m--> 147\u001b[0m \u001b[39mcls\u001b[39m\u001b[39m.\u001b[39mset \u001b[39m=\u001b[39m \u001b[39mlambda\u001b[39;00m \u001b[39mself\u001b[39m, \u001b[39m*\u001b[39m\u001b[39m*\u001b[39mkwargs: Artist\u001b[39m.\u001b[39;49mset(\u001b[39mself\u001b[39;49m, \u001b[39m*\u001b[39;49m\u001b[39m*\u001b[39;49mkwargs)\n\u001b[1;32m    148\u001b[0m \u001b[39mcls\u001b[39m\u001b[39m.\u001b[39mset\u001b[39m.\u001b[39m\u001b[39m__name__\u001b[39m \u001b[39m=\u001b[39m \u001b[39m\"\u001b[39m\u001b[39mset\u001b[39m\u001b[39m\"\u001b[39m\n\u001b[1;32m    149\u001b[0m \u001b[39mcls\u001b[39m\u001b[39m.\u001b[39mset\u001b[39m.\u001b[39m\u001b[39m__qualname__\u001b[39m \u001b[39m=\u001b[39m \u001b[39mf\u001b[39m\u001b[39m\"\u001b[39m\u001b[39m{\u001b[39;00m\u001b[39mcls\u001b[39m\u001b[39m.\u001b[39m\u001b[39m__qualname__\u001b[39m\u001b[39m}\u001b[39;00m\u001b[39m.set\u001b[39m\u001b[39m\"\u001b[39m\n",
      "File \u001b[0;32m/usr/local/lib/python3.10/dist-packages/matplotlib/artist.py:1231\u001b[0m, in \u001b[0;36mArtist.set\u001b[0;34m(self, **kwargs)\u001b[0m\n\u001b[1;32m   1227\u001b[0m \u001b[39mdef\u001b[39;00m \u001b[39mset\u001b[39m(\u001b[39mself\u001b[39m, \u001b[39m*\u001b[39m\u001b[39m*\u001b[39mkwargs):\n\u001b[1;32m   1228\u001b[0m     \u001b[39m# docstring and signature are auto-generated via\u001b[39;00m\n\u001b[1;32m   1229\u001b[0m     \u001b[39m# Artist._update_set_signature_and_docstring() at the end of the\u001b[39;00m\n\u001b[1;32m   1230\u001b[0m     \u001b[39m# module.\u001b[39;00m\n\u001b[0;32m-> 1231\u001b[0m     \u001b[39mreturn\u001b[39;00m \u001b[39mself\u001b[39;49m\u001b[39m.\u001b[39;49m_internal_update(cbook\u001b[39m.\u001b[39;49mnormalize_kwargs(kwargs, \u001b[39mself\u001b[39;49m))\n",
      "File \u001b[0;32m/usr/local/lib/python3.10/dist-packages/matplotlib/artist.py:1223\u001b[0m, in \u001b[0;36mArtist._internal_update\u001b[0;34m(self, kwargs)\u001b[0m\n\u001b[1;32m   1216\u001b[0m \u001b[39mdef\u001b[39;00m \u001b[39m_internal_update\u001b[39m(\u001b[39mself\u001b[39m, kwargs):\n\u001b[1;32m   1217\u001b[0m \u001b[39m    \u001b[39m\u001b[39m\"\"\"\u001b[39;00m\n\u001b[1;32m   1218\u001b[0m \u001b[39m    Update artist properties without prenormalizing them, but generating\u001b[39;00m\n\u001b[1;32m   1219\u001b[0m \u001b[39m    errors as if calling `set`.\u001b[39;00m\n\u001b[1;32m   1220\u001b[0m \n\u001b[1;32m   1221\u001b[0m \u001b[39m    The lack of prenormalization is to maintain backcompatibility.\u001b[39;00m\n\u001b[1;32m   1222\u001b[0m \u001b[39m    \"\"\"\u001b[39;00m\n\u001b[0;32m-> 1223\u001b[0m     \u001b[39mreturn\u001b[39;00m \u001b[39mself\u001b[39;49m\u001b[39m.\u001b[39;49m_update_props(\n\u001b[1;32m   1224\u001b[0m         kwargs, \u001b[39m\"\u001b[39;49m\u001b[39m{cls.__name__}\u001b[39;49;00m\u001b[39m.set() got an unexpected keyword argument \u001b[39;49m\u001b[39m\"\u001b[39;49m\n\u001b[1;32m   1225\u001b[0m         \u001b[39m\"\u001b[39;49m\u001b[39m{prop_name!r}\u001b[39;49;00m\u001b[39m\"\u001b[39;49m)\n",
      "File \u001b[0;32m/usr/local/lib/python3.10/dist-packages/matplotlib/artist.py:1188\u001b[0m, in \u001b[0;36mArtist._update_props\u001b[0;34m(self, props, errfmt)\u001b[0m\n\u001b[1;32m   1181\u001b[0m \u001b[39m\u001b[39m\u001b[39m\"\"\"\u001b[39;00m\n\u001b[1;32m   1182\u001b[0m \u001b[39mHelper for `.Artist.set` and `.Artist.update`.\u001b[39;00m\n\u001b[1;32m   1183\u001b[0m \n\u001b[1;32m   1184\u001b[0m \u001b[39m*errfmt* is used to generate error messages for invalid property\u001b[39;00m\n\u001b[1;32m   1185\u001b[0m \u001b[39mnames; it gets formatted with ``type(self)`` and the property name.\u001b[39;00m\n\u001b[1;32m   1186\u001b[0m \u001b[39m\"\"\"\u001b[39;00m\n\u001b[1;32m   1187\u001b[0m ret \u001b[39m=\u001b[39m []\n\u001b[0;32m-> 1188\u001b[0m \u001b[39mwith\u001b[39;00m cbook\u001b[39m.\u001b[39m_setattr_cm(\u001b[39mself\u001b[39m, eventson\u001b[39m=\u001b[39m\u001b[39mFalse\u001b[39;00m):\n\u001b[1;32m   1189\u001b[0m     \u001b[39mfor\u001b[39;00m k, v \u001b[39min\u001b[39;00m props\u001b[39m.\u001b[39mitems():\n\u001b[1;32m   1190\u001b[0m         \u001b[39m# Allow attributes we want to be able to update through\u001b[39;00m\n\u001b[1;32m   1191\u001b[0m         \u001b[39m# art.update, art.set, setp.\u001b[39;00m\n\u001b[1;32m   1192\u001b[0m         \u001b[39mif\u001b[39;00m k \u001b[39m==\u001b[39m \u001b[39m\"\u001b[39m\u001b[39maxes\u001b[39m\u001b[39m\"\u001b[39m:\n",
      "File \u001b[0;32m/usr/lib/python3.10/contextlib.py:135\u001b[0m, in \u001b[0;36m_GeneratorContextManager.__enter__\u001b[0;34m(self)\u001b[0m\n\u001b[1;32m    133\u001b[0m \u001b[39mdel\u001b[39;00m \u001b[39mself\u001b[39m\u001b[39m.\u001b[39margs, \u001b[39mself\u001b[39m\u001b[39m.\u001b[39mkwds, \u001b[39mself\u001b[39m\u001b[39m.\u001b[39mfunc\n\u001b[1;32m    134\u001b[0m \u001b[39mtry\u001b[39;00m:\n\u001b[0;32m--> 135\u001b[0m     \u001b[39mreturn\u001b[39;00m \u001b[39mnext\u001b[39;49m(\u001b[39mself\u001b[39;49m\u001b[39m.\u001b[39;49mgen)\n\u001b[1;32m    136\u001b[0m \u001b[39mexcept\u001b[39;00m \u001b[39mStopIteration\u001b[39;00m:\n\u001b[1;32m    137\u001b[0m     \u001b[39mraise\u001b[39;00m \u001b[39mRuntimeError\u001b[39;00m(\u001b[39m\"\u001b[39m\u001b[39mgenerator didn\u001b[39m\u001b[39m'\u001b[39m\u001b[39mt yield\u001b[39m\u001b[39m\"\u001b[39m) \u001b[39mfrom\u001b[39;00m \u001b[39mNone\u001b[39;00m\n",
      "File \u001b[0;32m/usr/local/lib/python3.10/dist-packages/matplotlib/cbook/__init__.py:2007\u001b[0m, in \u001b[0;36m_setattr_cm\u001b[0;34m(obj, **kwargs)\u001b[0m\n\u001b[1;32m   2005\u001b[0m origs \u001b[39m=\u001b[39m {}\n\u001b[1;32m   2006\u001b[0m \u001b[39mfor\u001b[39;00m attr \u001b[39min\u001b[39;00m kwargs:\n\u001b[0;32m-> 2007\u001b[0m     orig \u001b[39m=\u001b[39m \u001b[39mgetattr\u001b[39;49m(obj, attr, sentinel)\n\u001b[1;32m   2008\u001b[0m     \u001b[39mif\u001b[39;00m attr \u001b[39min\u001b[39;00m obj\u001b[39m.\u001b[39m\u001b[39m__dict__\u001b[39m \u001b[39mor\u001b[39;00m orig \u001b[39mis\u001b[39;00m sentinel:\n\u001b[1;32m   2009\u001b[0m         \u001b[39m# if we are pulling from the instance dict or the object\u001b[39;00m\n\u001b[1;32m   2010\u001b[0m         \u001b[39m# does not have this attribute we can trust the above\u001b[39;00m\n\u001b[1;32m   2011\u001b[0m         origs[attr] \u001b[39m=\u001b[39m orig\n",
      "\u001b[0;31mKeyboardInterrupt\u001b[0m: "
     ]
    },
    {
     "data": {
      "text/plain": [
       "<Figure size 320x320 with 0 Axes>"
      ]
     },
     "metadata": {},
     "output_type": "display_data"
    }
   ],
   "source": [
    "out_dic = {'event_time': [], 'flag': []}\n",
    "\n",
    "for i in range(1024):\n",
    "    out_dic[i] = []\n",
    "\n",
    "for obj in tqdm(ds):\n",
    "    x, y, t = obj[0]\n",
    "    l = obj[1]\n",
    "\n",
    "    arr = point_to_image(x, y, l)\n",
    "    arr = np.vstack(arr)\n",
    "    for i in range(1024):\n",
    "        out_dic[i].append(list(arr[:,i].astype(int)))\n",
    "\n",
    "    out_dic['event_time'].append(list(t))\n",
    "    out_dic['flag'].append(l)"
   ]
  },
  {
   "cell_type": "code",
   "execution_count": 28,
   "metadata": {},
   "outputs": [
    {
     "name": "stderr",
     "output_type": "stream",
     "text": [
      "  0%|          | 0/10000 [00:00<?, ?it/s]/tmp/ipykernel_702326/1369941581.py:26: UserWarning: color is redundantly defined by the 'color' keyword argument and the fmt string \"bo\" (-> color='b'). The keyword argument will take precedence.\n",
      "  plt.plot(x[point], y[point], 'bo', markersize=8, color='black')\n",
      "  0%|          | 6/10000 [00:14<6:49:35,  2.46s/it]\n"
     ]
    },
    {
     "ename": "KeyboardInterrupt",
     "evalue": "",
     "output_type": "error",
     "traceback": [
      "\u001b[0;31m---------------------------------------------------------------------------\u001b[0m",
      "\u001b[0;31mKeyboardInterrupt\u001b[0m                         Traceback (most recent call last)",
      "\u001b[1;32m/home/event_seq/experiments/pendulum/notebooks/data_constructor.ipynb Cell 14\u001b[0m line \u001b[0;36m6\n\u001b[1;32m      <a href='vscode-notebook-cell://attached-container%2B7b22636f6e7461696e65724e616d65223a222f76765f6576656e74227d@ssh-remote%2Bmidas.skoltech.ru/home/event_seq/experiments/pendulum/notebooks/data_constructor.ipynb#X21sdnNjb2RlLXJlbW90ZQ%3D%3D?line=2'>3</a>\u001b[0m x, y, t \u001b[39m=\u001b[39m obj[\u001b[39m0\u001b[39m]\n\u001b[1;32m      <a href='vscode-notebook-cell://attached-container%2B7b22636f6e7461696e65724e616d65223a222f76765f6576656e74227d@ssh-remote%2Bmidas.skoltech.ru/home/event_seq/experiments/pendulum/notebooks/data_constructor.ipynb#X21sdnNjb2RlLXJlbW90ZQ%3D%3D?line=3'>4</a>\u001b[0m l \u001b[39m=\u001b[39m obj[\u001b[39m1\u001b[39m]\n\u001b[0;32m----> <a href='vscode-notebook-cell://attached-container%2B7b22636f6e7461696e65724e616d65223a222f76765f6576656e74227d@ssh-remote%2Bmidas.skoltech.ru/home/event_seq/experiments/pendulum/notebooks/data_constructor.ipynb#X21sdnNjb2RlLXJlbW90ZQ%3D%3D?line=5'>6</a>\u001b[0m arr \u001b[39m=\u001b[39m point_to_image(x, y, l)\n\u001b[1;32m      <a href='vscode-notebook-cell://attached-container%2B7b22636f6e7461696e65724e616d65223a222f76765f6576656e74227d@ssh-remote%2Bmidas.skoltech.ru/home/event_seq/experiments/pendulum/notebooks/data_constructor.ipynb#X21sdnNjb2RlLXJlbW90ZQ%3D%3D?line=6'>7</a>\u001b[0m total_arr\u001b[39m.\u001b[39mappend(arr)\n",
      "\u001b[1;32m/home/event_seq/experiments/pendulum/notebooks/data_constructor.ipynb Cell 14\u001b[0m line \u001b[0;36m2\n\u001b[1;32m     <a href='vscode-notebook-cell://attached-container%2B7b22636f6e7461696e65724e616d65223a222f76765f6576656e74227d@ssh-remote%2Bmidas.skoltech.ru/home/event_seq/experiments/pendulum/notebooks/data_constructor.ipynb#X21sdnNjb2RlLXJlbW90ZQ%3D%3D?line=23'>24</a>\u001b[0m \u001b[39mfor\u001b[39;00m point \u001b[39min\u001b[39;00m \u001b[39mrange\u001b[39m(\u001b[39mlen\u001b[39m(x)):\n\u001b[1;32m     <a href='vscode-notebook-cell://attached-container%2B7b22636f6e7461696e65724e616d65223a222f76765f6576656e74227d@ssh-remote%2Bmidas.skoltech.ru/home/event_seq/experiments/pendulum/notebooks/data_constructor.ipynb#X21sdnNjb2RlLXJlbW90ZQ%3D%3D?line=24'>25</a>\u001b[0m     plt\u001b[39m.\u001b[39mfigure(figsize\u001b[39m=\u001b[39m(\u001b[39m3.2\u001b[39m, \u001b[39m3.2\u001b[39m))  \u001b[39m# 16x16 pixels at 100 dpi\u001b[39;00m\n\u001b[0;32m---> <a href='vscode-notebook-cell://attached-container%2B7b22636f6e7461696e65724e616d65223a222f76765f6576656e74227d@ssh-remote%2Bmidas.skoltech.ru/home/event_seq/experiments/pendulum/notebooks/data_constructor.ipynb#X21sdnNjb2RlLXJlbW90ZQ%3D%3D?line=25'>26</a>\u001b[0m     plt\u001b[39m.\u001b[39;49mplot(x[point], y[point], \u001b[39m'\u001b[39;49m\u001b[39mbo\u001b[39;49m\u001b[39m'\u001b[39;49m, markersize\u001b[39m=\u001b[39;49m\u001b[39m8\u001b[39;49m, color\u001b[39m=\u001b[39;49m\u001b[39m'\u001b[39;49m\u001b[39mblack\u001b[39;49m\u001b[39m'\u001b[39;49m)\n\u001b[1;32m     <a href='vscode-notebook-cell://attached-container%2B7b22636f6e7461696e65724e616d65223a222f76765f6576656e74227d@ssh-remote%2Bmidas.skoltech.ru/home/event_seq/experiments/pendulum/notebooks/data_constructor.ipynb#X21sdnNjb2RlLXJlbW90ZQ%3D%3D?line=26'>27</a>\u001b[0m     \u001b[39m#plt.plot([0, x[point]], [0, y[point]])\u001b[39;00m\n\u001b[1;32m     <a href='vscode-notebook-cell://attached-container%2B7b22636f6e7461696e65724e616d65223a222f76765f6576656e74227d@ssh-remote%2Bmidas.skoltech.ru/home/event_seq/experiments/pendulum/notebooks/data_constructor.ipynb#X21sdnNjb2RlLXJlbW90ZQ%3D%3D?line=27'>28</a>\u001b[0m     plt\u001b[39m.\u001b[39mxlim(\u001b[39m-\u001b[39mL \u001b[39m-\u001b[39m \u001b[39m0.5\u001b[39m, L \u001b[39m+\u001b[39m \u001b[39m0.5\u001b[39m)\n",
      "File \u001b[0;32m/usr/local/lib/python3.10/dist-packages/matplotlib/pyplot.py:2812\u001b[0m, in \u001b[0;36mplot\u001b[0;34m(scalex, scaley, data, *args, **kwargs)\u001b[0m\n\u001b[1;32m   2810\u001b[0m \u001b[39m@_copy_docstring_and_deprecators\u001b[39m(Axes\u001b[39m.\u001b[39mplot)\n\u001b[1;32m   2811\u001b[0m \u001b[39mdef\u001b[39;00m \u001b[39mplot\u001b[39m(\u001b[39m*\u001b[39margs, scalex\u001b[39m=\u001b[39m\u001b[39mTrue\u001b[39;00m, scaley\u001b[39m=\u001b[39m\u001b[39mTrue\u001b[39;00m, data\u001b[39m=\u001b[39m\u001b[39mNone\u001b[39;00m, \u001b[39m*\u001b[39m\u001b[39m*\u001b[39mkwargs):\n\u001b[0;32m-> 2812\u001b[0m     \u001b[39mreturn\u001b[39;00m gca()\u001b[39m.\u001b[39mplot(\n\u001b[1;32m   2813\u001b[0m         \u001b[39m*\u001b[39margs, scalex\u001b[39m=\u001b[39mscalex, scaley\u001b[39m=\u001b[39mscaley,\n\u001b[1;32m   2814\u001b[0m         \u001b[39m*\u001b[39m\u001b[39m*\u001b[39m({\u001b[39m\"\u001b[39m\u001b[39mdata\u001b[39m\u001b[39m\"\u001b[39m: data} \u001b[39mif\u001b[39;00m data \u001b[39mis\u001b[39;00m \u001b[39mnot\u001b[39;00m \u001b[39mNone\u001b[39;00m \u001b[39melse\u001b[39;00m {}), \u001b[39m*\u001b[39m\u001b[39m*\u001b[39mkwargs)\n",
      "File \u001b[0;32m/usr/local/lib/python3.10/dist-packages/matplotlib/pyplot.py:2309\u001b[0m, in \u001b[0;36mgca\u001b[0;34m()\u001b[0m\n\u001b[1;32m   2307\u001b[0m \u001b[39m@_copy_docstring_and_deprecators\u001b[39m(Figure\u001b[39m.\u001b[39mgca)\n\u001b[1;32m   2308\u001b[0m \u001b[39mdef\u001b[39;00m \u001b[39mgca\u001b[39m():\n\u001b[0;32m-> 2309\u001b[0m     \u001b[39mreturn\u001b[39;00m gcf()\u001b[39m.\u001b[39;49mgca()\n",
      "File \u001b[0;32m/usr/local/lib/python3.10/dist-packages/matplotlib/figure.py:1660\u001b[0m, in \u001b[0;36mFigureBase.gca\u001b[0;34m(self)\u001b[0m\n\u001b[1;32m   1650\u001b[0m \u001b[39m\u001b[39m\u001b[39m\"\"\"\u001b[39;00m\n\u001b[1;32m   1651\u001b[0m \u001b[39mGet the current Axes.\u001b[39;00m\n\u001b[1;32m   1652\u001b[0m \n\u001b[0;32m   (...)\u001b[0m\n\u001b[1;32m   1657\u001b[0m \u001b[39mwhether `.pyplot.get_fignums()` is empty.)\u001b[39;00m\n\u001b[1;32m   1658\u001b[0m \u001b[39m\"\"\"\u001b[39;00m\n\u001b[1;32m   1659\u001b[0m ax \u001b[39m=\u001b[39m \u001b[39mself\u001b[39m\u001b[39m.\u001b[39m_axstack\u001b[39m.\u001b[39mcurrent()\n\u001b[0;32m-> 1660\u001b[0m \u001b[39mreturn\u001b[39;00m ax \u001b[39mif\u001b[39;00m ax \u001b[39mis\u001b[39;00m \u001b[39mnot\u001b[39;00m \u001b[39mNone\u001b[39;00m \u001b[39melse\u001b[39;00m \u001b[39mself\u001b[39;49m\u001b[39m.\u001b[39;49madd_subplot()\n",
      "File \u001b[0;32m/usr/local/lib/python3.10/dist-packages/matplotlib/figure.py:768\u001b[0m, in \u001b[0;36mFigureBase.add_subplot\u001b[0;34m(self, *args, **kwargs)\u001b[0m\n\u001b[1;32m    765\u001b[0m         args \u001b[39m=\u001b[39m \u001b[39mtuple\u001b[39m(\u001b[39mmap\u001b[39m(\u001b[39mint\u001b[39m, \u001b[39mstr\u001b[39m(args[\u001b[39m0\u001b[39m])))\n\u001b[1;32m    766\u001b[0m     projection_class, pkw \u001b[39m=\u001b[39m \u001b[39mself\u001b[39m\u001b[39m.\u001b[39m_process_projection_requirements(\n\u001b[1;32m    767\u001b[0m         \u001b[39m*\u001b[39margs, \u001b[39m*\u001b[39m\u001b[39m*\u001b[39mkwargs)\n\u001b[0;32m--> 768\u001b[0m     ax \u001b[39m=\u001b[39m projection_class(\u001b[39mself\u001b[39;49m, \u001b[39m*\u001b[39;49margs, \u001b[39m*\u001b[39;49m\u001b[39m*\u001b[39;49mpkw)\n\u001b[1;32m    769\u001b[0m     key \u001b[39m=\u001b[39m (projection_class, pkw)\n\u001b[1;32m    770\u001b[0m \u001b[39mreturn\u001b[39;00m \u001b[39mself\u001b[39m\u001b[39m.\u001b[39m_add_axes_internal(ax, key)\n",
      "File \u001b[0;32m/usr/local/lib/python3.10/dist-packages/matplotlib/axes/_base.py:656\u001b[0m, in \u001b[0;36m_AxesBase.__init__\u001b[0;34m(self, fig, facecolor, frameon, sharex, sharey, label, xscale, yscale, box_aspect, *args, **kwargs)\u001b[0m\n\u001b[1;32m    654\u001b[0m \u001b[39mself\u001b[39m\u001b[39m.\u001b[39m_sharey \u001b[39m=\u001b[39m sharey\n\u001b[1;32m    655\u001b[0m \u001b[39mself\u001b[39m\u001b[39m.\u001b[39mset_label(label)\n\u001b[0;32m--> 656\u001b[0m \u001b[39mself\u001b[39;49m\u001b[39m.\u001b[39;49mset_figure(fig)\n\u001b[1;32m    657\u001b[0m \u001b[39m# The subplotspec needs to be set after the figure (so that\u001b[39;00m\n\u001b[1;32m    658\u001b[0m \u001b[39m# figure-level subplotpars are taken into account), but the figure\u001b[39;00m\n\u001b[1;32m    659\u001b[0m \u001b[39m# needs to be set after self._position is initialized.\u001b[39;00m\n\u001b[1;32m    660\u001b[0m \u001b[39mif\u001b[39;00m subplotspec:\n",
      "File \u001b[0;32m/usr/local/lib/python3.10/dist-packages/matplotlib/axes/_base.py:839\u001b[0m, in \u001b[0;36m_AxesBase.set_figure\u001b[0;34m(self, fig)\u001b[0m\n\u001b[1;32m    835\u001b[0m \u001b[39mself\u001b[39m\u001b[39m.\u001b[39m_viewLim \u001b[39m=\u001b[39m mtransforms\u001b[39m.\u001b[39mBbox\u001b[39m.\u001b[39munit()\n\u001b[1;32m    836\u001b[0m \u001b[39mself\u001b[39m\u001b[39m.\u001b[39mtransScale \u001b[39m=\u001b[39m mtransforms\u001b[39m.\u001b[39mTransformWrapper(\n\u001b[1;32m    837\u001b[0m     mtransforms\u001b[39m.\u001b[39mIdentityTransform())\n\u001b[0;32m--> 839\u001b[0m \u001b[39mself\u001b[39;49m\u001b[39m.\u001b[39;49m_set_lim_and_transforms()\n",
      "File \u001b[0;32m/usr/local/lib/python3.10/dist-packages/matplotlib/axes/_base.py:894\u001b[0m, in \u001b[0;36m_AxesBase._set_lim_and_transforms\u001b[0;34m(self)\u001b[0m\n\u001b[1;32m    881\u001b[0m \u001b[39mdef\u001b[39;00m \u001b[39m_set_lim_and_transforms\u001b[39m(\u001b[39mself\u001b[39m):\n\u001b[1;32m    882\u001b[0m \u001b[39m    \u001b[39m\u001b[39m\"\"\"\u001b[39;00m\n\u001b[1;32m    883\u001b[0m \u001b[39m    Set the *_xaxis_transform*, *_yaxis_transform*, *transScale*,\u001b[39;00m\n\u001b[1;32m    884\u001b[0m \u001b[39m    *transData*, *transLimits* and *transAxes* transformations.\u001b[39;00m\n\u001b[0;32m   (...)\u001b[0m\n\u001b[1;32m    892\u001b[0m \u001b[39m        example.)\u001b[39;00m\n\u001b[1;32m    893\u001b[0m \u001b[39m    \"\"\"\u001b[39;00m\n\u001b[0;32m--> 894\u001b[0m     \u001b[39mself\u001b[39m\u001b[39m.\u001b[39mtransAxes \u001b[39m=\u001b[39m mtransforms\u001b[39m.\u001b[39;49mBboxTransformTo(\u001b[39mself\u001b[39;49m\u001b[39m.\u001b[39;49mbbox)\n\u001b[1;32m    896\u001b[0m     \u001b[39m# Transforms the x and y axis separately by a scale factor.\u001b[39;00m\n\u001b[1;32m    897\u001b[0m     \u001b[39m# It is assumed that this part will have non-linear components\u001b[39;00m\n\u001b[1;32m    898\u001b[0m     \u001b[39m# (e.g., for a log scale).\u001b[39;00m\n\u001b[1;32m    899\u001b[0m     \u001b[39mself\u001b[39m\u001b[39m.\u001b[39mtransScale \u001b[39m=\u001b[39m mtransforms\u001b[39m.\u001b[39mTransformWrapper(\n\u001b[1;32m    900\u001b[0m         mtransforms\u001b[39m.\u001b[39mIdentityTransform())\n",
      "File \u001b[0;32m/usr/local/lib/python3.10/dist-packages/matplotlib/transforms.py:2597\u001b[0m, in \u001b[0;36mBboxTransformTo.__init__\u001b[0;34m(self, boxout, **kwargs)\u001b[0m\n\u001b[1;32m   2594\u001b[0m \u001b[39mif\u001b[39;00m \u001b[39mnot\u001b[39;00m boxout\u001b[39m.\u001b[39mis_bbox:\n\u001b[1;32m   2595\u001b[0m     \u001b[39mraise\u001b[39;00m \u001b[39mValueError\u001b[39;00m(\u001b[39m\"\u001b[39m\u001b[39m'\u001b[39m\u001b[39mboxout\u001b[39m\u001b[39m'\u001b[39m\u001b[39m must be bbox\u001b[39m\u001b[39m\"\u001b[39m)\n\u001b[0;32m-> 2597\u001b[0m \u001b[39msuper\u001b[39;49m()\u001b[39m.\u001b[39;49m\u001b[39m__init__\u001b[39;49m(\u001b[39m*\u001b[39;49m\u001b[39m*\u001b[39;49mkwargs)\n\u001b[1;32m   2598\u001b[0m \u001b[39mself\u001b[39m\u001b[39m.\u001b[39m_boxout \u001b[39m=\u001b[39m boxout\n\u001b[1;32m   2599\u001b[0m \u001b[39mself\u001b[39m\u001b[39m.\u001b[39mset_children(boxout)\n",
      "File \u001b[0;32m/usr/local/lib/python3.10/dist-packages/matplotlib/transforms.py:1773\u001b[0m, in \u001b[0;36mAffineBase.__init__\u001b[0;34m(self, *args, **kwargs)\u001b[0m\n\u001b[1;32m   1772\u001b[0m \u001b[39mdef\u001b[39;00m \u001b[39m__init__\u001b[39m(\u001b[39mself\u001b[39m, \u001b[39m*\u001b[39margs, \u001b[39m*\u001b[39m\u001b[39m*\u001b[39mkwargs):\n\u001b[0;32m-> 1773\u001b[0m     \u001b[39msuper\u001b[39;49m()\u001b[39m.\u001b[39;49m\u001b[39m__init__\u001b[39;49m(\u001b[39m*\u001b[39;49margs, \u001b[39m*\u001b[39;49m\u001b[39m*\u001b[39;49mkwargs)\n\u001b[1;32m   1774\u001b[0m     \u001b[39mself\u001b[39m\u001b[39m.\u001b[39m_inverted \u001b[39m=\u001b[39m \u001b[39mNone\u001b[39;00m\n",
      "\u001b[0;31mKeyboardInterrupt\u001b[0m: "
     ]
    },
    {
     "data": {
      "text/plain": [
       "<Figure size 320x320 with 0 Axes>"
      ]
     },
     "metadata": {},
     "output_type": "display_data"
    }
   ],
   "source": [
    "total_arr = []\n",
    "for obj in tqdm(ds):\n",
    "    x, y, t = obj[0]\n",
    "    l = obj[1]\n",
    "\n",
    "    arr = point_to_image(x, y, l)\n",
    "    total_arr.append(arr)"
   ]
  },
  {
   "cell_type": "code",
   "execution_count": 18,
   "metadata": {},
   "outputs": [
    {
     "data": {
      "text/plain": [
       "5.044290916766202"
      ]
     },
     "execution_count": 18,
     "metadata": {},
     "output_type": "execute_result"
    }
   ],
   "source": [
    "t[-1]"
   ]
  },
  {
   "cell_type": "code",
   "execution_count": 19,
   "metadata": {},
   "outputs": [
    {
     "data": {
      "text/plain": [
       "[((array([-0.70810034, -0.79818578, -0.95785008, -1.03726353, -1.166661  ,\n",
       "          -1.28834001, -1.29643753, -1.36465839, -1.36558235, -1.36930147,\n",
       "          -1.35825703, -1.32289964, -1.14770376, -0.78295828, -0.41636954,\n",
       "          -0.39039871, -0.26859256, -0.24965595,  0.01398477,  0.1396022 ,\n",
       "           0.34710418,  0.36879809,  0.52511445,  0.74884962,  0.83052618,\n",
       "           0.92228499,  1.16953703,  1.26913884,  1.27154813,  1.29671157,\n",
       "           1.2967216 ,  1.31940716,  1.3566233 ,  1.36795194,  1.361587  ,\n",
       "           1.36627672,  1.36913697,  1.34844329,  1.34589982,  1.34429719,\n",
       "           1.25778569,  1.17592596,  1.03849894,  0.87831584,  0.84396897,\n",
       "           0.77691463,  0.55041922, -0.3355571 , -1.05472129, -1.09653594,\n",
       "          -1.19290295, -1.2408826 , -1.2645313 , -1.27418815, -1.27124143,\n",
       "          -1.27122426, -1.26746   , -1.23124843, -1.19915995, -1.19532264,\n",
       "          -1.00130476, -0.89539091, -0.71893659, -0.50894286,  0.32357461,\n",
       "           0.52889497,  0.62106543,  0.82915167,  0.97268906,  0.97415514,\n",
       "           1.01553474,  1.03559107,  1.0473934 ,  1.06875017,  1.05792196,\n",
       "           1.01852061,  1.01589992,  0.94419815,  0.93967047,  0.93520207,\n",
       "           0.86272467,  0.70888207,  0.44102152,  0.41684637,  0.11232868,\n",
       "           0.06867402, -0.28487579, -0.29063162, -0.48464893, -0.51469684,\n",
       "          -0.5994922 , -0.64242042, -0.70228215, -0.71213227, -0.85877431,\n",
       "          -0.85193983, -0.84119494, -0.69519362, -0.67290996, -0.44543343]),\n",
       "   array([ 1.17238368,  1.113009  ,  0.9789856 ,  0.89441263,  0.71748985,\n",
       "           0.46483288,  0.44174575,  0.11660646,  0.10523515, -0.03005093,\n",
       "          -0.17614599, -0.35471977, -0.7474394 , -1.12377307, -1.30480879,\n",
       "          -1.31281317, -1.34303671, -1.34668537, -1.36955979, -1.362498  ,\n",
       "          -1.32491821, -1.31904418, -1.26496814, -1.14678412, -1.08908946,\n",
       "          -1.0125611 , -0.7127922 , -0.51495259, -0.5089744 , -0.44094069,\n",
       "          -0.44091117, -0.36749737, -0.18831572,  0.06780179,  0.14822424,\n",
       "           0.09579923,  0.03679032, -0.23997976, -0.25385676, -0.26221109,\n",
       "          -0.54209292, -0.70220205, -0.8929779 , -1.05092858, -1.07870569,\n",
       "          -1.12795977, -1.25416437, -1.32788968, -0.87375773, -0.82066955,\n",
       "          -0.67295775, -0.57974127, -0.52616553, -0.50232871, -0.50973994,\n",
       "          -0.50978275, -0.51907103, -0.59993073, -0.66174391, -0.66865041,\n",
       "          -0.93449364, -1.03641917, -1.16577003, -1.27156075, -1.33086027,\n",
       "          -1.26339213, -1.22072409, -1.09013627, -0.96424352, -0.96276235,\n",
       "          -0.91900967, -0.89634855, -0.88252855, -0.8565411 , -0.8698797 ,\n",
       "          -0.91569938, -0.91860597, -0.99215898, -0.99644819, -1.00064313,\n",
       "          -1.06376488, -1.17191117, -1.29668408, -1.30465654, -1.36501716,\n",
       "          -1.36790842, -1.33967734, -1.33844045, -1.28101717, -1.26924259,\n",
       "          -1.23146201, -1.20962208, -1.17587813, -1.16993898, -1.06695655,\n",
       "          -1.07242161, -1.08087032, -1.1800828 , -1.19292991, -1.29517514]),\n",
       "   array([0.04350012, 0.08741542, 0.16082839, 0.19641174, 0.25604216,\n",
       "          0.32166952, 0.32694395, 0.39337142, 0.3954935 , 0.42002757,\n",
       "          0.44536436, 0.47530819, 0.54127134, 0.61594674, 0.6719057 ,\n",
       "          0.67558602, 0.69258355, 0.69519571, 0.7312406 , 0.74853182,\n",
       "          0.77797857, 0.78115688, 0.80489432, 0.84275259, 0.85839201,\n",
       "          0.87770539, 0.94694781, 0.99272011, 0.99415121, 1.01074888,\n",
       "          1.01075622, 1.02946379, 1.08064029, 1.18962074, 1.27946432,\n",
       "          1.39203665, 1.43248699, 1.54733862, 1.5518405 , 1.55451929,\n",
       "          1.63499894, 1.67686002, 1.72673873, 1.77105575, 1.77946804,\n",
       "          1.79511705, 1.842692  , 2.00662102, 2.20167692, 2.222367  ,\n",
       "          2.28728449, 2.34149523, 2.38712565, 2.50930614, 2.52189833,\n",
       "          2.52196324, 2.53467927, 2.6041825 , 2.64123378, 2.64499414,\n",
       "          2.76616836, 2.80889657, 2.86678181, 2.92452343, 3.12639538,\n",
       "          3.1836681 , 3.21280963, 3.29399162, 3.37958269, 3.38075166,\n",
       "          3.41907116, 3.44351859, 3.4614806 , 3.5794548 , 3.6130408 ,\n",
       "          3.67439588, 3.67742089, 3.74180441, 3.74510877, 3.74831031,\n",
       "          3.79390508, 3.86818769, 3.96704771, 3.97502633, 4.07013222,\n",
       "          4.08342544, 4.19578664, 4.19776389, 4.27027127, 4.28290946,\n",
       "          4.32181962, 4.34397468, 4.37903647, 4.38543168, 4.54914946,\n",
       "          4.65976672, 4.68154331, 4.82441443, 4.83904351, 4.95823995])),\n",
       "  1.3696311839630764),\n",
       " ((array([-2.63995445, -2.94646776, -3.08659669, -3.09584987, -3.73423634,\n",
       "          -3.81087853, -3.67570442, -3.48110395, -3.46909361, -2.90912901,\n",
       "          -1.95461034, -0.15803315,  0.23685788,  3.24571975,  3.66346947,\n",
       "           3.81540201,  3.64378552,  3.49650159,  3.34536406,  3.12293344,\n",
       "           2.97421356,  2.97311722,  2.97579553,  2.97808159,  3.00196687,\n",
       "           3.01878387,  3.10485752,  3.29867879,  3.36193135,  3.37406266,\n",
       "           3.77314838,  3.81715516,  3.66916173,  3.59829054,  3.53317143,\n",
       "           0.94696564,  0.1425608 ,  0.01603018, -0.05851   , -0.91697201,\n",
       "          -1.50464407, -2.20530007, -2.38287771, -3.13251732, -3.177139  ,\n",
       "          -3.25576052, -3.42979601, -3.6998735 , -3.7607919 , -3.78133268,\n",
       "          -3.80074931, -3.80719645, -3.80734286, -3.8046701 , -3.78803944,\n",
       "          -3.77307245, -3.75741183, -3.72929793, -3.70793767, -3.62700365,\n",
       "          -3.57265259, -3.55017932, -3.47963157, -3.24499897, -1.99766092,\n",
       "          -1.78317051, -1.30854944, -0.34284147,  0.94214884,  1.86436741,\n",
       "           3.14734081,  3.3963349 ,  3.20628043,  3.1197993 ,  2.83283788,\n",
       "           2.71236734,  2.43447743,  2.10801656,  2.09608724,  1.94341268,\n",
       "           1.42633747,  0.81066764,  0.77901083,  0.70522187,  0.68139128,\n",
       "          -0.46863852, -0.47904378, -1.51323985, -1.71530876, -1.89460236,\n",
       "          -2.28387321, -2.75438778, -2.80657559, -2.81007731, -2.80996539,\n",
       "          -2.68550123, -2.29800875, -2.12383307, -1.88662994, -0.96809163]),\n",
       "   array([ 2.76035136,  2.43047873,  2.24984889,  2.23709918,  0.80273164,\n",
       "           0.2571069 , -1.03831409, -1.57188244, -1.5982142 , -2.475049  ,\n",
       "          -3.28152367, -3.81627104, -3.81219064, -2.01350501, -1.08068988,\n",
       "          -0.1777826 ,  1.14530616,  1.53732747,  1.84321416,  2.19913298,\n",
       "           2.39644588,  2.3978059 ,  2.39448117,  2.39163735,  2.36158719,\n",
       "           2.34005193,  2.22458062,  1.92551743,  1.8128201 ,  1.79013973,\n",
       "           0.59350688,  0.13500222, -1.06120277, -1.28109498, -1.45106815,\n",
       "          -3.70029123, -3.81688034, -3.81950811, -3.81909357, -3.70783784,\n",
       "          -3.51069015, -3.11858153, -2.98509514, -2.18545977, -2.12006766,\n",
       "          -1.99722872, -1.68089217, -0.94859646, -0.66734053, -0.5389084 ,\n",
       "          -0.37842281, -0.30684575, -0.30502372, -0.33672629, -0.48954707,\n",
       "          -0.59398942, -0.6861162 , -0.82537028, -0.91656827, -1.19739035,\n",
       "          -1.35094508, -1.40894498, -1.57513913, -2.01466643, -3.25549535,\n",
       "          -3.37775103, -3.58839762, -3.80412393, -3.70152059, -3.33362165,\n",
       "          -2.16405753, -1.74751491, -2.07573238, -2.20357697, -2.56201653,\n",
       "          -2.68923085, -2.94316476, -3.18514761, -3.19301071, -3.28816762,\n",
       "          -3.54322742, -3.73252155, -3.73925678, -3.75387283, -3.75827155,\n",
       "          -3.79068293, -3.78938203, -3.50699363, -3.41271373, -3.31653147,\n",
       "          -3.06150654, -2.64617594, -2.59075908, -2.5869605 , -2.58708207,\n",
       "          -2.71606007, -3.05091051, -3.17462316, -3.32107311, -3.69482039]),\n",
       "   array([0.03211576, 0.05672393, 0.06897547, 0.06981358, 0.149979  ,\n",
       "          0.17614989, 0.23512201, 0.25958434, 0.26081406, 0.30430619,\n",
       "          0.3550175 , 0.43052995, 0.4464629 , 0.60750329, 0.66255241,\n",
       "          0.71966211, 0.8275618 , 0.87295033, 0.91865127, 0.9986859 ,\n",
       "          1.11560337, 1.12663856, 1.14326901, 1.14938285, 1.18207038,\n",
       "          1.19664089, 1.2473639 , 1.32311809, 1.34416262, 1.34811102,\n",
       "          1.49259747, 1.5321485 , 1.62086609, 1.63610128, 1.64782037,\n",
       "          1.84888208, 1.89237535, 1.89918972, 1.90321393, 1.95087041,\n",
       "          1.9863379 , 2.03507545, 2.04929829, 2.12746713, 2.13377424,\n",
       "          2.14571874, 2.17745518, 2.26367989, 2.30829909, 2.33409249,\n",
       "          2.37820642, 2.41116966, 2.41236139, 2.51027231, 2.56060449,\n",
       "          2.584687  , 2.60294454, 2.62725253, 2.64167909, 2.68133858,\n",
       "          2.70095865, 2.70809985, 2.72791849, 2.777314  , 2.92045483,\n",
       "          2.93832027, 2.97522364, 3.04460781, 3.13763386, 3.2165823 ,\n",
       "          3.41217624, 3.61034713, 3.73891271, 3.76786479, 3.83695579,\n",
       "          3.85945315, 3.90362504, 3.9470081 , 3.94847339, 3.96664799,\n",
       "          4.02227694, 4.08160605, 4.08454474, 4.09136828, 4.09356491,\n",
       "          4.19958923, 4.20058289, 4.31009692, 4.33585414, 4.36091554,\n",
       "          4.4269505 , 4.57624808, 4.63264619, 4.65850819, 4.65946733,\n",
       "          4.7681931 , 4.88439892, 4.92000658, 4.96176107, 5.08967809])),\n",
       "  3.819541743927887),\n",
       " ((array([ 4.09833787,  3.52744351,  3.47864204,  3.46670243,  3.18577731,\n",
       "           3.17564653,  3.14238547,  3.14103779,  3.14159578,  3.17021856,\n",
       "           3.24759338,  3.28813091,  3.32037115,  3.4310962 ,  3.9284447 ,\n",
       "           3.97588866,  4.12050961,  4.11993024,  3.87712612,  2.90141079,\n",
       "           2.66166166,  2.25386577,  1.90126938,  1.64225127,  1.31446161,\n",
       "           0.69747947,  0.64176178, -0.05679395, -3.7003448 , -3.73710703,\n",
       "          -3.74953006, -3.75097462, -3.87495114, -4.06199705, -4.06505651,\n",
       "          -4.08307998, -4.0937444 , -4.10889683, -4.10905257, -4.10934689,\n",
       "          -4.10751402, -4.0610273 , -3.95589772, -3.90687136, -3.82638915,\n",
       "          -3.78097263, -3.58199855, -3.38457893, -3.31470101, -2.94004434,\n",
       "          -2.71754254, -2.06841198, -1.75593533, -0.39185691,  1.0056801 ,\n",
       "           1.12390535,  1.63859822,  1.742063  ,  2.36060561,  2.98344665,\n",
       "           3.42497687,  3.66455519,  3.60113395,  3.37400446,  3.30697202,\n",
       "           3.06812032,  1.28212555,  1.27257907,  0.67544544, -0.84129384,\n",
       "          -1.33607975, -2.27088244, -2.37546481, -2.98995229, -3.02191392,\n",
       "          -2.95544517, -2.86511148, -2.51112393, -2.48260633, -2.47364693,\n",
       "          -1.56246548, -0.54739867, -0.253558  , -0.02417328, -0.0092109 ,\n",
       "           0.20403957,  0.21876546,  0.24953535,  0.26968494,  1.03969339,\n",
       "           1.05561962,  1.17027405,  1.21727396,  1.88370583,  1.98597731,\n",
       "           2.12017066,  2.39245822,  2.41306454,  2.43027914,  2.42996723]),\n",
       "   array([ 0.42842546,  2.13003848,  2.20883932,  2.22753135,  2.61356931,\n",
       "           2.62586953,  2.66558346,  2.66717139,  2.66651413,  2.63242016,\n",
       "           2.53634754,  2.48356935,  2.44029856,  2.28199484,  1.24388258,\n",
       "           1.08269616, -0.03636239, -0.07807962, -1.39564131, -2.92604461,\n",
       "          -3.14570801, -3.44963921, -3.65583047, -3.7792767 , -3.90539528,\n",
       "          -4.06121214, -4.07038861, -4.12027864, -1.81311059, -1.73607393,\n",
       "          -1.70907752, -1.70590475, -1.40166875, -0.69289362, -0.67471265,\n",
       "          -0.55531926, -0.47029614, -0.31126917, -0.30920638, -0.30527003,\n",
       "          -0.32901402, -0.69855484, -1.15360082, -1.31006787, -1.52927033,\n",
       "          -1.63834293, -2.03696049, -2.35043552, -2.44799486, -2.88722374,\n",
       "          -3.097561  , -3.56392951, -3.72781608, -4.10199583, -3.99606421,\n",
       "          -3.96443671, -3.78086201, -3.73431897, -3.37749356, -2.8423525 ,\n",
       "          -2.29116893, -1.88439829, -2.00293683, -2.36558989, -2.45842585,\n",
       "          -2.75073796, -3.91613019, -3.9192428 , -4.06493482, -4.03387485,\n",
       "          -3.8980524 , -3.43846107, -3.36705934, -2.83550823, -2.80142069,\n",
       "          -2.87145703, -2.96159718, -3.26713609, -3.28885807, -3.29560199,\n",
       "          -3.81295466, -4.0841494 , -4.11286153, -4.12059914, -4.12065975,\n",
       "          -4.11561532, -4.11485884, -4.11310755, -4.11183556, -3.98734991,\n",
       "          -3.98316317, -3.95099738, -3.93677098, -3.66491118, -3.61051461,\n",
       "          -3.53338336, -3.35500601, -3.34021574, -3.32771166, -3.32793943]),\n",
       "   array([0.08501917, 0.25780991, 0.27177509, 0.27529412, 0.39076764,\n",
       "          0.39875274, 0.44564143, 0.45758635, 0.46475921, 0.51215738,\n",
       "          0.56367735, 0.58293362, 0.59657016, 0.63690769, 0.78519904,\n",
       "          0.8012491 , 0.89340752, 0.89641094, 0.98377954, 1.0847793 ,\n",
       "          1.10154095, 1.1273273 , 1.14773469, 1.16195383, 1.17927501,\n",
       "          1.2105843 , 1.21336135, 1.24800887, 1.52064829, 1.52800925,\n",
       "          1.53062044, 1.53092847, 1.56182553, 1.65484572, 1.65804316,\n",
       "          1.68124639, 1.70122181, 1.7632639 , 1.76490824, 1.76832782,\n",
       "          1.83867359, 1.93950592, 2.00778452, 2.02730829, 2.0527925 ,\n",
       "          2.06486667, 2.10676507, 2.13835784, 2.14811353, 2.19261409,\n",
       "          2.2148998 , 2.27028622, 2.29379091, 2.38617873, 2.47993053,\n",
       "          2.48846282, 2.52787107, 2.53636525, 2.59345549, 2.67163078,\n",
       "          2.76491643, 2.91907066, 3.01262799, 3.10614816, 3.12427864,\n",
       "          3.17591814, 3.38762573, 3.38848604, 3.4406087 , 3.57229302,\n",
       "          3.62066962, 3.73711435, 3.7543532 , 3.93309933, 3.96817022,\n",
       "          4.08061843, 4.12267694, 4.21992213, 4.225881  , 4.22771939,\n",
       "          4.36949499, 4.48772736, 4.51996492, 4.54518061, 4.54683327,\n",
       "          4.57056693, 4.57222107, 4.57568508, 4.57795935, 4.67063148,\n",
       "          4.67272494, 4.68811301, 4.69459696, 4.80481411, 4.82697285,\n",
       "          4.8605333 , 4.97331416, 4.99327061, 5.0297369 , 5.0439581 ])),\n",
       "  4.120670046417876),\n",
       " ((array([-0.52480714, -1.70825469, -2.61195014, -4.17101051, -4.7158983 ,\n",
       "          -4.53067278, -4.14718908, -4.11461586, -3.57806907, -3.22473747,\n",
       "           2.28186862,  2.57474405,  3.79551865,  4.64817043,  4.66239515,\n",
       "           4.56840494,  4.41585975,  4.40250781,  4.35753703,  4.29916832,\n",
       "           4.14507383,  4.00877576,  4.01958992,  4.03853966,  4.59052277,\n",
       "           4.42818481,  3.92750166,  3.87761623,  3.77959696,  3.54946805,\n",
       "          -2.23942035, -2.29803933, -2.51430908, -3.47399336, -3.63406682,\n",
       "          -4.34169508, -4.472359  , -4.54592299, -4.58180775, -4.70545669,\n",
       "          -4.70701031, -4.70492933, -4.69955241, -4.69888358, -4.6965423 ,\n",
       "          -4.66530988, -4.63849955, -4.62792661, -4.61691442, -4.61515273,\n",
       "          -4.61171424, -4.38964593, -2.18719756, -2.18321311, -0.68110891,\n",
       "          -0.17159934,  1.24421853,  1.55342855,  2.25963293,  2.9540716 ,\n",
       "           3.03484705,  3.42502512,  3.5455984 ,  3.73427261,  3.96921005,\n",
       "           4.11927454,  4.14420302,  4.13455158,  4.052356  ,  3.69789979,\n",
       "           3.65724657,  3.4319546 ,  1.73142419,  1.66387132,  1.46394811,\n",
       "          -0.4591367 , -1.58340087, -1.62267475, -2.16840086, -2.20112084,\n",
       "          -2.72930586, -2.79128821, -2.85636529, -2.85999014, -2.93270005,\n",
       "          -3.02537097, -3.10641485, -3.12219633, -3.39830484, -3.40501289,\n",
       "          -3.40459042, -3.40166826, -3.37733832, -3.36909664, -3.29060482,\n",
       "          -3.26148193, -3.20823383, -3.13607381, -2.97548548, -2.70950562]),\n",
       "   array([ 4.71211627,  4.42281904,  3.95691531,  2.2543588 , -0.4896586 ,\n",
       "          -1.39730686, -2.29788709, -2.35571617, -3.11076904, -3.47570577,\n",
       "          -4.15602429, -3.98122536, -2.8413906 , -0.93486577,  0.86112355,\n",
       "           1.26851828,  1.72616481,  1.75993958,  1.86851099,  1.99915334,\n",
       "           2.30170052,  2.53163569,  2.5144302 ,  2.48387997,  1.18598609,\n",
       "          -1.6942968 , -2.65597309, -2.72828786, -2.86253544, -3.14336426,\n",
       "          -4.17904999, -4.14710472, -4.01966568, -3.22658216, -3.04516348,\n",
       "          -1.90503179, -1.57399724, -1.34686544, -1.2192211 , -0.58149774,\n",
       "          -0.56878493, -0.58574937, -0.62743086, -0.63242028, -0.64957888,\n",
       "          -0.84518996, -0.98172514, -1.03041625, -1.07868605, -1.08619869,\n",
       "          -1.10070619, -1.79177871, -4.20661731, -4.20868659, -4.69207342,\n",
       "          -4.73814478, -4.57508279, -4.47954485, -4.16815563, -3.7084934 ,\n",
       "          -3.6426866 , -3.2785157 , -3.14772843, -2.92141581, -2.59322847,\n",
       "          -2.34756035, -2.30326803, -2.32054855, -2.4612747 , -2.96732193,\n",
       "          -3.01728518, -3.27126122, -4.41380024, -4.43970658, -4.50958072,\n",
       "          -4.71896766, -4.46903838, -4.45492862, -4.21633728, -4.19934868,\n",
       "          -3.87689977, -3.83251516, -3.7842621 , -3.78152333, -3.72541712,\n",
       "          -3.65056062, -3.58184995, -3.56810207, -3.30620425, -3.29929531,\n",
       "          -3.29973126, -3.30274361, -3.32761899, -3.33596316, -3.41341211,\n",
       "          -3.44124947, -3.49094515, -3.55591105, -3.69133424, -3.89076363]),\n",
       "   array([0.1076105 , 0.16934843, 0.21982519, 0.32725835, 0.44112067,\n",
       "          0.47499817, 0.50951915, 0.51181563, 0.54347633, 0.56052574,\n",
       "          0.75869608, 0.77098558, 0.83516635, 0.93000325, 1.03974489,\n",
       "          1.07310297, 1.11884864, 1.12273711, 1.13589118, 1.15330976,\n",
       "          1.20436258, 1.26899307, 1.41866564, 1.42981804, 1.62610522,\n",
       "          1.822659  , 1.87827125, 1.88257212, 1.89064424, 1.90800502,\n",
       "          2.19584465, 2.19917605, 2.21187061, 2.28011865, 2.29467801,\n",
       "          2.39023879, 2.42270741, 2.44782668, 2.4634849 , 2.60710276,\n",
       "          2.63014088, 2.65782928, 2.68135086, 2.6834779 , 2.69022651,\n",
       "          2.7416101 , 2.76681224, 2.77481245, 2.78236494, 2.7835102 ,\n",
       "          2.78570038, 2.87044698, 3.10854601, 3.10881335, 3.20111526,\n",
       "          3.23076636, 3.31644626, 3.33694414, 3.38877258, 3.4519329 ,\n",
       "          3.46062405, 3.50952236, 3.52802415, 3.56252302, 3.62375748,\n",
       "          3.70129426, 3.76150048, 3.78449095, 3.84784191, 3.95561072,\n",
       "          3.96394635, 4.00397345, 4.18734505, 4.19295678, 4.20925614,\n",
       "          4.3570438 , 4.45222553, 4.45593972, 4.51248243, 4.51624857,\n",
       "          4.58717965, 4.59734246, 4.6086518 , 4.60930282, 4.62289815,\n",
       "          4.64200277, 4.66091096, 4.66490301, 4.78818429, 4.80083519,\n",
       "          4.83414429, 4.84030666, 4.86826938, 4.87476371, 4.91744477,\n",
       "          4.92922348, 4.94802917, 4.9697683 , 5.0092198 , 5.06035523])),\n",
       "  4.741251134010165),\n",
       " ((array([ 4.59408443,  4.53503285,  3.86818511,  3.72214452,  3.38261426,\n",
       "           3.33746349,  3.27009724,  3.28585406,  3.30235106,  3.41053642,\n",
       "           3.47536558,  4.21516978,  4.3028508 ,  4.40831534,  4.52183238,\n",
       "           4.67767078,  4.87566384,  4.73914738,  1.47676744, -1.07442921,\n",
       "          -1.16659438, -1.9537457 , -3.50455806, -3.7426732 , -4.08443165,\n",
       "          -4.84507016, -4.87221477, -4.87748461, -4.87884908, -4.91012663,\n",
       "          -4.91526247, -4.9209405 , -4.92099904, -4.9206904 , -4.92050152,\n",
       "          -4.9026784 , -4.89070808, -4.67667036, -4.11124506, -3.95584482,\n",
       "          -2.99169329, -2.98138052, -2.83687605, -2.34592666, -2.21355623,\n",
       "          -1.51203282, -0.16955678,  2.20016785,  2.22351359,  3.37551096,\n",
       "           3.67393328,  3.84575275,  3.89343843,  4.27571586,  4.34123424,\n",
       "           4.43822676,  4.45131844,  4.45932369,  4.43248437,  4.40553794,\n",
       "           4.38507652,  3.97258784,  3.70005191,  3.40333766,  2.63237788,\n",
       "           2.61175779,  2.5401743 ,  1.69361699, -0.11566444, -0.56416381,\n",
       "          -1.45127955, -1.68990907, -1.95943238, -2.11832167, -2.60690421,\n",
       "          -2.95789548, -3.1772768 , -3.24806304, -3.33507962, -3.60068871,\n",
       "          -3.69784165, -3.68897954, -3.45928112, -2.95621563, -2.25675194,\n",
       "          -0.87360621, -0.62184682, -0.57245988,  0.02015084,  0.07006661,\n",
       "           0.81863709,  1.29135833,  1.71470553,  2.29698927,  2.52099552,\n",
       "           2.56143199,  2.84409106,  2.86593928,  2.91968169,  2.98105668]),\n",
       "   array([ 1.76461759,  1.91127289,  3.0424712 ,  3.21949176,  3.57455001,\n",
       "           3.61674224,  3.6777644 ,  3.6636935 ,  3.64883056,  3.54791887,\n",
       "           3.48443985,  2.54004541,  2.38850622,  2.18774836,  1.94229734,\n",
       "           1.52934074,  0.66887154, -1.32663829, -4.69453351, -4.80261271,\n",
       "          -4.78106103, -4.51689769, -3.4550774 , -3.1956039 , -2.74534244,\n",
       "          -0.86300758, -0.693549  , -0.65546235, -0.64522758, -0.33187868,\n",
       "          -0.24429864, -0.06189984, -0.05705627, -0.07932799, -0.09028723,\n",
       "          -0.4280555 , -0.5481437 , -1.53239726, -2.7050233 , -2.92758924,\n",
       "          -3.90758982, -3.91546385, -4.02139543, -4.32621256, -4.39541304,\n",
       "          -4.68329411, -4.91840802, -4.40212998, -4.3903843 , -3.58125854,\n",
       "          -3.2744009 , -3.07077723, -3.01008707, -2.43674801, -2.31801041,\n",
       "          -2.12641253, -2.098869  , -2.08180673, -2.13835668, -2.19333591,\n",
       "          -2.23396304, -2.90482923, -3.24485791, -3.55482486, -4.15813344,\n",
       "          -4.17111595, -4.21509211, -4.6207303 , -4.9199704 , -4.88888599,\n",
       "          -4.70247537, -4.62208766, -4.51443371, -4.44209414, -4.17415111,\n",
       "          -3.93323548, -3.75824416, -3.69723863, -3.61894058, -3.35477686,\n",
       "          -3.24737649, -3.25744024, -3.50040871, -3.9344982 , -4.37339201,\n",
       "          -4.84317036, -4.88188422, -4.88792151, -4.92128854, -4.92083099,\n",
       "          -4.85276419, -4.74888204, -4.61294612, -4.35239328, -4.22659066,\n",
       "          -4.20220813, -4.01629594, -4.00073481, -3.96168472, -3.91571042]),\n",
       "   array([4.31207020e-03, 1.54793587e-02, 1.35367293e-01, 1.65256788e-01,\n",
       "          2.58520233e-01, 2.77786212e-01, 3.19979785e-01, 4.23891995e-01,\n",
       "          4.34992336e-01, 4.84984430e-01, 5.07108514e-01, 6.73734935e-01,\n",
       "          6.90565949e-01, 7.11023916e-01, 7.33792663e-01, 7.67858360e-01,\n",
       "          8.27530676e-01, 9.38202758e-01, 1.14850234e+00, 1.25321998e+00,\n",
       "          1.25718661e+00, 1.29276297e+00, 1.38159443e+00, 1.40008658e+00,\n",
       "          1.43171495e+00, 1.58670131e+00, 1.60657104e+00, 1.61138130e+00,\n",
       "          1.61269936e+00, 1.66068632e+00, 1.67863638e+00, 1.74320601e+00,\n",
       "          1.78947012e+00, 1.80544123e+00, 1.81117509e+00, 1.89546692e+00,\n",
       "          1.91441255e+00, 2.02447842e+00, 2.12228649e+00, 2.13993642e+00,\n",
       "          2.22207087e+00, 2.22280019e+00, 2.23281197e+00, 2.26446638e+00,\n",
       "          2.27251144e+00, 2.31282789e+00, 2.38469579e+00, 2.52223303e+00,\n",
       "          2.52384564e+00, 2.62097423e+00, 2.65660587e+00, 2.68140781e+00,\n",
       "          2.68909657e+00, 2.77603970e+00, 2.80101095e+00, 2.86268015e+00,\n",
       "          2.88065474e+00, 2.90784431e+00, 2.96365751e+00, 2.98565053e+00,\n",
       "          2.99860313e+00, 3.12477502e+00, 3.17127716e+00, 3.21127036e+00,\n",
       "          3.29092095e+00, 3.29276486e+00, 3.29908566e+00, 3.36686335e+00,\n",
       "          3.49392145e+00, 3.52558252e+00, 3.59276572e+00, 3.61260216e+00,\n",
       "          3.63640320e+00, 3.65130940e+00, 3.70298954e+00, 3.74872722e+00,\n",
       "          3.78392883e+00, 3.79702233e+00, 3.81478727e+00, 3.89186722e+00,\n",
       "          4.01438858e+00, 4.02525638e+00, 4.12917028e+00, 4.23192767e+00,\n",
       "          4.32458107e+00, 4.46152789e+00, 4.48414097e+00, 4.48855128e+00,\n",
       "          4.54142212e+00, 4.54591073e+00, 4.61554054e+00, 4.66362212e+00,\n",
       "          4.71180153e+00, 4.79360335e+00, 4.83474047e+00, 4.84321958e+00,\n",
       "          4.92123928e+00, 4.92995904e+00, 4.95587569e+00, 5.04429092e+00])),\n",
       "  4.921329798645182)]"
      ]
     },
     "execution_count": 19,
     "metadata": {},
     "output_type": "execute_result"
    }
   ],
   "source": [
    "ds"
   ]
  },
  {
   "cell_type": "code",
   "execution_count": null,
   "metadata": {},
   "outputs": [],
   "source": []
  }
 ],
 "metadata": {
  "kernelspec": {
   "display_name": "Python 3",
   "language": "python",
   "name": "python3"
  },
  "language_info": {
   "codemirror_mode": {
    "name": "ipython",
    "version": 3
   },
   "file_extension": ".py",
   "mimetype": "text/x-python",
   "name": "python",
   "nbconvert_exporter": "python",
   "pygments_lexer": "ipython3",
   "version": "3.10.12"
  }
 },
 "nbformat": 4,
 "nbformat_minor": 2
}
