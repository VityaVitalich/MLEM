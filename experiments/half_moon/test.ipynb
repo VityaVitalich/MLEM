{
 "cells": [
  {
   "cell_type": "code",
   "execution_count": 1,
   "metadata": {},
   "outputs": [],
   "source": [
    "import matplotlib.pyplot as plt\n",
    "from sklearn import datasets\n",
    "import pandas as pd\n",
    "import torch\n",
    "from tqdm import tqdm\n",
    "import sys\n",
    "from sklearn.metrics import roc_auc_score\n",
    "\n",
    "sys.path.append('../../')\n",
    "\n",
    "from configs.data_configs.half_moon import data_configs\n",
    "from configs.model_configs.mTAN.half_moon import model_configs\n",
    "\n",
    "from src.data_load.dataloader import create_data_loaders\n",
    "\n",
    "from src.create_embeddings import create_embeddings\n",
    "\n",
    "from src.data_load import split_strategy\n",
    "from src.data_load.data_utils import prepare_data\n",
    "from src.data_load.splitting_dataset import (\n",
    "    ConvertingTrxDataset,  # TargetDataset\n",
    "    DropoutTrxDataset,\n",
    "    SplittingDataset,\n",
    "    TargetEnumeratorDataset,\n",
    ")\n",
    "from src.data_load.dataloader import collate_splitted_rows, padded_collate\n",
    "from torch.utils.data import DataLoader"
   ]
  },
  {
   "cell_type": "code",
   "execution_count": 2,
   "metadata": {},
   "outputs": [],
   "source": [
    "conf = data_configs()\n",
    "model_conf = model_configs()"
   ]
  },
  {
   "cell_type": "code",
   "execution_count": 3,
   "metadata": {},
   "outputs": [
    {
     "name": "stderr",
     "output_type": "stream",
     "text": [
      "0it [00:00, ?it/s]"
     ]
    },
    {
     "name": "stderr",
     "output_type": "stream",
     "text": [
      "1000it [00:00, 9989.39it/s]\n"
     ]
    }
   ],
   "source": [
    "train_loader, valid_loader = create_data_loaders(conf)"
   ]
  },
  {
   "cell_type": "code",
   "execution_count": 4,
   "metadata": {},
   "outputs": [],
   "source": [
    "for batch in train_loader:\n",
    "    i = 1"
   ]
  },
  {
   "cell_type": "code",
   "execution_count": 5,
   "metadata": {},
   "outputs": [
    {
     "data": {
      "text/plain": [
       "tensor([[768, 769, 770, 771, 772, 773, 774, 775, 776, 777, 778, 779, 780, 781,\n",
       "         782, 783, 784, 785, 786, 787, 788, 789, 790, 791, 792, 793, 794, 795,\n",
       "         796, 797, 798, 799],\n",
       "        [  0,   1,   1,   1,   1,   0,   1,   0,   0,   0,   0,   0,   1,   0,\n",
       "           0,   0,   0,   1,   1,   1,   0,   0,   1,   0,   0,   1,   0,   0,\n",
       "           1,   1,   1,   0]])"
      ]
     },
     "execution_count": 5,
     "metadata": {},
     "output_type": "execute_result"
    }
   ],
   "source": [
    "batch[1]"
   ]
  },
  {
   "cell_type": "code",
   "execution_count": 6,
   "metadata": {},
   "outputs": [],
   "source": [
    "df = pd.read_parquet(conf.train_path)"
   ]
  },
  {
   "cell_type": "code",
   "execution_count": 7,
   "metadata": {},
   "outputs": [
    {
     "data": {
      "text/html": [
       "<div>\n",
       "<style scoped>\n",
       "    .dataframe tbody tr th:only-of-type {\n",
       "        vertical-align: middle;\n",
       "    }\n",
       "\n",
       "    .dataframe tbody tr th {\n",
       "        vertical-align: top;\n",
       "    }\n",
       "\n",
       "    .dataframe thead th {\n",
       "        text-align: right;\n",
       "    }\n",
       "</style>\n",
       "<table border=\"1\" class=\"dataframe\">\n",
       "  <thead>\n",
       "    <tr style=\"text-align: right;\">\n",
       "      <th></th>\n",
       "      <th>0</th>\n",
       "      <th>1</th>\n",
       "      <th>target</th>\n",
       "      <th>col_id</th>\n",
       "      <th>event_time</th>\n",
       "    </tr>\n",
       "  </thead>\n",
       "  <tbody>\n",
       "    <tr>\n",
       "      <th>768</th>\n",
       "      <td>[1.1323505286983444]</td>\n",
       "      <td>[-0.5569506505071553]</td>\n",
       "      <td>1</td>\n",
       "      <td>768</td>\n",
       "      <td>[1]</td>\n",
       "    </tr>\n",
       "    <tr>\n",
       "      <th>769</th>\n",
       "      <td>[-0.8951575043921682]</td>\n",
       "      <td>[0.07943485996396277]</td>\n",
       "      <td>0</td>\n",
       "      <td>769</td>\n",
       "      <td>[1]</td>\n",
       "    </tr>\n",
       "    <tr>\n",
       "      <th>770</th>\n",
       "      <td>[-0.03379252310783656]</td>\n",
       "      <td>[0.49145316657422844]</td>\n",
       "      <td>1</td>\n",
       "      <td>770</td>\n",
       "      <td>[1]</td>\n",
       "    </tr>\n",
       "    <tr>\n",
       "      <th>771</th>\n",
       "      <td>[1.2242626709718585]</td>\n",
       "      <td>[-0.5049260467283473]</td>\n",
       "      <td>1</td>\n",
       "      <td>771</td>\n",
       "      <td>[1]</td>\n",
       "    </tr>\n",
       "    <tr>\n",
       "      <th>772</th>\n",
       "      <td>[1.1906132413037187]</td>\n",
       "      <td>[-0.5000881720817466]</td>\n",
       "      <td>1</td>\n",
       "      <td>772</td>\n",
       "      <td>[1]</td>\n",
       "    </tr>\n",
       "    <tr>\n",
       "      <th>773</th>\n",
       "      <td>[1.0610098980627942]</td>\n",
       "      <td>[0.5023663749002694]</td>\n",
       "      <td>0</td>\n",
       "      <td>773</td>\n",
       "      <td>[1]</td>\n",
       "    </tr>\n",
       "    <tr>\n",
       "      <th>774</th>\n",
       "      <td>[-0.9626620445666096]</td>\n",
       "      <td>[0.045293614301643595]</td>\n",
       "      <td>0</td>\n",
       "      <td>774</td>\n",
       "      <td>[1]</td>\n",
       "    </tr>\n",
       "    <tr>\n",
       "      <th>775</th>\n",
       "      <td>[1.6918435590772827]</td>\n",
       "      <td>[-0.2484266824587354]</td>\n",
       "      <td>1</td>\n",
       "      <td>775</td>\n",
       "      <td>[1]</td>\n",
       "    </tr>\n",
       "  </tbody>\n",
       "</table>\n",
       "</div>"
      ],
      "text/plain": [
       "                          0                       1  target  col_id event_time\n",
       "768    [1.1323505286983444]   [-0.5569506505071553]       1     768        [1]\n",
       "769   [-0.8951575043921682]   [0.07943485996396277]       0     769        [1]\n",
       "770  [-0.03379252310783656]   [0.49145316657422844]       1     770        [1]\n",
       "771    [1.2242626709718585]   [-0.5049260467283473]       1     771        [1]\n",
       "772    [1.1906132413037187]   [-0.5000881720817466]       1     772        [1]\n",
       "773    [1.0610098980627942]    [0.5023663749002694]       0     773        [1]\n",
       "774   [-0.9626620445666096]  [0.045293614301643595]       0     774        [1]\n",
       "775    [1.6918435590772827]   [-0.2484266824587354]       1     775        [1]"
      ]
     },
     "execution_count": 7,
     "metadata": {},
     "output_type": "execute_result"
    }
   ],
   "source": [
    "df.loc[768:775]"
   ]
  },
  {
   "cell_type": "code",
   "execution_count": 48,
   "metadata": {},
   "outputs": [],
   "source": [
    "class SplittingDataset(torch.utils.data.Dataset):\n",
    "    def __init__(self, base_dataset, splitter, target_col=None):\n",
    "        self.base_dataset = base_dataset\n",
    "        self.splitter = splitter\n",
    "        self.target_col = target_col\n",
    "\n",
    "    def __len__(self):\n",
    "        return len(self.base_dataset)\n",
    "\n",
    "    def __getitem__(self, idx):\n",
    "        row = self.base_dataset[idx]\n",
    "\n",
    "        feature_arrays = row[\"feature_arrays\"]\n",
    "        local_date = row[\"event_time\"]\n",
    "\n",
    "        indexes = self.splitter.split(local_date)\n",
    "        data = [{k: v[ix] for k, v in feature_arrays.items()} for ix in indexes]\n",
    "\n",
    "        print(row)\n",
    "        if self.target_col:\n",
    "            target = row[self.target_col]\n",
    "            target = int(target)\n",
    "            return data, target\n",
    "        return data\n",
    "\n",
    "class TargetEnumeratorDataset(torch.utils.data.Dataset):\n",
    "    def __init__(self, base_dataset):\n",
    "        self.base_dataset = base_dataset\n",
    "\n",
    "    def __len__(self):\n",
    "        return len(self.base_dataset)\n",
    "\n",
    "    def __getitem__(self, idx):     \n",
    "        row, target = self.base_dataset[idx]\n",
    "        data = [(x, (idx, target)) for x in row]\n",
    "        return data"
   ]
  },
  {
   "cell_type": "code",
   "execution_count": 49,
   "metadata": {},
   "outputs": [
    {
     "name": "stderr",
     "output_type": "stream",
     "text": [
      "0it [00:00, ?it/s]"
     ]
    },
    {
     "name": "stderr",
     "output_type": "stream",
     "text": [
      "1000it [00:00, 17037.97it/s]\n"
     ]
    }
   ],
   "source": [
    "train_data, valid_data = prepare_data(conf)\n"
   ]
  },
  {
   "cell_type": "code",
   "execution_count": 50,
   "metadata": {},
   "outputs": [],
   "source": [
    "train_dataset = SplittingDataset(\n",
    "    train_data,\n",
    "    split_strategy.create(**conf.train.split_strategy),\n",
    "    conf.features.target_col,\n",
    ")\n",
    "#train_dataset = TargetEnumeratorDataset(train_dataset)"
   ]
  },
  {
   "cell_type": "code",
   "execution_count": 55,
   "metadata": {},
   "outputs": [
    {
     "name": "stdout",
     "output_type": "stream",
     "text": [
      "{'0': array([1.27062626]), '1': array([-0.55024795]), 'target': 1, 'col_id': 6, 'event_time': array([1.]), 'feature_arrays': {'0': array([1.27062626]), '1': array([-0.55024795]), 'event_time': array([1.])}}\n"
     ]
    },
    {
     "data": {
      "text/plain": [
       "([{'0': array([1.27062626]),\n",
       "   '1': array([-0.55024795]),\n",
       "   'event_time': array([1.])}],\n",
       " 1)"
      ]
     },
     "execution_count": 55,
     "metadata": {},
     "output_type": "execute_result"
    }
   ],
   "source": [
    "train_dataset[5]"
   ]
  },
  {
   "cell_type": "code",
   "execution_count": 41,
   "metadata": {},
   "outputs": [],
   "source": [
    "for i in range(600):\n",
    "    target = train_data[i]['target']\n",
    "    col_id = train_data[i]['col_id']\n",
    "\n",
    "    if df['target'][col_id] != target:\n",
    "        print(i)"
   ]
  },
  {
   "cell_type": "code",
   "execution_count": 36,
   "metadata": {},
   "outputs": [
    {
     "name": "stderr",
     "output_type": "stream",
     "text": [
      "1000it [00:00, 24586.47it/s]\n"
     ]
    }
   ],
   "source": [
    "\n",
    "#train_dataset = TargetEnumeratorDataset(train_dataset)\n",
    "# train_dataset = TargetDataset(train_dataset)\n",
    "# train_dataset = ConvertingTrxDataset(train_dataset)\n",
    "# # не уверен что нам нужна история с дропаутом точек.\n",
    "# # Но это выглядит неплохой аугментацией в целом\n",
    "# train_dataset = DropoutTrxDataset(\n",
    "#     train_dataset, trx_dropout=conf.train.dropout, seq_len=conf.train.max_seq_len\n",
    "# )"
   ]
  },
  {
   "cell_type": "code",
   "execution_count": 37,
   "metadata": {},
   "outputs": [
    {
     "data": {
      "text/plain": [
       "([{'0': array([-0.09861158]),\n",
       "   '1': array([0.34683059]),\n",
       "   'event_time': array([1.])}],\n",
       " 1)"
      ]
     },
     "execution_count": 37,
     "metadata": {},
     "output_type": "execute_result"
    }
   ],
   "source": [
    "train_dataset[4]"
   ]
  },
  {
   "cell_type": "code",
   "execution_count": 27,
   "metadata": {},
   "outputs": [
    {
     "data": {
      "text/html": [
       "<div>\n",
       "<style scoped>\n",
       "    .dataframe tbody tr th:only-of-type {\n",
       "        vertical-align: middle;\n",
       "    }\n",
       "\n",
       "    .dataframe tbody tr th {\n",
       "        vertical-align: top;\n",
       "    }\n",
       "\n",
       "    .dataframe thead th {\n",
       "        text-align: right;\n",
       "    }\n",
       "</style>\n",
       "<table border=\"1\" class=\"dataframe\">\n",
       "  <thead>\n",
       "    <tr style=\"text-align: right;\">\n",
       "      <th></th>\n",
       "      <th>0</th>\n",
       "      <th>1</th>\n",
       "      <th>target</th>\n",
       "      <th>col_id</th>\n",
       "      <th>event_time</th>\n",
       "    </tr>\n",
       "  </thead>\n",
       "  <tbody>\n",
       "    <tr>\n",
       "      <th>0</th>\n",
       "      <td>[1.2564677227403043]</td>\n",
       "      <td>[-0.4982349528896482]</td>\n",
       "      <td>1</td>\n",
       "      <td>0</td>\n",
       "      <td>[1]</td>\n",
       "    </tr>\n",
       "    <tr>\n",
       "      <th>1</th>\n",
       "      <td>[0.2913081239664366]</td>\n",
       "      <td>[0.9861441999721128]</td>\n",
       "      <td>0</td>\n",
       "      <td>1</td>\n",
       "      <td>[1]</td>\n",
       "    </tr>\n",
       "    <tr>\n",
       "      <th>2</th>\n",
       "      <td>[1.4242511091006964]</td>\n",
       "      <td>[-0.4444525168552565]</td>\n",
       "      <td>1</td>\n",
       "      <td>2</td>\n",
       "      <td>[1]</td>\n",
       "    </tr>\n",
       "    <tr>\n",
       "      <th>3</th>\n",
       "      <td>[0.01100900607838072]</td>\n",
       "      <td>[0.979563567713171]</td>\n",
       "      <td>0</td>\n",
       "      <td>3</td>\n",
       "      <td>[1]</td>\n",
       "    </tr>\n",
       "    <tr>\n",
       "      <th>4</th>\n",
       "      <td>[-0.9786544584194089]</td>\n",
       "      <td>[0.10826022769732699]</td>\n",
       "      <td>0</td>\n",
       "      <td>4</td>\n",
       "      <td>[1]</td>\n",
       "    </tr>\n",
       "    <tr>\n",
       "      <th>5</th>\n",
       "      <td>[-0.09861157901609519]</td>\n",
       "      <td>[0.3468305853548797]</td>\n",
       "      <td>1</td>\n",
       "      <td>5</td>\n",
       "      <td>[1]</td>\n",
       "    </tr>\n",
       "    <tr>\n",
       "      <th>6</th>\n",
       "      <td>[1.270626262075704]</td>\n",
       "      <td>[-0.5502479499553864]</td>\n",
       "      <td>1</td>\n",
       "      <td>6</td>\n",
       "      <td>[1]</td>\n",
       "    </tr>\n",
       "    <tr>\n",
       "      <th>7</th>\n",
       "      <td>[0.9225525798753054]</td>\n",
       "      <td>[0.42749663565337603]</td>\n",
       "      <td>0</td>\n",
       "      <td>7</td>\n",
       "      <td>[1]</td>\n",
       "    </tr>\n",
       "    <tr>\n",
       "      <th>8</th>\n",
       "      <td>[2.0702555839541024]</td>\n",
       "      <td>[0.09803369024303199]</td>\n",
       "      <td>1</td>\n",
       "      <td>8</td>\n",
       "      <td>[1]</td>\n",
       "    </tr>\n",
       "    <tr>\n",
       "      <th>9</th>\n",
       "      <td>[-1.0591006990827934]</td>\n",
       "      <td>[0.5836934015362807]</td>\n",
       "      <td>0</td>\n",
       "      <td>9</td>\n",
       "      <td>[1]</td>\n",
       "    </tr>\n",
       "    <tr>\n",
       "      <th>10</th>\n",
       "      <td>[0.6091446897719354]</td>\n",
       "      <td>[0.5081905183763832]</td>\n",
       "      <td>0</td>\n",
       "      <td>10</td>\n",
       "      <td>[1]</td>\n",
       "    </tr>\n",
       "  </tbody>\n",
       "</table>\n",
       "</div>"
      ],
      "text/plain": [
       "                         0                      1  target  col_id event_time\n",
       "0     [1.2564677227403043]  [-0.4982349528896482]       1       0        [1]\n",
       "1     [0.2913081239664366]   [0.9861441999721128]       0       1        [1]\n",
       "2     [1.4242511091006964]  [-0.4444525168552565]       1       2        [1]\n",
       "3    [0.01100900607838072]    [0.979563567713171]       0       3        [1]\n",
       "4    [-0.9786544584194089]  [0.10826022769732699]       0       4        [1]\n",
       "5   [-0.09861157901609519]   [0.3468305853548797]       1       5        [1]\n",
       "6      [1.270626262075704]  [-0.5502479499553864]       1       6        [1]\n",
       "7     [0.9225525798753054]  [0.42749663565337603]       0       7        [1]\n",
       "8     [2.0702555839541024]  [0.09803369024303199]       1       8        [1]\n",
       "9    [-1.0591006990827934]   [0.5836934015362807]       0       9        [1]\n",
       "10    [0.6091446897719354]   [0.5081905183763832]       0      10        [1]"
      ]
     },
     "execution_count": 27,
     "metadata": {},
     "output_type": "execute_result"
    }
   ],
   "source": [
    "df.loc[:10]"
   ]
  },
  {
   "cell_type": "code",
   "execution_count": 2,
   "metadata": {},
   "outputs": [
    {
     "data": {
      "image/png": "[encoded data removed]",
      "text/plain": [
       "<Figure size 640x480 with 1 Axes>"
      ]
     },
     "metadata": {},
     "output_type": "display_data"
    }
   ],
   "source": [
    "# CREATE DATA\n",
    "\n",
    "# n_samples = 1000  # number of samples to generate\n",
    "# noise = 0.1  # noise to add to sample locations\n",
    "# x, y = datasets.make_moons(n_samples=n_samples, noise=noise)\n",
    "\n",
    "# plt.scatter(*x.T, c=y, cmap=plt.cm.Accent)\n",
    "# plt.title(\"Generated half moons data\");\n",
    "\n",
    "# df = pd.DataFrame(x)\n",
    "\n",
    "# df['target'] = y\n",
    "# df['col_id'] = df.index\n",
    "# df['event_time'] = 1\n",
    "\n",
    "# df[0] = df[0].apply(lambda x: [x])\n",
    "# df[1] = df[1].apply(lambda x: [x])\n",
    "# df['event_time'] = df['event_time'].apply(lambda x: [x])\n",
    "\n",
    "# df.to_parquet('data/train_trx.parquet')"
   ]
  },
  {
   "cell_type": "code",
   "execution_count": 27,
   "metadata": {},
   "outputs": [],
   "source": [
    "# MODELING Gives accuracy 1\n",
    "# def model_factory():\n",
    "#     return torch.nn.Sequential(\n",
    "#         torch.nn.Linear(2, 10),\n",
    "#         torch.nn.ReLU(),\n",
    "#         torch.nn.Linear(10, 10),\n",
    "#         torch.nn.ReLU(),\n",
    "#         torch.nn.Linear(10, 2)\n",
    "#     )\n",
    "\n",
    "# device = torch.device('cpu')\n",
    "\n",
    "# bl = model_factory().to(device)\n",
    "# bl_opt = torch.optim.SGD(bl.parameters(), lr=0.1, momentum=0.9)\n",
    "# xEnt = torch.nn.CrossEntropyLoss(ignore_index=-1).to(device)\n",
    "# x_train, y_train = x[:800], y[:800]\n",
    "# x_test, y_test = x[800:], y[800:]\n",
    "\n",
    "# n_epochs = 500\n",
    "# xt, yt = torch.Tensor(x_train).to(device), torch.LongTensor(y_train).to(device)\n",
    "# for epoch in tqdm(range(n_epochs)):\n",
    "#     # Standard forward/backward pass for training baseline\n",
    "#     out = bl(xt)\n",
    "#     loss = xEnt(out, yt)  # ignores the unlabeled data (-1)\n",
    "#     bl_opt.zero_grad()\n",
    "#     loss.backward()\n",
    "#     bl_opt.step()\n",
    "\n",
    "# bl.eval()\n",
    "# bl_pred = bl(torch.Tensor(x_test))\n",
    "# y_pred = bl_pred.argmax(dim=1)\n",
    "# print(\"bl accuracy:\", roc_auc_score(torch.LongTensor(y_test), y_pred))\n"
   ]
  },
  {
   "cell_type": "code",
   "execution_count": 39,
   "metadata": {},
   "outputs": [],
   "source": []
  },
  {
   "cell_type": "code",
   "execution_count": 40,
   "metadata": {},
   "outputs": [],
   "source": []
  },
  {
   "cell_type": "code",
   "execution_count": 41,
   "metadata": {},
   "outputs": [],
   "source": []
  },
  {
   "cell_type": "code",
   "execution_count": 42,
   "metadata": {},
   "outputs": [
    {
     "name": "stderr",
     "output_type": "stream",
     "text": [
      "100%|██████████| 500/500 [00:25<00:00, 19.95it/s]\n"
     ]
    }
   ],
   "source": []
  },
  {
   "cell_type": "code",
   "execution_count": 44,
   "metadata": {},
   "outputs": [],
   "source": []
  },
  {
   "cell_type": "code",
   "execution_count": 47,
   "metadata": {},
   "outputs": [],
   "source": []
  },
  {
   "cell_type": "code",
   "execution_count": 48,
   "metadata": {},
   "outputs": [
    {
     "name": "stdout",
     "output_type": "stream",
     "text": [
      "bl accuracy: 1.0\n"
     ]
    }
   ],
   "source": []
  },
  {
   "cell_type": "code",
   "execution_count": 55,
   "metadata": {},
   "outputs": [
    {
     "data": {
      "text/plain": [
       "array([0, 0, 0, 0, 0, 0, 0, 0, 0, 0, 0, 0, 0, 0, 0, 0, 0, 0, 0, 0, 0, 0,\n",
       "       0, 0, 0, 0, 0, 0, 0, 0, 0, 0, 0, 0, 0, 0, 0, 0, 0, 0, 0, 0, 0, 0,\n",
       "       0, 0, 0, 0, 0, 0, 0, 0, 0, 0, 0, 0, 0, 0, 0, 0, 0, 0, 0, 0, 0, 0,\n",
       "       0, 0, 0, 0, 0, 0, 0, 0, 0, 0, 0, 0, 0, 0, 0, 0, 0, 0, 0, 0, 0, 0,\n",
       "       0, 0, 0, 0, 0, 0, 0, 0, 0, 0, 0, 0, 0, 0, 0, 0, 0, 0, 0, 0, 0, 0,\n",
       "       0, 0, 0, 0, 0, 0, 0, 0, 0, 0, 0, 0, 0, 0, 0, 0, 0, 0, 0, 0, 0, 0,\n",
       "       0, 0, 0, 0, 0, 0, 0, 0, 0, 0, 0, 0, 0, 0, 0, 0, 0, 0, 0, 0, 0, 0,\n",
       "       0, 0, 0, 0, 0, 0, 0, 0, 0, 0, 0, 0, 0, 0, 0, 0, 0, 0, 0, 0, 0, 0,\n",
       "       0, 0, 0, 0, 0, 0, 0, 0, 0, 0, 0, 0, 0, 0, 0, 0, 0, 0, 0, 0, 0, 0,\n",
       "       0, 0])"
      ]
     },
     "execution_count": 55,
     "metadata": {},
     "output_type": "execute_result"
    }
   ],
   "source": [
    "y_test-y_pred.numpy()"
   ]
  },
  {
   "cell_type": "code",
   "execution_count": null,
   "metadata": {},
   "outputs": [],
   "source": []
  }
 ],
 "metadata": {
  "kernelspec": {
   "display_name": "Python 3",
   "language": "python",
   "name": "python3"
  },
  "language_info": {
   "codemirror_mode": {
    "name": "ipython",
    "version": 3
   },
   "file_extension": ".py",
   "mimetype": "text/x-python",
   "name": "python",
   "nbconvert_exporter": "python",
   "pygments_lexer": "ipython3",
   "version": "3.10.12"
  },
  "orig_nbformat": 4
 },
 "nbformat": 4,
 "nbformat_minor": 2
}
