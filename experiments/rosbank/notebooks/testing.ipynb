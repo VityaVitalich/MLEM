{
 "cells": [
  {
   "cell_type": "code",
   "execution_count": 1,
   "metadata": {},
   "outputs": [],
   "source": [
    "import pandas as pd\n",
    "import numpy as np\n",
    "from tqdm import tqdm\n",
    "import pyarrow.parquet as pq\n",
    "import sys\n",
    "import torch\n",
    "import random\n",
    "import torch.nn as nn\n",
    "import torch.nn.functional as F\n",
    "import math\n",
    "from IPython.display import clear_output\n",
    "\n",
    "import matplotlib.pyplot as plt\n",
    "\n",
    "sys.path.append('../../../')\n",
    "from configs.data_configs.rosbank import data_configs\n",
    "from configs.model_configs.mTAN.rosbank import model_configs\n",
    "from src.data_load.dataloader import create_data_loaders\n",
    "from src.models.mTAND.model import MegaNet"
   ]
  },
  {
   "cell_type": "code",
   "execution_count": 2,
   "metadata": {},
   "outputs": [],
   "source": [
    "conf = data_configs()\n",
    "model_conf = model_configs()"
   ]
  },
  {
   "cell_type": "code",
   "execution_count": 3,
   "metadata": {},
   "outputs": [
    {
     "data": {
      "text/html": [
       "<div>\n",
       "<style scoped>\n",
       "    .dataframe tbody tr th:only-of-type {\n",
       "        vertical-align: middle;\n",
       "    }\n",
       "\n",
       "    .dataframe tbody tr th {\n",
       "        vertical-align: top;\n",
       "    }\n",
       "\n",
       "    .dataframe thead th {\n",
       "        text-align: right;\n",
       "    }\n",
       "</style>\n",
       "<table border=\"1\" class=\"dataframe\">\n",
       "  <thead>\n",
       "    <tr style=\"text-align: right;\">\n",
       "      <th></th>\n",
       "      <th>cl_id</th>\n",
       "      <th>amount</th>\n",
       "      <th>event_time</th>\n",
       "      <th>mcc</th>\n",
       "      <th>channel_type</th>\n",
       "      <th>currency</th>\n",
       "      <th>trx_category</th>\n",
       "      <th>trx_count</th>\n",
       "      <th>target_target_flag</th>\n",
       "      <th>target_target_sum</th>\n",
       "    </tr>\n",
       "  </thead>\n",
       "  <tbody>\n",
       "    <tr>\n",
       "      <th>0</th>\n",
       "      <td>10018</td>\n",
       "      <td>[10.609081944147828, 10.596659732783579, 10.81...</td>\n",
       "      <td>[17120.38773148148, 17133.667800925927, 17134....</td>\n",
       "      <td>[13, 2, 13, 2, 1, 18, 13, 2, 13, 2, 5, 13, 9, ...</td>\n",
       "      <td>[1, 1, 1, 1, 1, 1, 1, 1, 1, 1, 1, 1, 1, 1, 1]</td>\n",
       "      <td>[1, 1, 1, 1, 1, 1, 1, 1, 1, 1, 1, 1, 1, 1, 1]</td>\n",
       "      <td>[5, 3, 5, 3, 1, 1, 5, 3, 5, 3, 1, 5, 5, 5, 5]</td>\n",
       "      <td>15</td>\n",
       "      <td>0</td>\n",
       "      <td>0.0</td>\n",
       "    </tr>\n",
       "    <tr>\n",
       "      <th>1</th>\n",
       "      <td>10030</td>\n",
       "      <td>[4.61512051684126, 6.90875477931522, 10.598857...</td>\n",
       "      <td>[17141.0, 17141.0, 17145.0, 17147.0, 17147.0, ...</td>\n",
       "      <td>[9, 9, 21, 1, 25, 6, 14, 14, 3, 3, 3, 13, 1, 3...</td>\n",
       "      <td>[1, 1, 1, 1, 1, 1, 1, 1, 1, 1, 1, 1, 1, 1, 1, ...</td>\n",
       "      <td>[1, 1, 1, 1, 1, 1, 1, 1, 1, 1, 1, 1, 1, 1, 1, ...</td>\n",
       "      <td>[5, 5, 1, 1, 1, 1, 1, 1, 1, 1, 1, 7, 1, 1, 3, ...</td>\n",
       "      <td>42</td>\n",
       "      <td>1</td>\n",
       "      <td>59.51</td>\n",
       "    </tr>\n",
       "    <tr>\n",
       "      <th>2</th>\n",
       "      <td>10038</td>\n",
       "      <td>[7.4127640174265625, 7.370230641807081, 7.8180...</td>\n",
       "      <td>[17301.0, 17301.0, 17301.0, 17301.774780092594...</td>\n",
       "      <td>[1, 1, 1, 2, 2, 4, 2, 8, 1, 22, 8, 1, 8, 4, 2,...</td>\n",
       "      <td>[1, 1, 1, 1, 1, 1, 1, 1, 1, 1, 1, 1, 1, 1, 1, ...</td>\n",
       "      <td>[1, 1, 1, 1, 1, 1, 1, 1, 1, 1, 1, 1, 1, 1, 1, ...</td>\n",
       "      <td>[1, 1, 1, 2, 2, 1, 3, 1, 1, 1, 1, 1, 1, 1, 2, ...</td>\n",
       "      <td>111</td>\n",
       "      <td>0</td>\n",
       "      <td>0.0</td>\n",
       "    </tr>\n",
       "    <tr>\n",
       "      <th>3</th>\n",
       "      <td>10057</td>\n",
       "      <td>[7.494708263135679, 7.736394428979239, 10.7789...</td>\n",
       "      <td>[17151.0, 17151.0, 17153.0, 17154.0, 17155.0, ...</td>\n",
       "      <td>[6, 21, 2, 6, 2, 4, 2, 22, 15, 2, 1, 35, 4, 2,...</td>\n",
       "      <td>[1, 1, 1, 1, 1, 1, 1, 1, 1, 1, 1, 1, 1, 1, 1, ...</td>\n",
       "      <td>[1, 1, 1, 1, 1, 1, 1, 1, 1, 1, 1, 1, 1, 1, 1, ...</td>\n",
       "      <td>[1, 1, 4, 1, 4, 1, 3, 1, 1, 3, 1, 1, 1, 4, 1, ...</td>\n",
       "      <td>61</td>\n",
       "      <td>1</td>\n",
       "      <td>62961.31</td>\n",
       "    </tr>\n",
       "    <tr>\n",
       "      <th>4</th>\n",
       "      <td>10062</td>\n",
       "      <td>[8.31898612539206, 8.824824939175638, 6.509067...</td>\n",
       "      <td>[17143.0, 17143.0, 17143.0, 17144.0, 17144.0, ...</td>\n",
       "      <td>[80, 15, 37, 38, 11, 11, 2, 24, 7, 5, 5, 11, 1...</td>\n",
       "      <td>[1, 1, 1, 1, 1, 1, 1, 1, 1, 1, 1, 1, 1, 1, 1, ...</td>\n",
       "      <td>[1, 1, 1, 1, 1, 1, 1, 1, 1, 1, 1, 1, 1, 1, 1, ...</td>\n",
       "      <td>[1, 1, 1, 1, 1, 1, 3, 1, 1, 1, 1, 1, 1, 1, 1, ...</td>\n",
       "      <td>82</td>\n",
       "      <td>1</td>\n",
       "      <td>107126.35</td>\n",
       "    </tr>\n",
       "  </tbody>\n",
       "</table>\n",
       "</div>"
      ],
      "text/plain": [
       "   cl_id                                             amount  \\\n",
       "0  10018  [10.609081944147828, 10.596659732783579, 10.81...   \n",
       "1  10030  [4.61512051684126, 6.90875477931522, 10.598857...   \n",
       "2  10038  [7.4127640174265625, 7.370230641807081, 7.8180...   \n",
       "3  10057  [7.494708263135679, 7.736394428979239, 10.7789...   \n",
       "4  10062  [8.31898612539206, 8.824824939175638, 6.509067...   \n",
       "\n",
       "                                          event_time  \\\n",
       "0  [17120.38773148148, 17133.667800925927, 17134....   \n",
       "1  [17141.0, 17141.0, 17145.0, 17147.0, 17147.0, ...   \n",
       "2  [17301.0, 17301.0, 17301.0, 17301.774780092594...   \n",
       "3  [17151.0, 17151.0, 17153.0, 17154.0, 17155.0, ...   \n",
       "4  [17143.0, 17143.0, 17143.0, 17144.0, 17144.0, ...   \n",
       "\n",
       "                                                 mcc  \\\n",
       "0  [13, 2, 13, 2, 1, 18, 13, 2, 13, 2, 5, 13, 9, ...   \n",
       "1  [9, 9, 21, 1, 25, 6, 14, 14, 3, 3, 3, 13, 1, 3...   \n",
       "2  [1, 1, 1, 2, 2, 4, 2, 8, 1, 22, 8, 1, 8, 4, 2,...   \n",
       "3  [6, 21, 2, 6, 2, 4, 2, 22, 15, 2, 1, 35, 4, 2,...   \n",
       "4  [80, 15, 37, 38, 11, 11, 2, 24, 7, 5, 5, 11, 1...   \n",
       "\n",
       "                                        channel_type  \\\n",
       "0      [1, 1, 1, 1, 1, 1, 1, 1, 1, 1, 1, 1, 1, 1, 1]   \n",
       "1  [1, 1, 1, 1, 1, 1, 1, 1, 1, 1, 1, 1, 1, 1, 1, ...   \n",
       "2  [1, 1, 1, 1, 1, 1, 1, 1, 1, 1, 1, 1, 1, 1, 1, ...   \n",
       "3  [1, 1, 1, 1, 1, 1, 1, 1, 1, 1, 1, 1, 1, 1, 1, ...   \n",
       "4  [1, 1, 1, 1, 1, 1, 1, 1, 1, 1, 1, 1, 1, 1, 1, ...   \n",
       "\n",
       "                                            currency  \\\n",
       "0      [1, 1, 1, 1, 1, 1, 1, 1, 1, 1, 1, 1, 1, 1, 1]   \n",
       "1  [1, 1, 1, 1, 1, 1, 1, 1, 1, 1, 1, 1, 1, 1, 1, ...   \n",
       "2  [1, 1, 1, 1, 1, 1, 1, 1, 1, 1, 1, 1, 1, 1, 1, ...   \n",
       "3  [1, 1, 1, 1, 1, 1, 1, 1, 1, 1, 1, 1, 1, 1, 1, ...   \n",
       "4  [1, 1, 1, 1, 1, 1, 1, 1, 1, 1, 1, 1, 1, 1, 1, ...   \n",
       "\n",
       "                                        trx_category  trx_count  \\\n",
       "0      [5, 3, 5, 3, 1, 1, 5, 3, 5, 3, 1, 5, 5, 5, 5]         15   \n",
       "1  [5, 5, 1, 1, 1, 1, 1, 1, 1, 1, 1, 7, 1, 1, 3, ...         42   \n",
       "2  [1, 1, 1, 2, 2, 1, 3, 1, 1, 1, 1, 1, 1, 1, 2, ...        111   \n",
       "3  [1, 1, 4, 1, 4, 1, 3, 1, 1, 3, 1, 1, 1, 4, 1, ...         61   \n",
       "4  [1, 1, 1, 1, 1, 1, 3, 1, 1, 1, 1, 1, 1, 1, 1, ...         82   \n",
       "\n",
       "  target_target_flag target_target_sum  \n",
       "0                  0               0.0  \n",
       "1                  1             59.51  \n",
       "2                  0               0.0  \n",
       "3                  1          62961.31  \n",
       "4                  1         107126.35  "
      ]
     },
     "execution_count": 3,
     "metadata": {},
     "output_type": "execute_result"
    }
   ],
   "source": [
    "df = pd.read_parquet(conf.train_path)\n",
    "df.head()"
   ]
  },
  {
   "cell_type": "code",
   "execution_count": 4,
   "metadata": {},
   "outputs": [],
   "source": [
    "#df.loc[:32].to_parquet('../data/train_subset.parquet')"
   ]
  },
  {
   "cell_type": "code",
   "execution_count": 5,
   "metadata": {},
   "outputs": [
    {
     "name": "stderr",
     "output_type": "stream",
     "text": [
      "33it [00:00, 6407.37it/s]\n"
     ]
    }
   ],
   "source": [
    "train_loader, valid_loader = create_data_loaders(conf)"
   ]
  },
  {
   "cell_type": "code",
   "execution_count": 12,
   "metadata": {},
   "outputs": [],
   "source": [
    "for batch in train_loader:\n",
    "    break"
   ]
  },
  {
   "cell_type": "code",
   "execution_count": 13,
   "metadata": {},
   "outputs": [],
   "source": [
    "net = MegaNet(model_conf=model_conf, data_conf=conf)"
   ]
  },
  {
   "cell_type": "code",
   "execution_count": 14,
   "metadata": {},
   "outputs": [],
   "source": [
    "out = net(batch[0])"
   ]
  },
  {
   "cell_type": "code",
   "execution_count": 15,
   "metadata": {},
   "outputs": [
    {
     "data": {
      "text/plain": [
       "dict_keys(['x_recon', 'z', 'x', 'time_steps', 'mu', 'log_std'])"
      ]
     },
     "execution_count": 15,
     "metadata": {},
     "output_type": "execute_result"
    }
   ],
   "source": [
    "out.keys()"
   ]
  },
  {
   "cell_type": "code",
   "execution_count": 16,
   "metadata": {},
   "outputs": [
    {
     "data": {
      "text/plain": [
       "torch.Size([5, 20, 100, 65])"
      ]
     },
     "execution_count": 16,
     "metadata": {},
     "output_type": "execute_result"
    }
   ],
   "source": [
    "out['x_recon'].size()"
   ]
  },
  {
   "cell_type": "code",
   "execution_count": 17,
   "metadata": {},
   "outputs": [],
   "source": [
    "loss_out = net.loss(out)"
   ]
  },
  {
   "cell_type": "code",
   "execution_count": 18,
   "metadata": {},
   "outputs": [
    {
     "data": {
      "text/plain": [
       "{'elbo_loss': tensor(137271.9688, grad_fn=<AddBackward0>),\n",
       " 'kl_loss': tensor(7.8348, grad_fn=<MeanBackward0>),\n",
       " 'recon_loss': tensor(137271.1875, grad_fn=<MeanBackward0>)}"
      ]
     },
     "execution_count": 18,
     "metadata": {},
     "output_type": "execute_result"
    }
   ],
   "source": [
    "loss_out"
   ]
  },
  {
   "cell_type": "code",
   "execution_count": 19,
   "metadata": {},
   "outputs": [],
   "source": []
  },
  {
   "cell_type": "code",
   "execution_count": 6,
   "metadata": {},
   "outputs": [],
   "source": [
    "def perform_epoch(model, batch, optimizer):\n",
    "    optimizer.zero_grad()\n",
    "    out = model(batch[0])\n",
    "    loss = model.loss(out)\n",
    "    loss['elbo_loss'].backward()\n",
    "    optimizer.step\n",
    "\n",
    "    return loss\n",
    "\n",
    "def train(model, loader, optimizer, num_epochs):\n",
    "\n",
    "    model.train()\n",
    "    recon_loss = []\n",
    "    kl_loss = []\n",
    "    for epoch in range(num_epochs):\n",
    "        for i, batch in tqdm(enumerate(loader), total=len(loader)):\n",
    "            loss = perform_epoch(model, batch, optimizer)\n",
    "            recon_loss.append(loss['recon_loss'].detach().item())\n",
    "            kl_loss.append(loss['kl_loss'].detach().item())\n",
    "\n",
    "            if (i+1) % 1 == 0:\n",
    "                plot_losses(recon_loss, kl_loss)\n",
    "\n",
    "\n",
    "def plot_losses(recon_loss, kl_loss):\n",
    "    clear_output(True)\n",
    "    plt.plot(np.log(recon_loss), color='g', label='recon')\n",
    "    plt.plot(kl_loss, color='r', label='kl')\n",
    "    plt.legend()   \n",
    "    plt.show() "
   ]
  },
  {
   "cell_type": "code",
   "execution_count": 7,
   "metadata": {},
   "outputs": [],
   "source": [
    "lr = 3e-2\n",
    "net = MegaNet(model_conf=model_conf, data_conf=conf)\n",
    "optimizer = torch.optim.Adam(net.parameters(), lr=lr)\n"
   ]
  },
  {
   "cell_type": "code",
   "execution_count": 8,
   "metadata": {},
   "outputs": [
    {
     "data": {
      "image/png": "[encoded data removed]",
      "text/plain": [
       "<Figure size 640x480 with 1 Axes>"
      ]
     },
     "metadata": {},
     "output_type": "display_data"
    },
    {
     "name": "stderr",
     "output_type": "stream",
     "text": [
      "100%|██████████| 8/8 [00:01<00:00,  4.60it/s]\n"
     ]
    }
   ],
   "source": [
    "train(net, train_loader, optimizer, 10)"
   ]
  },
  {
   "cell_type": "code",
   "execution_count": 27,
   "metadata": {},
   "outputs": [],
   "source": [
    "kl_loss = [3, 2, 1]\n",
    "recon_loss = [7, 5, 2]"
   ]
  },
  {
   "cell_type": "code",
   "execution_count": 28,
   "metadata": {},
   "outputs": [
    {
     "data": {
      "image/png": "[encoded data removed]",
      "text/plain": [
       "<Figure size 640x480 with 1 Axes>"
      ]
     },
     "metadata": {},
     "output_type": "display_data"
    }
   ],
   "source": [
    "plot_losses(recon_loss, kl_loss)"
   ]
  },
  {
   "cell_type": "code",
   "execution_count": null,
   "metadata": {},
   "outputs": [],
   "source": []
  }
 ],
 "metadata": {
  "kernelspec": {
   "display_name": "audio",
   "language": "python",
   "name": "audio"
  },
  "language_info": {
   "codemirror_mode": {
    "name": "ipython",
    "version": 3
   },
   "file_extension": ".py",
   "mimetype": "text/x-python",
   "name": "python",
   "nbconvert_exporter": "python",
   "pygments_lexer": "ipython3",
   "version": "3.7.16"
  },
  "orig_nbformat": 4
 },
 "nbformat": 4,
 "nbformat_minor": 2
}
