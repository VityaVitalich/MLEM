{
 "cells": [
  {
   "cell_type": "code",
   "execution_count": 1,
   "metadata": {},
   "outputs": [],
   "source": [
    "import functools\n",
    "import operator\n",
    "from collections import defaultdict\n",
    "from typing import Dict\n",
    "import pandas as pd\n",
    "import numpy as np\n",
    "\n",
    "import torch\n",
    "from torch.utils.data import DataLoader\n",
    "from torch.nn.utils.rnn import pad_sequence\n",
    "\n",
    "import sys\n",
    "\n",
    "sys.path.append('../../../')\n",
    "\n",
    "from src.data_load.dataloader import create_data_loaders, create_test_loader\n",
    "\n",
    "from src.data_load import split_strategy\n",
    "from src.data_load.data_utils import prepare_data, prepare_test_data\n",
    "from src.data_load.splitting_dataset import (\n",
    "    ConvertingTrxDataset,\n",
    "    DropoutTrxDataset,\n",
    "    SplittingDataset,\n",
    "    SberSplittingDataset,\n",
    "    TargetEnumeratorDataset,\n",
    ")\n",
    "from src.data_load.parquet_ds import TxnParquetDataset\n",
    "from src.data_load.dataloader import collate_splitted_rows\n",
    "from configs.data_configs.rosbank import data_configs\n",
    "\n",
    "import dask.dataframe as da\n"
   ]
  },
  {
   "cell_type": "code",
   "execution_count": 4,
   "metadata": {},
   "outputs": [],
   "source": [
    "class A():\n",
    "\n",
    "    def f(self):\n",
    "        print(1)\n",
    "\n",
    "class B():\n",
    "    def f(self):\n",
    "        print(2)\n",
    "\n",
    "class C(B, A):\n",
    "    pass"
   ]
  },
  {
   "cell_type": "code",
   "execution_count": 5,
   "metadata": {},
   "outputs": [
    {
     "name": "stdout",
     "output_type": "stream",
     "text": [
      "2\n"
     ]
    }
   ],
   "source": [
    "c = C()\n",
    "c.f()"
   ]
  },
  {
   "cell_type": "code",
   "execution_count": 2,
   "metadata": {},
   "outputs": [],
   "source": [
    "conf = data_configs()"
   ]
  },
  {
   "cell_type": "code",
   "execution_count": 3,
   "metadata": {},
   "outputs": [],
   "source": [
    "df1 = pd.read_parquet(conf.test_path)"
   ]
  },
  {
   "cell_type": "code",
   "execution_count": 4,
   "metadata": {},
   "outputs": [
    {
     "data": {
      "text/html": [
       "<div>\n",
       "<style scoped>\n",
       "    .dataframe tbody tr th:only-of-type {\n",
       "        vertical-align: middle;\n",
       "    }\n",
       "\n",
       "    .dataframe tbody tr th {\n",
       "        vertical-align: top;\n",
       "    }\n",
       "\n",
       "    .dataframe thead th {\n",
       "        text-align: right;\n",
       "    }\n",
       "</style>\n",
       "<table border=\"1\" class=\"dataframe\">\n",
       "  <thead>\n",
       "    <tr style=\"text-align: right;\">\n",
       "      <th></th>\n",
       "      <th>cl_id</th>\n",
       "      <th>amount</th>\n",
       "      <th>event_time</th>\n",
       "      <th>mcc</th>\n",
       "      <th>channel_type</th>\n",
       "      <th>currency</th>\n",
       "      <th>trx_category</th>\n",
       "      <th>trx_count</th>\n",
       "      <th>target_target_flag</th>\n",
       "      <th>target_target_sum</th>\n",
       "    </tr>\n",
       "  </thead>\n",
       "  <tbody>\n",
       "    <tr>\n",
       "      <th>0</th>\n",
       "      <td>10096</td>\n",
       "      <td>[5.209486152841421, 11.289794413577894, 6.5381...</td>\n",
       "      <td>[17310.0, 17310.44556712963, 17312.0, 17312.0,...</td>\n",
       "      <td>[3, 2, 1, 8, 16, 32, 1, 5, 16, 1, 3, 3, 8, 3, ...</td>\n",
       "      <td>[1, 1, 1, 1, 1, 1, 1, 1, 1, 1, 1, 1, 1, 1, 1, ...</td>\n",
       "      <td>[1, 1, 1, 1, 1, 1, 1, 1, 1, 1, 1, 1, 1, 1, 1, ...</td>\n",
       "      <td>[1, 2, 1, 1, 1, 1, 1, 1, 1, 1, 1, 1, 1, 1, 1, ...</td>\n",
       "      <td>186</td>\n",
       "      <td>0</td>\n",
       "      <td>0.0</td>\n",
       "    </tr>\n",
       "    <tr>\n",
       "      <th>1</th>\n",
       "      <td>1718</td>\n",
       "      <td>[10.463131911491967, 9.200391041122515, 8.4765...</td>\n",
       "      <td>[17113.0, 17113.0, 17113.065914351853, 17117.0...</td>\n",
       "      <td>[2, 80, 2, 2, 1, 6, 6, 1, 2, 100, 2, 2, 2, 1, ...</td>\n",
       "      <td>[2, 2, 2, 2, 2, 2, 2, 2, 2, 2, 2, 2, 2, 2, 2, ...</td>\n",
       "      <td>[1, 1, 1, 1, 1, 1, 1, 1, 1, 1, 1, 1, 1, 1, 1, ...</td>\n",
       "      <td>[6, 1, 3, 6, 1, 1, 1, 1, 3, 1, 3, 3, 6, 1, 1, ...</td>\n",
       "      <td>42</td>\n",
       "      <td>1</td>\n",
       "      <td>95755.67</td>\n",
       "    </tr>\n",
       "    <tr>\n",
       "      <th>2</th>\n",
       "      <td>3260</td>\n",
       "      <td>[5.995207533386816, 4.0943445622221, 6.0776422...</td>\n",
       "      <td>[17444.0, 17445.0, 17445.0, 17445.0, 17445.617...</td>\n",
       "      <td>[1, 1, 4, 1, 2, 1, 47, 1, 3, 17, 1, 1, 1, 8, 8...</td>\n",
       "      <td>[2, 2, 2, 2, 2, 2, 2, 2, 2, 2, 2, 2, 2, 2, 2, ...</td>\n",
       "      <td>[1, 1, 1, 1, 1, 1, 1, 1, 1, 1, 1, 1, 1, 1, 1, ...</td>\n",
       "      <td>[1, 1, 1, 1, 3, 1, 1, 1, 1, 1, 1, 1, 1, 1, 1, ...</td>\n",
       "      <td>169</td>\n",
       "      <td>1</td>\n",
       "      <td>36862.75</td>\n",
       "    </tr>\n",
       "    <tr>\n",
       "      <th>3</th>\n",
       "      <td>3529</td>\n",
       "      <td>[7.941626359306345, 7.692113339595466, 6.04263...</td>\n",
       "      <td>[17214.0, 17214.0, 17214.0, 17214.0, 17216.0, ...</td>\n",
       "      <td>[1, 1, 86, 26, 23, 1, 1, 7, 3, 11, 1, 1, 4, 1,...</td>\n",
       "      <td>[1, 1, 1, 1, 1, 1, 1, 1, 1, 1, 1, 1, 1, 1, 1, ...</td>\n",
       "      <td>[1, 1, 1, 1, 1, 1, 1, 1, 1, 1, 1, 1, 1, 1, 1, ...</td>\n",
       "      <td>[1, 1, 1, 1, 1, 1, 1, 1, 1, 1, 1, 1, 1, 1, 1, ...</td>\n",
       "      <td>69</td>\n",
       "      <td>1</td>\n",
       "      <td>9553.28</td>\n",
       "    </tr>\n",
       "    <tr>\n",
       "      <th>4</th>\n",
       "      <td>5335</td>\n",
       "      <td>[8.006700845440367, 7.484930283289661, 7.10414...</td>\n",
       "      <td>[17203.0, 17203.0, 17203.0, 17203.668090277777...</td>\n",
       "      <td>[25, 16, 31, 2, 2, 2, 52, 3, 3, 17, 17, 1, 28,...</td>\n",
       "      <td>[1, 1, 1, 1, 1, 1, 1, 1, 1, 1, 1, 1, 1, 1, 1, ...</td>\n",
       "      <td>[1, 1, 1, 1, 1, 1, 1, 1, 1, 1, 1, 1, 1, 1, 1, ...</td>\n",
       "      <td>[1, 1, 1, 2, 2, 3, 1, 1, 1, 1, 1, 1, 1, 1, 1, ...</td>\n",
       "      <td>155</td>\n",
       "      <td>0</td>\n",
       "      <td>0.0</td>\n",
       "    </tr>\n",
       "    <tr>\n",
       "      <th>...</th>\n",
       "      <td>...</td>\n",
       "      <td>...</td>\n",
       "      <td>...</td>\n",
       "      <td>...</td>\n",
       "      <td>...</td>\n",
       "      <td>...</td>\n",
       "      <td>...</td>\n",
       "      <td>...</td>\n",
       "      <td>...</td>\n",
       "      <td>...</td>\n",
       "    </tr>\n",
       "    <tr>\n",
       "      <th>495</th>\n",
       "      <td>5712</td>\n",
       "      <td>[5.471850417308912, 10.986361642914657, 5.2522...</td>\n",
       "      <td>[17146.0, 17149.0, 17150.0, 17150.0, 17151.0, ...</td>\n",
       "      <td>[20, 58, 10, 1, 96, 10, 1, 20, 13, 13, 1, 1, 2...</td>\n",
       "      <td>[1, 1, 1, 1, 1, 1, 1, 1, 1, 1, 1, 1, 1, 1, 1, ...</td>\n",
       "      <td>[1, 1, 1, 1, 1, 1, 1, 1, 1, 1, 1, 1, 1, 1, 1, ...</td>\n",
       "      <td>[1, 1, 1, 1, 1, 1, 1, 1, 7, 5, 1, 1, 3, 5, 7, ...</td>\n",
       "      <td>120</td>\n",
       "      <td>0</td>\n",
       "      <td>0.0</td>\n",
       "    </tr>\n",
       "    <tr>\n",
       "      <th>496</th>\n",
       "      <td>7975</td>\n",
       "      <td>[10.308985993422082, 8.006700845440367, 8.9873...</td>\n",
       "      <td>[17099.56758101852, 17099.568668981483, 17101....</td>\n",
       "      <td>[2, 2, 2, 18, 3, 2, 46, 2, 94, 2, 8, 8, 3, 8, ...</td>\n",
       "      <td>[1, 1, 1, 1, 1, 1, 1, 1, 1, 1, 1, 1, 1, 1, 1, ...</td>\n",
       "      <td>[1, 1, 1, 1, 1, 1, 1, 1, 1, 1, 1, 1, 1, 1, 1, ...</td>\n",
       "      <td>[2, 2, 2, 1, 1, 2, 1, 2, 1, 2, 1, 1, 1, 1, 1, ...</td>\n",
       "      <td>52</td>\n",
       "      <td>0</td>\n",
       "      <td>0.0</td>\n",
       "    </tr>\n",
       "    <tr>\n",
       "      <th>497</th>\n",
       "      <td>8507</td>\n",
       "      <td>[7.333676395657684, 6.786716950605081, 7.04056...</td>\n",
       "      <td>[17144.0, 17144.0, 17146.0, 17146.0, 17146.0, ...</td>\n",
       "      <td>[10, 14, 4, 1, 7, 14, 6, 1, 2, 6, 19, 1, 14, 1...</td>\n",
       "      <td>[1, 1, 1, 1, 1, 1, 1, 1, 1, 1, 1, 1, 1, 1, 1, ...</td>\n",
       "      <td>[1, 1, 1, 1, 1, 1, 1, 1, 1, 1, 1, 1, 1, 1, 1, ...</td>\n",
       "      <td>[1, 1, 1, 1, 1, 1, 1, 1, 2, 1, 1, 1, 1, 1, 1, ...</td>\n",
       "      <td>206</td>\n",
       "      <td>1</td>\n",
       "      <td>351105.52</td>\n",
       "    </tr>\n",
       "    <tr>\n",
       "      <th>498</th>\n",
       "      <td>8928</td>\n",
       "      <td>[6.908614909394019, 4.804021044733257, 10.1058...</td>\n",
       "      <td>[17348.0, 17349.0, 17349.0, 17349.0, 17349.0, ...</td>\n",
       "      <td>[6, 16, 32, 19, 16, 27, 36, 26, 2, 16, 16, 16,...</td>\n",
       "      <td>[1, 1, 1, 1, 1, 1, 1, 1, 1, 1, 1, 1, 1, 1, 1, ...</td>\n",
       "      <td>[1, 1, 1, 1, 1, 1, 1, 1, 1, 1, 1, 1, 1, 1, 1, ...</td>\n",
       "      <td>[1, 1, 1, 1, 1, 1, 1, 1, 2, 1, 1, 1, 1, 1, 1, ...</td>\n",
       "      <td>84</td>\n",
       "      <td>1</td>\n",
       "      <td>1378.0</td>\n",
       "    </tr>\n",
       "    <tr>\n",
       "      <th>499</th>\n",
       "      <td>9015</td>\n",
       "      <td>[7.360930603246378, 8.517393171418904, 5.50728...</td>\n",
       "      <td>[17200.0, 17200.522534722222, 17201.0, 17201.0...</td>\n",
       "      <td>[37, 9, 1, 7, 10, 9, 15, 15, 37, 1, 2, 2, 2, 1...</td>\n",
       "      <td>[1, 1, 1, 1, 1, 1, 1, 1, 1, 1, 1, 1, 1, 1, 1, ...</td>\n",
       "      <td>[1, 1, 1, 1, 1, 1, 1, 1, 1, 1, 1, 1, 1, 1, 1, ...</td>\n",
       "      <td>[1, 2, 1, 1, 1, 2, 1, 1, 1, 1, 2, 2, 3, 1, 1, ...</td>\n",
       "      <td>67</td>\n",
       "      <td>1</td>\n",
       "      <td>7200.43</td>\n",
       "    </tr>\n",
       "  </tbody>\n",
       "</table>\n",
       "<p>500 rows × 10 columns</p>\n",
       "</div>"
      ],
      "text/plain": [
       "     cl_id                                             amount  \\\n",
       "0    10096  [5.209486152841421, 11.289794413577894, 6.5381...   \n",
       "1     1718  [10.463131911491967, 9.200391041122515, 8.4765...   \n",
       "2     3260  [5.995207533386816, 4.0943445622221, 6.0776422...   \n",
       "3     3529  [7.941626359306345, 7.692113339595466, 6.04263...   \n",
       "4     5335  [8.006700845440367, 7.484930283289661, 7.10414...   \n",
       "..     ...                                                ...   \n",
       "495   5712  [5.471850417308912, 10.986361642914657, 5.2522...   \n",
       "496   7975  [10.308985993422082, 8.006700845440367, 8.9873...   \n",
       "497   8507  [7.333676395657684, 6.786716950605081, 7.04056...   \n",
       "498   8928  [6.908614909394019, 4.804021044733257, 10.1058...   \n",
       "499   9015  [7.360930603246378, 8.517393171418904, 5.50728...   \n",
       "\n",
       "                                            event_time  \\\n",
       "0    [17310.0, 17310.44556712963, 17312.0, 17312.0,...   \n",
       "1    [17113.0, 17113.0, 17113.065914351853, 17117.0...   \n",
       "2    [17444.0, 17445.0, 17445.0, 17445.0, 17445.617...   \n",
       "3    [17214.0, 17214.0, 17214.0, 17214.0, 17216.0, ...   \n",
       "4    [17203.0, 17203.0, 17203.0, 17203.668090277777...   \n",
       "..                                                 ...   \n",
       "495  [17146.0, 17149.0, 17150.0, 17150.0, 17151.0, ...   \n",
       "496  [17099.56758101852, 17099.568668981483, 17101....   \n",
       "497  [17144.0, 17144.0, 17146.0, 17146.0, 17146.0, ...   \n",
       "498  [17348.0, 17349.0, 17349.0, 17349.0, 17349.0, ...   \n",
       "499  [17200.0, 17200.522534722222, 17201.0, 17201.0...   \n",
       "\n",
       "                                                   mcc  \\\n",
       "0    [3, 2, 1, 8, 16, 32, 1, 5, 16, 1, 3, 3, 8, 3, ...   \n",
       "1    [2, 80, 2, 2, 1, 6, 6, 1, 2, 100, 2, 2, 2, 1, ...   \n",
       "2    [1, 1, 4, 1, 2, 1, 47, 1, 3, 17, 1, 1, 1, 8, 8...   \n",
       "3    [1, 1, 86, 26, 23, 1, 1, 7, 3, 11, 1, 1, 4, 1,...   \n",
       "4    [25, 16, 31, 2, 2, 2, 52, 3, 3, 17, 17, 1, 28,...   \n",
       "..                                                 ...   \n",
       "495  [20, 58, 10, 1, 96, 10, 1, 20, 13, 13, 1, 1, 2...   \n",
       "496  [2, 2, 2, 18, 3, 2, 46, 2, 94, 2, 8, 8, 3, 8, ...   \n",
       "497  [10, 14, 4, 1, 7, 14, 6, 1, 2, 6, 19, 1, 14, 1...   \n",
       "498  [6, 16, 32, 19, 16, 27, 36, 26, 2, 16, 16, 16,...   \n",
       "499  [37, 9, 1, 7, 10, 9, 15, 15, 37, 1, 2, 2, 2, 1...   \n",
       "\n",
       "                                          channel_type  \\\n",
       "0    [1, 1, 1, 1, 1, 1, 1, 1, 1, 1, 1, 1, 1, 1, 1, ...   \n",
       "1    [2, 2, 2, 2, 2, 2, 2, 2, 2, 2, 2, 2, 2, 2, 2, ...   \n",
       "2    [2, 2, 2, 2, 2, 2, 2, 2, 2, 2, 2, 2, 2, 2, 2, ...   \n",
       "3    [1, 1, 1, 1, 1, 1, 1, 1, 1, 1, 1, 1, 1, 1, 1, ...   \n",
       "4    [1, 1, 1, 1, 1, 1, 1, 1, 1, 1, 1, 1, 1, 1, 1, ...   \n",
       "..                                                 ...   \n",
       "495  [1, 1, 1, 1, 1, 1, 1, 1, 1, 1, 1, 1, 1, 1, 1, ...   \n",
       "496  [1, 1, 1, 1, 1, 1, 1, 1, 1, 1, 1, 1, 1, 1, 1, ...   \n",
       "497  [1, 1, 1, 1, 1, 1, 1, 1, 1, 1, 1, 1, 1, 1, 1, ...   \n",
       "498  [1, 1, 1, 1, 1, 1, 1, 1, 1, 1, 1, 1, 1, 1, 1, ...   \n",
       "499  [1, 1, 1, 1, 1, 1, 1, 1, 1, 1, 1, 1, 1, 1, 1, ...   \n",
       "\n",
       "                                              currency  \\\n",
       "0    [1, 1, 1, 1, 1, 1, 1, 1, 1, 1, 1, 1, 1, 1, 1, ...   \n",
       "1    [1, 1, 1, 1, 1, 1, 1, 1, 1, 1, 1, 1, 1, 1, 1, ...   \n",
       "2    [1, 1, 1, 1, 1, 1, 1, 1, 1, 1, 1, 1, 1, 1, 1, ...   \n",
       "3    [1, 1, 1, 1, 1, 1, 1, 1, 1, 1, 1, 1, 1, 1, 1, ...   \n",
       "4    [1, 1, 1, 1, 1, 1, 1, 1, 1, 1, 1, 1, 1, 1, 1, ...   \n",
       "..                                                 ...   \n",
       "495  [1, 1, 1, 1, 1, 1, 1, 1, 1, 1, 1, 1, 1, 1, 1, ...   \n",
       "496  [1, 1, 1, 1, 1, 1, 1, 1, 1, 1, 1, 1, 1, 1, 1, ...   \n",
       "497  [1, 1, 1, 1, 1, 1, 1, 1, 1, 1, 1, 1, 1, 1, 1, ...   \n",
       "498  [1, 1, 1, 1, 1, 1, 1, 1, 1, 1, 1, 1, 1, 1, 1, ...   \n",
       "499  [1, 1, 1, 1, 1, 1, 1, 1, 1, 1, 1, 1, 1, 1, 1, ...   \n",
       "\n",
       "                                          trx_category  trx_count  \\\n",
       "0    [1, 2, 1, 1, 1, 1, 1, 1, 1, 1, 1, 1, 1, 1, 1, ...        186   \n",
       "1    [6, 1, 3, 6, 1, 1, 1, 1, 3, 1, 3, 3, 6, 1, 1, ...         42   \n",
       "2    [1, 1, 1, 1, 3, 1, 1, 1, 1, 1, 1, 1, 1, 1, 1, ...        169   \n",
       "3    [1, 1, 1, 1, 1, 1, 1, 1, 1, 1, 1, 1, 1, 1, 1, ...         69   \n",
       "4    [1, 1, 1, 2, 2, 3, 1, 1, 1, 1, 1, 1, 1, 1, 1, ...        155   \n",
       "..                                                 ...        ...   \n",
       "495  [1, 1, 1, 1, 1, 1, 1, 1, 7, 5, 1, 1, 3, 5, 7, ...        120   \n",
       "496  [2, 2, 2, 1, 1, 2, 1, 2, 1, 2, 1, 1, 1, 1, 1, ...         52   \n",
       "497  [1, 1, 1, 1, 1, 1, 1, 1, 2, 1, 1, 1, 1, 1, 1, ...        206   \n",
       "498  [1, 1, 1, 1, 1, 1, 1, 1, 2, 1, 1, 1, 1, 1, 1, ...         84   \n",
       "499  [1, 2, 1, 1, 1, 2, 1, 1, 1, 1, 2, 2, 3, 1, 1, ...         67   \n",
       "\n",
       "    target_target_flag target_target_sum  \n",
       "0                    0               0.0  \n",
       "1                    1          95755.67  \n",
       "2                    1          36862.75  \n",
       "3                    1           9553.28  \n",
       "4                    0               0.0  \n",
       "..                 ...               ...  \n",
       "495                  0               0.0  \n",
       "496                  0               0.0  \n",
       "497                  1         351105.52  \n",
       "498                  1            1378.0  \n",
       "499                  1           7200.43  \n",
       "\n",
       "[500 rows x 10 columns]"
      ]
     },
     "execution_count": 4,
     "metadata": {},
     "output_type": "execute_result"
    }
   ],
   "source": [
    "df1"
   ]
  },
  {
   "cell_type": "code",
   "execution_count": 3,
   "metadata": {},
   "outputs": [],
   "source": [
    "train, val = create_data_loaders(conf)"
   ]
  },
  {
   "cell_type": "code",
   "execution_count": 4,
   "metadata": {},
   "outputs": [],
   "source": [
    "for batch in train:\n",
    "    break"
   ]
  },
  {
   "cell_type": "code",
   "execution_count": 9,
   "metadata": {},
   "outputs": [
    {
     "name": "stderr",
     "output_type": "stream",
     "text": [
      "0it [00:00, ?it/s]"
     ]
    },
    {
     "name": "stderr",
     "output_type": "stream",
     "text": [
      "500it [00:00, 6565.52it/s]\n"
     ]
    }
   ],
   "source": [
    "test = create_test_loader(conf)"
   ]
  },
  {
   "cell_type": "code",
   "execution_count": 10,
   "metadata": {},
   "outputs": [],
   "source": [
    "for batch in test:\n",
    "    break"
   ]
  },
  {
   "cell_type": "code",
   "execution_count": 11,
   "metadata": {},
   "outputs": [
    {
     "data": {
      "text/plain": [
       "(<src.data_load.dataloader.PaddedBatch at 0x7fcc4eba2830>,\n",
       " tensor([[ 0,  1,  2,  3,  4,  5,  6,  7,  8,  9, 10, 11, 12, 13, 14, 15],\n",
       "         [ 0,  1,  1,  1,  0,  1,  1,  1,  0,  0,  1,  1,  1,  0,  0,  1]]))"
      ]
     },
     "execution_count": 11,
     "metadata": {},
     "output_type": "execute_result"
    }
   ],
   "source": [
    "batch"
   ]
  },
  {
   "cell_type": "code",
   "execution_count": 2,
   "metadata": {},
   "outputs": [],
   "source": [
    "path = '../../alpha/data/test_trx.parquet'\n",
    "df1 = pd.read_parquet(path)"
   ]
  },
  {
   "cell_type": "code",
   "execution_count": 7,
   "metadata": {},
   "outputs": [],
   "source": [
    "df1 = df1[~df1['target_target_flag'].isna()]"
   ]
  },
  {
   "cell_type": "code",
   "execution_count": 3,
   "metadata": {},
   "outputs": [],
   "source": [
    "df1 = df1.sample(10000)"
   ]
  },
  {
   "cell_type": "code",
   "execution_count": 4,
   "metadata": {},
   "outputs": [],
   "source": [
    "import pyarrow as pa\n",
    "import numpy as np\n",
    "\n",
    "# df is your dataframe\n",
    "n_partition = 10\n",
    "df1[\"partition_idx\"] = np.random.choice(range(n_partition), size=df1.shape[0])\n",
    "table = pa.Table.from_pandas(df1, preserve_index=False)\n"
   ]
  },
  {
   "cell_type": "code",
   "execution_count": 5,
   "metadata": {},
   "outputs": [],
   "source": [
    "pa.parquet.write_to_dataset(table, root_path=\"../../alpha/data/test_subset.parquet/\", partition_cols=[\"partition_idx\"])"
   ]
  },
  {
   "cell_type": "code",
   "execution_count": null,
   "metadata": {},
   "outputs": [],
   "source": [
    "pq.write_to_dataset(table, root_path=\"../data/train.parquet/\", partition_cols=[\"partition_idx\"])"
   ]
  },
  {
   "cell_type": "code",
   "execution_count": null,
   "metadata": {},
   "outputs": [],
   "source": [
    "import pyarrow as pa"
   ]
  },
  {
   "cell_type": "code",
   "execution_count": null,
   "metadata": {},
   "outputs": [],
   "source": [
    "pa.Table.from_pandas"
   ]
  },
  {
   "cell_type": "code",
   "execution_count": null,
   "metadata": {},
   "outputs": [],
   "source": [
    "arr = np.array([1, 2, 3])\n",
    "arr.astype(float)"
   ]
  },
  {
   "cell_type": "code",
   "execution_count": null,
   "metadata": {},
   "outputs": [],
   "source": [
    "for batch in train:\n",
    "    break"
   ]
  },
  {
   "cell_type": "code",
   "execution_count": null,
   "metadata": {},
   "outputs": [],
   "source": [
    "arr = np.array(['2.83321334 3.27865303'])"
   ]
  },
  {
   "cell_type": "code",
   "execution_count": null,
   "metadata": {},
   "outputs": [],
   "source": [
    "df = pd.read_parquet(conf.train_path)"
   ]
  },
  {
   "cell_type": "code",
   "execution_count": null,
   "metadata": {},
   "outputs": [],
   "source": [
    "df['amount']"
   ]
  },
  {
   "cell_type": "code",
   "execution_count": null,
   "metadata": {},
   "outputs": [],
   "source": [
    "# df = pd.read_parquet(conf.train_path)\n",
    "# ddf = da.from_pandas(df, chunksize=100)\n",
    "# save_dir = '../data/train.parquet'\n",
    "# ddf.to_parquet(save_dir)"
   ]
  },
  {
   "cell_type": "code",
   "execution_count": null,
   "metadata": {},
   "outputs": [],
   "source": [
    "data = TxnParquetDataset(conf, test=False)"
   ]
  },
  {
   "cell_type": "code",
   "execution_count": null,
   "metadata": {},
   "outputs": [],
   "source": [
    "conf.valid_size"
   ]
  },
  {
   "cell_type": "code",
   "execution_count": null,
   "metadata": {},
   "outputs": [],
   "source": [
    "len(data._rg_lens)"
   ]
  },
  {
   "cell_type": "code",
   "execution_count": null,
   "metadata": {},
   "outputs": [],
   "source": [
    "def _pump_my_dataset(dataset, conf, split):\n",
    "    dataset_type = SplittingDataset\n",
    "    if hasattr(conf, \"sber\") and conf.sber == True:\n",
    "        dataset_type = SberSplittingDataset\n",
    "        \n",
    "    dataset = dataset_type(\n",
    "        dataset,\n",
    "        split_strategy.create(**conf[split].split_strategy),\n",
    "        conf.features.target_col,\n",
    "    )\n",
    "    dataset = TargetEnumeratorDataset(dataset)\n",
    "    dataset = ConvertingTrxDataset(dataset)\n",
    "    \n",
    "    dropout = conf[split].dropout if hasattr(conf[split], \"dropout\") else 0.0\n",
    "    dataset = DropoutTrxDataset(\n",
    "        dataset, trx_dropout=dropout, seq_len=conf[split].max_seq_len\n",
    "    )\n",
    "    return dataset  \n",
    "\n",
    "train_sampler, val_sampler = data.get_train_val_samplers(conf.valid_size)\n"
   ]
  },
  {
   "cell_type": "code",
   "execution_count": null,
   "metadata": {},
   "outputs": [],
   "source": [
    "conf.train.dropout = 0\n",
    "assert conf.train.dropout == 0.0\n",
    "data = _pump_my_dataset(data, conf, \"train\")\n"
   ]
  },
  {
   "cell_type": "code",
   "execution_count": null,
   "metadata": {},
   "outputs": [],
   "source": [
    "conf.valid_size"
   ]
  },
  {
   "cell_type": "code",
   "execution_count": null,
   "metadata": {},
   "outputs": [],
   "source": [
    "train_loader = DataLoader(\n",
    "    dataset=data,\n",
    "    sampler=train_sampler,\n",
    "    collate_fn=collate_splitted_rows,\n",
    "    num_workers=conf.train.num_workers,\n",
    "    batch_size=conf.train.batch_size,\n",
    ")\n",
    "valid_loader = DataLoader(\n",
    "    dataset=data,\n",
    "    sampler=val_sampler,\n",
    "    collate_fn=collate_splitted_rows,\n",
    "    num_workers=conf.val.num_workers,\n",
    "    batch_size=conf.val.batch_size,\n",
    ")"
   ]
  },
  {
   "cell_type": "code",
   "execution_count": null,
   "metadata": {},
   "outputs": [],
   "source": [
    "len(valid_loader), len(train_loader)"
   ]
  },
  {
   "cell_type": "code",
   "execution_count": null,
   "metadata": {},
   "outputs": [],
   "source": [
    "train_sampler, val_sampler = data.get_train_val_samplers(conf.valid_size)\n",
    "assert conf.train.dropout == 0.0\n",
    "data = _pump_my_dataset(data, conf, \"train\")\n",
    "\n",
    "train_loader = DataLoader(\n",
    "    dataset=data,\n",
    "    sampler=train_sampler,\n",
    "    collate_fn=collate_splitted_rows,\n",
    "    num_workers=conf.train.num_workers,\n",
    "    batch_size=conf.train.batch_size,\n",
    ")\n",
    "valid_loader = DataLoader(\n",
    "    dataset=data,\n",
    "    sampler=val_sampler,\n",
    "    collate_fn=collate_splitted_rows,\n",
    "    num_workers=conf.val.num_workers,\n",
    "    batch_size=conf.val.batch_size,\n",
    ")\n",
    "return train_loader, valid_loader"
   ]
  }
 ],
 "metadata": {
  "kernelspec": {
   "display_name": "Python 3",
   "language": "python",
   "name": "python3"
  },
  "language_info": {
   "codemirror_mode": {
    "name": "ipython",
    "version": 3
   },
   "file_extension": ".py",
   "mimetype": "text/x-python",
   "name": "python",
   "nbconvert_exporter": "python",
   "pygments_lexer": "ipython3",
   "version": "3.10.12"
  }
 },
 "nbformat": 4,
 "nbformat_minor": 2
}
